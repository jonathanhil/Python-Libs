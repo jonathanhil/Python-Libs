{
  "nbformat": 4,
  "nbformat_minor": 0,
  "metadata": {
    "colab": {
      "provenance": []
    },
    "kernelspec": {
      "name": "python3",
      "display_name": "Python 3"
    },
    "language_info": {
      "name": "python"
    }
  },
  "cells": [
    {
      "cell_type": "markdown",
      "source": [
        "# **Task 1**"
      ],
      "metadata": {
        "id": "1xMK9LCgEm7J"
      }
    },
    {
      "cell_type": "markdown",
      "source": [
        "Write a program to calculate the sum of integers between 0 and 1000 (both included) that are divisible by 2 or 5, but not by 10."
      ],
      "metadata": {
        "id": "b9iWwEKEE3S2"
      }
    },
    {
      "cell_type": "code",
      "source": [
        "sum = 0\n",
        "for number in range(0, 1001, 1):\n",
        "  if (number%2==0 or number%5==0) and number%10!=0:\n",
        "    sum += number\n",
        "print(sum)"
      ],
      "metadata": {
        "colab": {
          "base_uri": "https://localhost:8080/"
        },
        "id": "D_6F3rOFEEru",
        "outputId": "dc21c19d-d035-4514-bb83-45a8ddf48cc4"
      },
      "execution_count": null,
      "outputs": [
        {
          "output_type": "stream",
          "name": "stdout",
          "text": [
            "250000\n"
          ]
        }
      ]
    },
    {
      "cell_type": "markdown",
      "source": [
        "# **Task 2**"
      ],
      "metadata": {
        "id": "r5EhIhH9E7hd"
      }
    },
    {
      "cell_type": "markdown",
      "source": [
        "Write a program that counts the total number of digits in a number. For example the number of digits for the number 987354 is 6."
      ],
      "metadata": {
        "id": "eZupnzpBFEuL"
      }
    },
    {
      "cell_type": "code",
      "source": [
        "n=int(input(\"Enter number: \"))\n",
        "count=0\n",
        "while(n>0):\n",
        "    count+=1\n",
        "    n=n//10\n",
        "print(\"The number of digits in the number are:\",count)"
      ],
      "metadata": {
        "colab": {
          "base_uri": "https://localhost:8080/"
        },
        "id": "wSsNZQxkEI4Z",
        "outputId": "9d77444a-4b16-40fe-f1df-3b0f947b3843"
      },
      "execution_count": null,
      "outputs": [
        {
          "output_type": "stream",
          "name": "stdout",
          "text": [
            "Enter number: 345\n",
            "The number of digits in the number are: 3\n"
          ]
        }
      ]
    },
    {
      "cell_type": "markdown",
      "source": [
        "# **Task 3**"
      ],
      "metadata": {
        "id": "-V17IGNJFJi1"
      }
    },
    {
      "cell_type": "markdown",
      "source": [
        "\n",
        "Write a program to calculate the factorial of a number chosen by the user. For example, the factorial of 4 is equal to 4 * 3 * 2 * 1."
      ],
      "metadata": {
        "id": "V6B7HlA5FNDu"
      }
    },
    {
      "cell_type": "code",
      "source": [
        "n=int(input(\"Enter number: \"))\n",
        "factorial = 1\n",
        "\n",
        "for i in range(1,n + 1):\n",
        "  factorial *= i\n",
        "print(\"The factorial of\",n,\"is\",factorial)"
      ],
      "metadata": {
        "colab": {
          "base_uri": "https://localhost:8080/"
        },
        "id": "TZBJ-R7DEOM_",
        "outputId": "e2824518-c6d6-4980-ad60-0198d39e3497"
      },
      "execution_count": null,
      "outputs": [
        {
          "output_type": "stream",
          "name": "stdout",
          "text": [
            "Enter number: 7\n",
            "The factorial of 7 is 5040\n"
          ]
        }
      ]
    },
    {
      "cell_type": "markdown",
      "source": [
        "# **Task 4**"
      ],
      "metadata": {
        "id": "K3peYUyKFSBU"
      }
    },
    {
      "cell_type": "markdown",
      "source": [
        "\n",
        "Write a program that reverses the digits of a number. For example, 67531 becomes 13576."
      ],
      "metadata": {
        "id": "IOKY7cUiFVx6"
      }
    },
    {
      "cell_type": "code",
      "source": [
        "num = int(input(\"Enter number: \"))\n",
        "reversed_num = 0\n",
        "\n",
        "while num != 0:\n",
        "    digit = num % 10\n",
        "    reversed_num = reversed_num * 10 + digit\n",
        "    num //= 10\n",
        "\n",
        "print(\"Reversed Number: \" + str(reversed_num))"
      ],
      "metadata": {
        "colab": {
          "base_uri": "https://localhost:8080/"
        },
        "id": "dBxp0t1EETLU",
        "outputId": "7695d251-66b4-4307-8405-c22717f194db"
      },
      "execution_count": null,
      "outputs": [
        {
          "output_type": "stream",
          "name": "stdout",
          "text": [
            "Enter number: 4589\n",
            "Reversed Number: 9854\n"
          ]
        }
      ]
    },
    {
      "cell_type": "markdown",
      "source": [
        "# **Task 5**"
      ],
      "metadata": {
        "id": "wdA6kniuFZ75"
      }
    },
    {
      "cell_type": "markdown",
      "source": [
        "Using the while loop, write a program that adds the squares of integers (starting with 1) until the total exceeds 300. Print the final total and the last number to be squared."
      ],
      "metadata": {
        "id": "n240X8V4FdYQ"
      }
    },
    {
      "cell_type": "code",
      "source": [
        "n = 1\n",
        "sum = 0\n",
        "\n",
        "while sum < 300:\n",
        "  n += 1\n",
        "  sum += n*n\n",
        "print(\"The final total:\", sum)\n",
        "print(\"The last number to be squared: \", n)"
      ],
      "metadata": {
        "colab": {
          "base_uri": "https://localhost:8080/"
        },
        "id": "yskXl1CVEYUB",
        "outputId": "d3bef679-483a-4d31-b55f-f1b74008052d"
      },
      "execution_count": null,
      "outputs": [
        {
          "output_type": "stream",
          "name": "stdout",
          "text": [
            "The final total: 384\n",
            "The last number to be squared:  10\n"
          ]
        }
      ]
    },
    {
      "cell_type": "markdown",
      "source": [
        "# **Task 6**"
      ],
      "metadata": {
        "id": "EDSVLsPhFgVl"
      }
    },
    {
      "cell_type": "markdown",
      "source": [
        "Write a program to display the multiplication table for all numbers between 1 and 10 (both included).\n",
        "\n",
        "* If the number is less than or equal to 5, we want to display the results of its multiplication by 1 to 10.\n",
        "* Otherwise we display the results of multiplication of this number by 1 to 5 The result will be displayed as follows :"
      ],
      "metadata": {
        "id": "hhRLL9HkFjcG"
      }
    },
    {
      "cell_type": "markdown",
      "source": [
        "# ![image.png](data:image/png;base64,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)"
      ],
      "metadata": {
        "id": "SsznksaiFvqL"
      }
    },
    {
      "cell_type": "code",
      "source": [
        "for i in range(1, 11):\n",
        "  print(\"The multiplication table of\", i, \"\\n\")\n",
        "  if i <=5:\n",
        "    for j in range(1, 11):\n",
        "      print(j*i, end=' ')\n",
        "    print(\"\\n\")\n",
        "  else:\n",
        "    for j in range (1, 6):\n",
        "      print (j*i, end=\" \")\n",
        "\n",
        "  print(\"\\n\")"
      ],
      "metadata": {
        "colab": {
          "base_uri": "https://localhost:8080/"
        },
        "id": "5sq-nHvWEcc3",
        "outputId": "e015d4d7-3eb6-40e4-a5bb-7b8609a08062"
      },
      "execution_count": null,
      "outputs": [
        {
          "output_type": "stream",
          "name": "stdout",
          "text": [
            "The multiplication table of 1 \n",
            "\n",
            "1 2 3 4 5 6 7 8 9 10 \n",
            "\n",
            "\n",
            "\n",
            "The multiplication table of 2 \n",
            "\n",
            "2 4 6 8 10 12 14 16 18 20 \n",
            "\n",
            "\n",
            "\n",
            "The multiplication table of 3 \n",
            "\n",
            "3 6 9 12 15 18 21 24 27 30 \n",
            "\n",
            "\n",
            "\n",
            "The multiplication table of 4 \n",
            "\n",
            "4 8 12 16 20 24 28 32 36 40 \n",
            "\n",
            "\n",
            "\n",
            "The multiplication table of 5 \n",
            "\n",
            "5 10 15 20 25 30 35 40 45 50 \n",
            "\n",
            "\n",
            "\n",
            "The multiplication table of 6 \n",
            "\n",
            "6 12 18 24 30 \n",
            "\n",
            "The multiplication table of 7 \n",
            "\n",
            "7 14 21 28 35 \n",
            "\n",
            "The multiplication table of 8 \n",
            "\n",
            "8 16 24 32 40 \n",
            "\n",
            "The multiplication table of 9 \n",
            "\n",
            "9 18 27 36 45 \n",
            "\n",
            "The multiplication table of 10 \n",
            "\n",
            "10 20 30 40 50 \n",
            "\n"
          ]
        }
      ]
    }
  ]
}