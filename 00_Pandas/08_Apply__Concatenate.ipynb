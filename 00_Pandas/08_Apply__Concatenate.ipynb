{
  "cells": [
    {
      "cell_type": "markdown",
      "metadata": {
        "id": "qXQwzrfmw_Uf"
      },
      "source": [
        "# Execute the code below"
      ]
    },
    {
      "cell_type": "code",
      "execution_count": 60,
      "metadata": {
        "id": "3lIRxl5vNZtI"
      },
      "outputs": [],
      "source": [
        "import pandas as pd\n",
        "import numpy as np\n",
        "link = \"https://raw.githubusercontent.com/murpi/wilddata/master/quests/weather2019.csv\"\n",
        "df_weather = pd.read_csv(link)"
      ]
    },
    {
      "cell_type": "markdown",
      "metadata": {
        "id": "YT8V5rYmxFPp"
      },
      "source": [
        "## You have now a DataFrame with lots of weather data"
      ]
    },
    {
      "cell_type": "code",
      "execution_count": 61,
      "metadata": {
        "colab": {
          "base_uri": "https://localhost:8080/",
          "height": 386
        },
        "id": "KoUPLmHxz1us",
        "outputId": "a128a47a-0cd7-46bc-974e-3d716e872780"
      },
      "outputs": [
        {
          "output_type": "execute_result",
          "data": {
            "text/plain": [
              "         DATE  MAX_TEMPERATURE_C  MIN_TEMPERATURE_C  WINDSPEED_MAX_KMH  \\\n",
              "0  2019-01-01                  9                  4                 10   \n",
              "1  2019-01-02                  8                  5                 18   \n",
              "2  2019-01-03                  6                  0                 18   \n",
              "3  2019-01-04                  5                 -1                 15   \n",
              "4  2019-01-05                  6                 -1                  8   \n",
              "\n",
              "   TEMPERATURE_MORNING_C  TEMPERATURE_NOON_C  TEMPERATURE_EVENING_C  \\\n",
              "0                      4                   7                      8   \n",
              "1                      7                   7                      5   \n",
              "2                      0                   4                      3   \n",
              "3                     -1                   4                      3   \n",
              "4                     -1                   4                      3   \n",
              "\n",
              "   PRECIP_TOTAL_DAY_MM  HUMIDITY_MAX_PERCENT  VISIBILITY_AVG_KM  ...  \\\n",
              "0                  0.2                    94                9.0  ...   \n",
              "1                  0.0                    90                9.0  ...   \n",
              "2                  0.0                    88               10.0  ...   \n",
              "3                  0.0                    91               10.0  ...   \n",
              "4                  0.0                    91                8.0  ...   \n",
              "\n",
              "   WINDTEMP_MAX_C  WEATHER_CODE_MORNING  WEATHER_CODE_NOON  \\\n",
              "0               3                   116                143   \n",
              "1               3                   119                116   \n",
              "2              -4                   116                116   \n",
              "3              -4                   116                116   \n",
              "4              -2                   143                116   \n",
              "\n",
              "   WEATHER_CODE_EVENING  TOTAL_SNOW_MM  UV_INDEX  SUNHOUR   OPINION  MONTH  \\\n",
              "0                   176              0         1      5.1  very bad      1   \n",
              "1                   116              0         1      8.7  very bad      1   \n",
              "2                   116              0         1      8.7  very bad      1   \n",
              "3                   122              0         1      5.1  very bad      1   \n",
              "4                   116              0         1      8.7  very bad      1   \n",
              "\n",
              "   DAY  \n",
              "0    1  \n",
              "1    2  \n",
              "2    3  \n",
              "3    4  \n",
              "4    5  \n",
              "\n",
              "[5 rows x 24 columns]"
            ],
            "text/html": [
              "\n",
              "  <div id=\"df-ea279fd1-04cf-4194-ad9d-39f164eb9310\">\n",
              "    <div class=\"colab-df-container\">\n",
              "      <div>\n",
              "<style scoped>\n",
              "    .dataframe tbody tr th:only-of-type {\n",
              "        vertical-align: middle;\n",
              "    }\n",
              "\n",
              "    .dataframe tbody tr th {\n",
              "        vertical-align: top;\n",
              "    }\n",
              "\n",
              "    .dataframe thead th {\n",
              "        text-align: right;\n",
              "    }\n",
              "</style>\n",
              "<table border=\"1\" class=\"dataframe\">\n",
              "  <thead>\n",
              "    <tr style=\"text-align: right;\">\n",
              "      <th></th>\n",
              "      <th>DATE</th>\n",
              "      <th>MAX_TEMPERATURE_C</th>\n",
              "      <th>MIN_TEMPERATURE_C</th>\n",
              "      <th>WINDSPEED_MAX_KMH</th>\n",
              "      <th>TEMPERATURE_MORNING_C</th>\n",
              "      <th>TEMPERATURE_NOON_C</th>\n",
              "      <th>TEMPERATURE_EVENING_C</th>\n",
              "      <th>PRECIP_TOTAL_DAY_MM</th>\n",
              "      <th>HUMIDITY_MAX_PERCENT</th>\n",
              "      <th>VISIBILITY_AVG_KM</th>\n",
              "      <th>...</th>\n",
              "      <th>WINDTEMP_MAX_C</th>\n",
              "      <th>WEATHER_CODE_MORNING</th>\n",
              "      <th>WEATHER_CODE_NOON</th>\n",
              "      <th>WEATHER_CODE_EVENING</th>\n",
              "      <th>TOTAL_SNOW_MM</th>\n",
              "      <th>UV_INDEX</th>\n",
              "      <th>SUNHOUR</th>\n",
              "      <th>OPINION</th>\n",
              "      <th>MONTH</th>\n",
              "      <th>DAY</th>\n",
              "    </tr>\n",
              "  </thead>\n",
              "  <tbody>\n",
              "    <tr>\n",
              "      <th>0</th>\n",
              "      <td>2019-01-01</td>\n",
              "      <td>9</td>\n",
              "      <td>4</td>\n",
              "      <td>10</td>\n",
              "      <td>4</td>\n",
              "      <td>7</td>\n",
              "      <td>8</td>\n",
              "      <td>0.2</td>\n",
              "      <td>94</td>\n",
              "      <td>9.0</td>\n",
              "      <td>...</td>\n",
              "      <td>3</td>\n",
              "      <td>116</td>\n",
              "      <td>143</td>\n",
              "      <td>176</td>\n",
              "      <td>0</td>\n",
              "      <td>1</td>\n",
              "      <td>5.1</td>\n",
              "      <td>very bad</td>\n",
              "      <td>1</td>\n",
              "      <td>1</td>\n",
              "    </tr>\n",
              "    <tr>\n",
              "      <th>1</th>\n",
              "      <td>2019-01-02</td>\n",
              "      <td>8</td>\n",
              "      <td>5</td>\n",
              "      <td>18</td>\n",
              "      <td>7</td>\n",
              "      <td>7</td>\n",
              "      <td>5</td>\n",
              "      <td>0.0</td>\n",
              "      <td>90</td>\n",
              "      <td>9.0</td>\n",
              "      <td>...</td>\n",
              "      <td>3</td>\n",
              "      <td>119</td>\n",
              "      <td>116</td>\n",
              "      <td>116</td>\n",
              "      <td>0</td>\n",
              "      <td>1</td>\n",
              "      <td>8.7</td>\n",
              "      <td>very bad</td>\n",
              "      <td>1</td>\n",
              "      <td>2</td>\n",
              "    </tr>\n",
              "    <tr>\n",
              "      <th>2</th>\n",
              "      <td>2019-01-03</td>\n",
              "      <td>6</td>\n",
              "      <td>0</td>\n",
              "      <td>18</td>\n",
              "      <td>0</td>\n",
              "      <td>4</td>\n",
              "      <td>3</td>\n",
              "      <td>0.0</td>\n",
              "      <td>88</td>\n",
              "      <td>10.0</td>\n",
              "      <td>...</td>\n",
              "      <td>-4</td>\n",
              "      <td>116</td>\n",
              "      <td>116</td>\n",
              "      <td>116</td>\n",
              "      <td>0</td>\n",
              "      <td>1</td>\n",
              "      <td>8.7</td>\n",
              "      <td>very bad</td>\n",
              "      <td>1</td>\n",
              "      <td>3</td>\n",
              "    </tr>\n",
              "    <tr>\n",
              "      <th>3</th>\n",
              "      <td>2019-01-04</td>\n",
              "      <td>5</td>\n",
              "      <td>-1</td>\n",
              "      <td>15</td>\n",
              "      <td>-1</td>\n",
              "      <td>4</td>\n",
              "      <td>3</td>\n",
              "      <td>0.0</td>\n",
              "      <td>91</td>\n",
              "      <td>10.0</td>\n",
              "      <td>...</td>\n",
              "      <td>-4</td>\n",
              "      <td>116</td>\n",
              "      <td>116</td>\n",
              "      <td>122</td>\n",
              "      <td>0</td>\n",
              "      <td>1</td>\n",
              "      <td>5.1</td>\n",
              "      <td>very bad</td>\n",
              "      <td>1</td>\n",
              "      <td>4</td>\n",
              "    </tr>\n",
              "    <tr>\n",
              "      <th>4</th>\n",
              "      <td>2019-01-05</td>\n",
              "      <td>6</td>\n",
              "      <td>-1</td>\n",
              "      <td>8</td>\n",
              "      <td>-1</td>\n",
              "      <td>4</td>\n",
              "      <td>3</td>\n",
              "      <td>0.0</td>\n",
              "      <td>91</td>\n",
              "      <td>8.0</td>\n",
              "      <td>...</td>\n",
              "      <td>-2</td>\n",
              "      <td>143</td>\n",
              "      <td>116</td>\n",
              "      <td>116</td>\n",
              "      <td>0</td>\n",
              "      <td>1</td>\n",
              "      <td>8.7</td>\n",
              "      <td>very bad</td>\n",
              "      <td>1</td>\n",
              "      <td>5</td>\n",
              "    </tr>\n",
              "  </tbody>\n",
              "</table>\n",
              "<p>5 rows × 24 columns</p>\n",
              "</div>\n",
              "      <button class=\"colab-df-convert\" onclick=\"convertToInteractive('df-ea279fd1-04cf-4194-ad9d-39f164eb9310')\"\n",
              "              title=\"Convert this dataframe to an interactive table.\"\n",
              "              style=\"display:none;\">\n",
              "        \n",
              "  <svg xmlns=\"http://www.w3.org/2000/svg\" height=\"24px\"viewBox=\"0 0 24 24\"\n",
              "       width=\"24px\">\n",
              "    <path d=\"M0 0h24v24H0V0z\" fill=\"none\"/>\n",
              "    <path d=\"M18.56 5.44l.94 2.06.94-2.06 2.06-.94-2.06-.94-.94-2.06-.94 2.06-2.06.94zm-11 1L8.5 8.5l.94-2.06 2.06-.94-2.06-.94L8.5 2.5l-.94 2.06-2.06.94zm10 10l.94 2.06.94-2.06 2.06-.94-2.06-.94-.94-2.06-.94 2.06-2.06.94z\"/><path d=\"M17.41 7.96l-1.37-1.37c-.4-.4-.92-.59-1.43-.59-.52 0-1.04.2-1.43.59L10.3 9.45l-7.72 7.72c-.78.78-.78 2.05 0 2.83L4 21.41c.39.39.9.59 1.41.59.51 0 1.02-.2 1.41-.59l7.78-7.78 2.81-2.81c.8-.78.8-2.07 0-2.86zM5.41 20L4 18.59l7.72-7.72 1.47 1.35L5.41 20z\"/>\n",
              "  </svg>\n",
              "      </button>\n",
              "      \n",
              "  <style>\n",
              "    .colab-df-container {\n",
              "      display:flex;\n",
              "      flex-wrap:wrap;\n",
              "      gap: 12px;\n",
              "    }\n",
              "\n",
              "    .colab-df-convert {\n",
              "      background-color: #E8F0FE;\n",
              "      border: none;\n",
              "      border-radius: 50%;\n",
              "      cursor: pointer;\n",
              "      display: none;\n",
              "      fill: #1967D2;\n",
              "      height: 32px;\n",
              "      padding: 0 0 0 0;\n",
              "      width: 32px;\n",
              "    }\n",
              "\n",
              "    .colab-df-convert:hover {\n",
              "      background-color: #E2EBFA;\n",
              "      box-shadow: 0px 1px 2px rgba(60, 64, 67, 0.3), 0px 1px 3px 1px rgba(60, 64, 67, 0.15);\n",
              "      fill: #174EA6;\n",
              "    }\n",
              "\n",
              "    [theme=dark] .colab-df-convert {\n",
              "      background-color: #3B4455;\n",
              "      fill: #D2E3FC;\n",
              "    }\n",
              "\n",
              "    [theme=dark] .colab-df-convert:hover {\n",
              "      background-color: #434B5C;\n",
              "      box-shadow: 0px 1px 3px 1px rgba(0, 0, 0, 0.15);\n",
              "      filter: drop-shadow(0px 1px 2px rgba(0, 0, 0, 0.3));\n",
              "      fill: #FFFFFF;\n",
              "    }\n",
              "  </style>\n",
              "\n",
              "      <script>\n",
              "        const buttonEl =\n",
              "          document.querySelector('#df-ea279fd1-04cf-4194-ad9d-39f164eb9310 button.colab-df-convert');\n",
              "        buttonEl.style.display =\n",
              "          google.colab.kernel.accessAllowed ? 'block' : 'none';\n",
              "\n",
              "        async function convertToInteractive(key) {\n",
              "          const element = document.querySelector('#df-ea279fd1-04cf-4194-ad9d-39f164eb9310');\n",
              "          const dataTable =\n",
              "            await google.colab.kernel.invokeFunction('convertToInteractive',\n",
              "                                                     [key], {});\n",
              "          if (!dataTable) return;\n",
              "\n",
              "          const docLinkHtml = 'Like what you see? Visit the ' +\n",
              "            '<a target=\"_blank\" href=https://colab.research.google.com/notebooks/data_table.ipynb>data table notebook</a>'\n",
              "            + ' to learn more about interactive tables.';\n",
              "          element.innerHTML = '';\n",
              "          dataTable['output_type'] = 'display_data';\n",
              "          await google.colab.output.renderOutput(dataTable, element);\n",
              "          const docLink = document.createElement('div');\n",
              "          docLink.innerHTML = docLinkHtml;\n",
              "          element.appendChild(docLink);\n",
              "        }\n",
              "      </script>\n",
              "    </div>\n",
              "  </div>\n",
              "  "
            ]
          },
          "metadata": {},
          "execution_count": 61
        }
      ],
      "source": [
        "df_weather.head()"
      ]
    },
    {
      "cell_type": "code",
      "source": [
        "df_weather.info()"
      ],
      "metadata": {
        "colab": {
          "base_uri": "https://localhost:8080/"
        },
        "id": "kQTxpi2Hj7Xv",
        "outputId": "014b2e3a-b730-4dee-a009-b77d69617805"
      },
      "execution_count": 62,
      "outputs": [
        {
          "output_type": "stream",
          "name": "stdout",
          "text": [
            "<class 'pandas.core.frame.DataFrame'>\n",
            "RangeIndex: 365 entries, 0 to 364\n",
            "Data columns (total 24 columns):\n",
            " #   Column                  Non-Null Count  Dtype  \n",
            "---  ------                  --------------  -----  \n",
            " 0   DATE                    365 non-null    object \n",
            " 1   MAX_TEMPERATURE_C       365 non-null    int64  \n",
            " 2   MIN_TEMPERATURE_C       365 non-null    int64  \n",
            " 3   WINDSPEED_MAX_KMH       365 non-null    int64  \n",
            " 4   TEMPERATURE_MORNING_C   365 non-null    int64  \n",
            " 5   TEMPERATURE_NOON_C      365 non-null    int64  \n",
            " 6   TEMPERATURE_EVENING_C   365 non-null    int64  \n",
            " 7   PRECIP_TOTAL_DAY_MM     365 non-null    float64\n",
            " 8   HUMIDITY_MAX_PERCENT    365 non-null    int64  \n",
            " 9   VISIBILITY_AVG_KM       365 non-null    float64\n",
            " 10  PRESSURE_MAX_MB         365 non-null    int64  \n",
            " 11  CLOUDCOVER_AVG_PERCENT  365 non-null    float64\n",
            " 12  HEATINDEX_MAX_C         365 non-null    int64  \n",
            " 13  DEWPOINT_MAX_C          365 non-null    int64  \n",
            " 14  WINDTEMP_MAX_C          365 non-null    int64  \n",
            " 15  WEATHER_CODE_MORNING    365 non-null    int64  \n",
            " 16  WEATHER_CODE_NOON       365 non-null    int64  \n",
            " 17  WEATHER_CODE_EVENING    365 non-null    int64  \n",
            " 18  TOTAL_SNOW_MM           365 non-null    int64  \n",
            " 19  UV_INDEX                365 non-null    int64  \n",
            " 20  SUNHOUR                 365 non-null    float64\n",
            " 21  OPINION                 365 non-null    object \n",
            " 22  MONTH                   365 non-null    int64  \n",
            " 23  DAY                     365 non-null    int64  \n",
            "dtypes: float64(4), int64(18), object(2)\n",
            "memory usage: 68.6+ KB\n"
          ]
        }
      ]
    },
    {
      "cell_type": "markdown",
      "metadata": {
        "id": "LDcCOwCSxQyZ"
      },
      "source": [
        "# Now, complete the following tasks :\n",
        "# Let's go in the deep !"
      ]
    },
    {
      "cell_type": "markdown",
      "metadata": {
        "id": "tqkE-0r_rnGq"
      },
      "source": [
        "## 1 - Merge\n",
        "OK, you know very well the previous dataset. Now, you want more, much more. Another year for example ?\n",
        "\n",
        "But it's too bad. The year 2018 is not in the good  shape. There are 2 files :\n",
        "- The main file with Temperature, etc...\n",
        "- The opinion file, with especially the Opinion\n",
        "\n",
        "The goal is [to merge](https://pandas.pydata.org/pandas-docs/stable/reference/api/pandas.DataFrame.merge.html) both files in one DataFrame called **df2018**. It seems both files have a date column with the same format (but not the same name). \n",
        "\n",
        "Think about checking if both datasets have the same length. If they don't, what kind of merge do you have to do to keep each date of the main dataset ? Then apply this specific merge. "
      ]
    },
    {
      "cell_type": "code",
      "execution_count": 63,
      "metadata": {
        "colab": {
          "base_uri": "https://localhost:8080/"
        },
        "id": "WbfmDeaZmny4",
        "outputId": "21cf5aff-c7b0-47c0-8752-5a6f3d31a9db"
      },
      "outputs": [
        {
          "output_type": "stream",
          "name": "stdout",
          "text": [
            "         DATE  MAX_TEMPERATURE_C  MIN_TEMPERATURE_C  WINDSPEED_MAX_KMH  \\\n",
            "0  2018-01-01                 12                  8                 61   \n",
            "1  2018-01-02                 13                  6                 26   \n",
            "2  2018-01-03                 15                 10                 40   \n",
            "3  2018-01-04                 14                 11                 45   \n",
            "4  2018-01-05                 12                  7                 21   \n",
            "\n",
            "   TEMPERATURE_MORNING_C  TEMPERATURE_NOON_C  TEMPERATURE_EVENING_C  \\\n",
            "0                      9                  11                      8   \n",
            "1                      8                  12                     13   \n",
            "2                     11                  12                     10   \n",
            "3                     14                  14                     11   \n",
            "4                     10                  11                      8   \n",
            "\n",
            "   PRECIP_TOTAL_DAY_MM  HUMIDITY_MAX_PERCENT  VISIBILITY_AVG_KM  \\\n",
            "0                  8.9                    79              9.500   \n",
            "1                  0.6                    96              9.000   \n",
            "2                  5.5                    82              8.500   \n",
            "3                  0.0                    89             10.000   \n",
            "4                  1.5                    85              9.875   \n",
            "\n",
            "   PRESSURE_MAX_MB  CLOUDCOVER_AVG_PERCENT  HEATINDEX_MAX_C  DEWPOINT_MAX_C  \\\n",
            "0             1018                  41.750               12               8   \n",
            "1             1020                  87.875               13              12   \n",
            "2             1017                  91.500               15              13   \n",
            "3             1011                  90.125               14              12   \n",
            "4             1005                  62.375               12              10   \n",
            "\n",
            "   WINDTEMP_MAX_C  \n",
            "0               7  \n",
            "1               6  \n",
            "2               7  \n",
            "3              10  \n",
            "4               7  \n",
            "         date  WEATHER_CODE_EVENING  TOTAL_SNOW_MM  UV_INDEX  SUNHOUR OPINION\n",
            "0  2018-01-01                   113              0         3      5.1     bad\n",
            "1  2018-03-12                   119              0         2      8.8     bad\n",
            "2  2018-03-09                   116              0         3     10.2     bad\n",
            "3  2018-10-07                   122              0         1      5.6     bad\n",
            "4  2018-06-18                   119              0         1     12.9     bad\n"
          ]
        }
      ],
      "source": [
        "link_main = \"https://raw.githubusercontent.com/murpi/wilddata/master/quests/weather_main_2018.csv\"\n",
        "link_opinion = \"https://raw.githubusercontent.com/murpi/wilddata/master/quests/weather_opinion_2018.csv\"\n",
        "df_main = pd.read_csv(link_main)\n",
        "df_opinion = pd.read_csv(link_opinion)\n",
        "print(df_main.head())\n",
        "print(df_opinion.head())"
      ]
    },
    {
      "cell_type": "code",
      "execution_count": 64,
      "metadata": {
        "colab": {
          "base_uri": "https://localhost:8080/"
        },
        "id": "C7dK3CRcV9Mj",
        "outputId": "0555aeb6-8092-43be-b10d-89104b77e2e7"
      },
      "outputs": [
        {
          "output_type": "stream",
          "name": "stdout",
          "text": [
            "365\n",
            "341\n"
          ]
        }
      ],
      "source": [
        "print(len(df_main['DATE']))\n",
        "print(len(df_opinion['date']))"
      ]
    },
    {
      "cell_type": "code",
      "execution_count": 65,
      "metadata": {
        "colab": {
          "base_uri": "https://localhost:8080/",
          "height": 424
        },
        "id": "6fQoFpSjW7W-",
        "outputId": "2125207a-1d8a-455c-ca5e-2313fa041f30"
      },
      "outputs": [
        {
          "output_type": "execute_result",
          "data": {
            "text/plain": [
              "           DATE  WEATHER_CODE_EVENING  TOTAL_SNOW_MM  UV_INDEX  SUNHOUR  \\\n",
              "0    2018-01-01                   113              0         3      5.1   \n",
              "1    2018-03-12                   119              0         2      8.8   \n",
              "2    2018-03-09                   116              0         3     10.2   \n",
              "3    2018-10-07                   122              0         1      5.6   \n",
              "4    2018-06-18                   119              0         1     12.9   \n",
              "..          ...                   ...            ...       ...      ...   \n",
              "336  2018-04-20                   113              0         1     11.6   \n",
              "337  2018-06-08                   116              0         1     15.9   \n",
              "338  2018-09-09                   113              0         1     11.6   \n",
              "339  2018-10-13                   113              0         5     11.0   \n",
              "340  2018-08-16                   119              0         1     10.5   \n",
              "\n",
              "       OPINION  \n",
              "0          bad  \n",
              "1          bad  \n",
              "2          bad  \n",
              "3          bad  \n",
              "4          bad  \n",
              "..         ...  \n",
              "336  very good  \n",
              "337  very good  \n",
              "338  very good  \n",
              "339  very good  \n",
              "340  very good  \n",
              "\n",
              "[341 rows x 6 columns]"
            ],
            "text/html": [
              "\n",
              "  <div id=\"df-8a573cec-5a32-42fc-b1fa-8d188d3e469e\">\n",
              "    <div class=\"colab-df-container\">\n",
              "      <div>\n",
              "<style scoped>\n",
              "    .dataframe tbody tr th:only-of-type {\n",
              "        vertical-align: middle;\n",
              "    }\n",
              "\n",
              "    .dataframe tbody tr th {\n",
              "        vertical-align: top;\n",
              "    }\n",
              "\n",
              "    .dataframe thead th {\n",
              "        text-align: right;\n",
              "    }\n",
              "</style>\n",
              "<table border=\"1\" class=\"dataframe\">\n",
              "  <thead>\n",
              "    <tr style=\"text-align: right;\">\n",
              "      <th></th>\n",
              "      <th>DATE</th>\n",
              "      <th>WEATHER_CODE_EVENING</th>\n",
              "      <th>TOTAL_SNOW_MM</th>\n",
              "      <th>UV_INDEX</th>\n",
              "      <th>SUNHOUR</th>\n",
              "      <th>OPINION</th>\n",
              "    </tr>\n",
              "  </thead>\n",
              "  <tbody>\n",
              "    <tr>\n",
              "      <th>0</th>\n",
              "      <td>2018-01-01</td>\n",
              "      <td>113</td>\n",
              "      <td>0</td>\n",
              "      <td>3</td>\n",
              "      <td>5.1</td>\n",
              "      <td>bad</td>\n",
              "    </tr>\n",
              "    <tr>\n",
              "      <th>1</th>\n",
              "      <td>2018-03-12</td>\n",
              "      <td>119</td>\n",
              "      <td>0</td>\n",
              "      <td>2</td>\n",
              "      <td>8.8</td>\n",
              "      <td>bad</td>\n",
              "    </tr>\n",
              "    <tr>\n",
              "      <th>2</th>\n",
              "      <td>2018-03-09</td>\n",
              "      <td>116</td>\n",
              "      <td>0</td>\n",
              "      <td>3</td>\n",
              "      <td>10.2</td>\n",
              "      <td>bad</td>\n",
              "    </tr>\n",
              "    <tr>\n",
              "      <th>3</th>\n",
              "      <td>2018-10-07</td>\n",
              "      <td>122</td>\n",
              "      <td>0</td>\n",
              "      <td>1</td>\n",
              "      <td>5.6</td>\n",
              "      <td>bad</td>\n",
              "    </tr>\n",
              "    <tr>\n",
              "      <th>4</th>\n",
              "      <td>2018-06-18</td>\n",
              "      <td>119</td>\n",
              "      <td>0</td>\n",
              "      <td>1</td>\n",
              "      <td>12.9</td>\n",
              "      <td>bad</td>\n",
              "    </tr>\n",
              "    <tr>\n",
              "      <th>...</th>\n",
              "      <td>...</td>\n",
              "      <td>...</td>\n",
              "      <td>...</td>\n",
              "      <td>...</td>\n",
              "      <td>...</td>\n",
              "      <td>...</td>\n",
              "    </tr>\n",
              "    <tr>\n",
              "      <th>336</th>\n",
              "      <td>2018-04-20</td>\n",
              "      <td>113</td>\n",
              "      <td>0</td>\n",
              "      <td>1</td>\n",
              "      <td>11.6</td>\n",
              "      <td>very good</td>\n",
              "    </tr>\n",
              "    <tr>\n",
              "      <th>337</th>\n",
              "      <td>2018-06-08</td>\n",
              "      <td>116</td>\n",
              "      <td>0</td>\n",
              "      <td>1</td>\n",
              "      <td>15.9</td>\n",
              "      <td>very good</td>\n",
              "    </tr>\n",
              "    <tr>\n",
              "      <th>338</th>\n",
              "      <td>2018-09-09</td>\n",
              "      <td>113</td>\n",
              "      <td>0</td>\n",
              "      <td>1</td>\n",
              "      <td>11.6</td>\n",
              "      <td>very good</td>\n",
              "    </tr>\n",
              "    <tr>\n",
              "      <th>339</th>\n",
              "      <td>2018-10-13</td>\n",
              "      <td>113</td>\n",
              "      <td>0</td>\n",
              "      <td>5</td>\n",
              "      <td>11.0</td>\n",
              "      <td>very good</td>\n",
              "    </tr>\n",
              "    <tr>\n",
              "      <th>340</th>\n",
              "      <td>2018-08-16</td>\n",
              "      <td>119</td>\n",
              "      <td>0</td>\n",
              "      <td>1</td>\n",
              "      <td>10.5</td>\n",
              "      <td>very good</td>\n",
              "    </tr>\n",
              "  </tbody>\n",
              "</table>\n",
              "<p>341 rows × 6 columns</p>\n",
              "</div>\n",
              "      <button class=\"colab-df-convert\" onclick=\"convertToInteractive('df-8a573cec-5a32-42fc-b1fa-8d188d3e469e')\"\n",
              "              title=\"Convert this dataframe to an interactive table.\"\n",
              "              style=\"display:none;\">\n",
              "        \n",
              "  <svg xmlns=\"http://www.w3.org/2000/svg\" height=\"24px\"viewBox=\"0 0 24 24\"\n",
              "       width=\"24px\">\n",
              "    <path d=\"M0 0h24v24H0V0z\" fill=\"none\"/>\n",
              "    <path d=\"M18.56 5.44l.94 2.06.94-2.06 2.06-.94-2.06-.94-.94-2.06-.94 2.06-2.06.94zm-11 1L8.5 8.5l.94-2.06 2.06-.94-2.06-.94L8.5 2.5l-.94 2.06-2.06.94zm10 10l.94 2.06.94-2.06 2.06-.94-2.06-.94-.94-2.06-.94 2.06-2.06.94z\"/><path d=\"M17.41 7.96l-1.37-1.37c-.4-.4-.92-.59-1.43-.59-.52 0-1.04.2-1.43.59L10.3 9.45l-7.72 7.72c-.78.78-.78 2.05 0 2.83L4 21.41c.39.39.9.59 1.41.59.51 0 1.02-.2 1.41-.59l7.78-7.78 2.81-2.81c.8-.78.8-2.07 0-2.86zM5.41 20L4 18.59l7.72-7.72 1.47 1.35L5.41 20z\"/>\n",
              "  </svg>\n",
              "      </button>\n",
              "      \n",
              "  <style>\n",
              "    .colab-df-container {\n",
              "      display:flex;\n",
              "      flex-wrap:wrap;\n",
              "      gap: 12px;\n",
              "    }\n",
              "\n",
              "    .colab-df-convert {\n",
              "      background-color: #E8F0FE;\n",
              "      border: none;\n",
              "      border-radius: 50%;\n",
              "      cursor: pointer;\n",
              "      display: none;\n",
              "      fill: #1967D2;\n",
              "      height: 32px;\n",
              "      padding: 0 0 0 0;\n",
              "      width: 32px;\n",
              "    }\n",
              "\n",
              "    .colab-df-convert:hover {\n",
              "      background-color: #E2EBFA;\n",
              "      box-shadow: 0px 1px 2px rgba(60, 64, 67, 0.3), 0px 1px 3px 1px rgba(60, 64, 67, 0.15);\n",
              "      fill: #174EA6;\n",
              "    }\n",
              "\n",
              "    [theme=dark] .colab-df-convert {\n",
              "      background-color: #3B4455;\n",
              "      fill: #D2E3FC;\n",
              "    }\n",
              "\n",
              "    [theme=dark] .colab-df-convert:hover {\n",
              "      background-color: #434B5C;\n",
              "      box-shadow: 0px 1px 3px 1px rgba(0, 0, 0, 0.15);\n",
              "      filter: drop-shadow(0px 1px 2px rgba(0, 0, 0, 0.3));\n",
              "      fill: #FFFFFF;\n",
              "    }\n",
              "  </style>\n",
              "\n",
              "      <script>\n",
              "        const buttonEl =\n",
              "          document.querySelector('#df-8a573cec-5a32-42fc-b1fa-8d188d3e469e button.colab-df-convert');\n",
              "        buttonEl.style.display =\n",
              "          google.colab.kernel.accessAllowed ? 'block' : 'none';\n",
              "\n",
              "        async function convertToInteractive(key) {\n",
              "          const element = document.querySelector('#df-8a573cec-5a32-42fc-b1fa-8d188d3e469e');\n",
              "          const dataTable =\n",
              "            await google.colab.kernel.invokeFunction('convertToInteractive',\n",
              "                                                     [key], {});\n",
              "          if (!dataTable) return;\n",
              "\n",
              "          const docLinkHtml = 'Like what you see? Visit the ' +\n",
              "            '<a target=\"_blank\" href=https://colab.research.google.com/notebooks/data_table.ipynb>data table notebook</a>'\n",
              "            + ' to learn more about interactive tables.';\n",
              "          element.innerHTML = '';\n",
              "          dataTable['output_type'] = 'display_data';\n",
              "          await google.colab.output.renderOutput(dataTable, element);\n",
              "          const docLink = document.createElement('div');\n",
              "          docLink.innerHTML = docLinkHtml;\n",
              "          element.appendChild(docLink);\n",
              "        }\n",
              "      </script>\n",
              "    </div>\n",
              "  </div>\n",
              "  "
            ]
          },
          "metadata": {},
          "execution_count": 65
        }
      ],
      "source": [
        "df_opinion = df_opinion.rename(columns = {'date':'DATE'})\n",
        "df_opinion"
      ]
    },
    {
      "cell_type": "code",
      "execution_count": 66,
      "metadata": {
        "colab": {
          "base_uri": "https://localhost:8080/"
        },
        "id": "3Z0tqbUdYgL1",
        "outputId": "ffd16b35-8df3-45ad-d219-7b63f0e62d7d"
      },
      "outputs": [
        {
          "output_type": "execute_result",
          "data": {
            "text/plain": [
              "0"
            ]
          },
          "metadata": {},
          "execution_count": 66
        }
      ],
      "source": [
        "df_opinion['DATE'].isna().sum()"
      ]
    },
    {
      "cell_type": "code",
      "execution_count": 67,
      "metadata": {
        "colab": {
          "base_uri": "https://localhost:8080/",
          "height": 661
        },
        "id": "4Qy062tcw3c0",
        "outputId": "3081e2ba-1591-4e1c-c537-5c6d0d4ecf23"
      },
      "outputs": [
        {
          "output_type": "execute_result",
          "data": {
            "text/plain": [
              "           DATE  MAX_TEMPERATURE_C  MIN_TEMPERATURE_C  WINDSPEED_MAX_KMH  \\\n",
              "0    2018-01-01                 12                  8                 61   \n",
              "1    2018-01-02                 13                  6                 26   \n",
              "2    2018-01-03                 15                 10                 40   \n",
              "3    2018-01-04                 14                 11                 45   \n",
              "4    2018-01-05                 12                  7                 21   \n",
              "..          ...                ...                ...                ...   \n",
              "360  2018-12-27                  7                  2                  6   \n",
              "361  2018-12-28                  7                  2                  8   \n",
              "362  2018-12-29                  7                  1                  6   \n",
              "363  2018-12-30                  9                  4                  6   \n",
              "364  2018-12-31                  9                  5                 10   \n",
              "\n",
              "     TEMPERATURE_MORNING_C  TEMPERATURE_NOON_C  TEMPERATURE_EVENING_C  \\\n",
              "0                        9                  11                      8   \n",
              "1                        8                  12                     13   \n",
              "2                       11                  12                     10   \n",
              "3                       14                  14                     11   \n",
              "4                       10                  11                      8   \n",
              "..                     ...                 ...                    ...   \n",
              "360                      2                   6                      5   \n",
              "361                      2                   7                      3   \n",
              "362                      1                   6                      4   \n",
              "363                      5                   9                      8   \n",
              "364                      5                   9                      6   \n",
              "\n",
              "     PRECIP_TOTAL_DAY_MM  HUMIDITY_MAX_PERCENT  VISIBILITY_AVG_KM  \\\n",
              "0                    8.9                    79              9.500   \n",
              "1                    0.6                    96              9.000   \n",
              "2                    5.5                    82              8.500   \n",
              "3                    0.0                    89             10.000   \n",
              "4                    1.5                    85              9.875   \n",
              "..                   ...                   ...                ...   \n",
              "360                  0.0                    85             10.000   \n",
              "361                  0.0                    89              8.000   \n",
              "362                  0.0                    94              7.000   \n",
              "363                  0.1                    95              6.000   \n",
              "364                  0.0                    95              6.000   \n",
              "\n",
              "     PRESSURE_MAX_MB  CLOUDCOVER_AVG_PERCENT  HEATINDEX_MAX_C  DEWPOINT_MAX_C  \\\n",
              "0               1018                  41.750               12               8   \n",
              "1               1020                  87.875               13              12   \n",
              "2               1017                  91.500               15              13   \n",
              "3               1011                  90.125               14              12   \n",
              "4               1005                  62.375               12              10   \n",
              "..               ...                     ...              ...             ...   \n",
              "360             1027                  30.750                8               6   \n",
              "361             1035                  18.750                8               4   \n",
              "362             1038                  33.000                8               5   \n",
              "363             1038                  70.375               10               9   \n",
              "364             1038                  40.250               10               7   \n",
              "\n",
              "     WINDTEMP_MAX_C  WEATHER_CODE_EVENING  TOTAL_SNOW_MM  UV_INDEX  SUNHOUR  \\\n",
              "0                 7                 113.0            0.0       3.0      5.1   \n",
              "1                 6                 122.0            0.0       3.0      3.3   \n",
              "2                 7                 122.0            0.0       3.0      3.3   \n",
              "3                10                 116.0            0.0       3.0      3.3   \n",
              "4                 7                 116.0            0.0       3.0      6.9   \n",
              "..              ...                   ...            ...       ...      ...   \n",
              "360               3                 119.0            0.0       1.0      8.7   \n",
              "361               4                 113.0            0.0       1.0      8.7   \n",
              "362               1                 116.0            0.0       1.0      8.7   \n",
              "363               7                 143.0            0.0       1.0      3.3   \n",
              "364               5                 116.0            0.0       1.0      8.7   \n",
              "\n",
              "      OPINION  \n",
              "0         bad  \n",
              "1         bad  \n",
              "2         bad  \n",
              "3         bad  \n",
              "4         bad  \n",
              "..        ...  \n",
              "360  very bad  \n",
              "361  very bad  \n",
              "362  very bad  \n",
              "363  very bad  \n",
              "364  very bad  \n",
              "\n",
              "[365 rows x 20 columns]"
            ],
            "text/html": [
              "\n",
              "  <div id=\"df-1a616deb-1778-491b-a641-cada70cebd19\">\n",
              "    <div class=\"colab-df-container\">\n",
              "      <div>\n",
              "<style scoped>\n",
              "    .dataframe tbody tr th:only-of-type {\n",
              "        vertical-align: middle;\n",
              "    }\n",
              "\n",
              "    .dataframe tbody tr th {\n",
              "        vertical-align: top;\n",
              "    }\n",
              "\n",
              "    .dataframe thead th {\n",
              "        text-align: right;\n",
              "    }\n",
              "</style>\n",
              "<table border=\"1\" class=\"dataframe\">\n",
              "  <thead>\n",
              "    <tr style=\"text-align: right;\">\n",
              "      <th></th>\n",
              "      <th>DATE</th>\n",
              "      <th>MAX_TEMPERATURE_C</th>\n",
              "      <th>MIN_TEMPERATURE_C</th>\n",
              "      <th>WINDSPEED_MAX_KMH</th>\n",
              "      <th>TEMPERATURE_MORNING_C</th>\n",
              "      <th>TEMPERATURE_NOON_C</th>\n",
              "      <th>TEMPERATURE_EVENING_C</th>\n",
              "      <th>PRECIP_TOTAL_DAY_MM</th>\n",
              "      <th>HUMIDITY_MAX_PERCENT</th>\n",
              "      <th>VISIBILITY_AVG_KM</th>\n",
              "      <th>PRESSURE_MAX_MB</th>\n",
              "      <th>CLOUDCOVER_AVG_PERCENT</th>\n",
              "      <th>HEATINDEX_MAX_C</th>\n",
              "      <th>DEWPOINT_MAX_C</th>\n",
              "      <th>WINDTEMP_MAX_C</th>\n",
              "      <th>WEATHER_CODE_EVENING</th>\n",
              "      <th>TOTAL_SNOW_MM</th>\n",
              "      <th>UV_INDEX</th>\n",
              "      <th>SUNHOUR</th>\n",
              "      <th>OPINION</th>\n",
              "    </tr>\n",
              "  </thead>\n",
              "  <tbody>\n",
              "    <tr>\n",
              "      <th>0</th>\n",
              "      <td>2018-01-01</td>\n",
              "      <td>12</td>\n",
              "      <td>8</td>\n",
              "      <td>61</td>\n",
              "      <td>9</td>\n",
              "      <td>11</td>\n",
              "      <td>8</td>\n",
              "      <td>8.9</td>\n",
              "      <td>79</td>\n",
              "      <td>9.500</td>\n",
              "      <td>1018</td>\n",
              "      <td>41.750</td>\n",
              "      <td>12</td>\n",
              "      <td>8</td>\n",
              "      <td>7</td>\n",
              "      <td>113.0</td>\n",
              "      <td>0.0</td>\n",
              "      <td>3.0</td>\n",
              "      <td>5.1</td>\n",
              "      <td>bad</td>\n",
              "    </tr>\n",
              "    <tr>\n",
              "      <th>1</th>\n",
              "      <td>2018-01-02</td>\n",
              "      <td>13</td>\n",
              "      <td>6</td>\n",
              "      <td>26</td>\n",
              "      <td>8</td>\n",
              "      <td>12</td>\n",
              "      <td>13</td>\n",
              "      <td>0.6</td>\n",
              "      <td>96</td>\n",
              "      <td>9.000</td>\n",
              "      <td>1020</td>\n",
              "      <td>87.875</td>\n",
              "      <td>13</td>\n",
              "      <td>12</td>\n",
              "      <td>6</td>\n",
              "      <td>122.0</td>\n",
              "      <td>0.0</td>\n",
              "      <td>3.0</td>\n",
              "      <td>3.3</td>\n",
              "      <td>bad</td>\n",
              "    </tr>\n",
              "    <tr>\n",
              "      <th>2</th>\n",
              "      <td>2018-01-03</td>\n",
              "      <td>15</td>\n",
              "      <td>10</td>\n",
              "      <td>40</td>\n",
              "      <td>11</td>\n",
              "      <td>12</td>\n",
              "      <td>10</td>\n",
              "      <td>5.5</td>\n",
              "      <td>82</td>\n",
              "      <td>8.500</td>\n",
              "      <td>1017</td>\n",
              "      <td>91.500</td>\n",
              "      <td>15</td>\n",
              "      <td>13</td>\n",
              "      <td>7</td>\n",
              "      <td>122.0</td>\n",
              "      <td>0.0</td>\n",
              "      <td>3.0</td>\n",
              "      <td>3.3</td>\n",
              "      <td>bad</td>\n",
              "    </tr>\n",
              "    <tr>\n",
              "      <th>3</th>\n",
              "      <td>2018-01-04</td>\n",
              "      <td>14</td>\n",
              "      <td>11</td>\n",
              "      <td>45</td>\n",
              "      <td>14</td>\n",
              "      <td>14</td>\n",
              "      <td>11</td>\n",
              "      <td>0.0</td>\n",
              "      <td>89</td>\n",
              "      <td>10.000</td>\n",
              "      <td>1011</td>\n",
              "      <td>90.125</td>\n",
              "      <td>14</td>\n",
              "      <td>12</td>\n",
              "      <td>10</td>\n",
              "      <td>116.0</td>\n",
              "      <td>0.0</td>\n",
              "      <td>3.0</td>\n",
              "      <td>3.3</td>\n",
              "      <td>bad</td>\n",
              "    </tr>\n",
              "    <tr>\n",
              "      <th>4</th>\n",
              "      <td>2018-01-05</td>\n",
              "      <td>12</td>\n",
              "      <td>7</td>\n",
              "      <td>21</td>\n",
              "      <td>10</td>\n",
              "      <td>11</td>\n",
              "      <td>8</td>\n",
              "      <td>1.5</td>\n",
              "      <td>85</td>\n",
              "      <td>9.875</td>\n",
              "      <td>1005</td>\n",
              "      <td>62.375</td>\n",
              "      <td>12</td>\n",
              "      <td>10</td>\n",
              "      <td>7</td>\n",
              "      <td>116.0</td>\n",
              "      <td>0.0</td>\n",
              "      <td>3.0</td>\n",
              "      <td>6.9</td>\n",
              "      <td>bad</td>\n",
              "    </tr>\n",
              "    <tr>\n",
              "      <th>...</th>\n",
              "      <td>...</td>\n",
              "      <td>...</td>\n",
              "      <td>...</td>\n",
              "      <td>...</td>\n",
              "      <td>...</td>\n",
              "      <td>...</td>\n",
              "      <td>...</td>\n",
              "      <td>...</td>\n",
              "      <td>...</td>\n",
              "      <td>...</td>\n",
              "      <td>...</td>\n",
              "      <td>...</td>\n",
              "      <td>...</td>\n",
              "      <td>...</td>\n",
              "      <td>...</td>\n",
              "      <td>...</td>\n",
              "      <td>...</td>\n",
              "      <td>...</td>\n",
              "      <td>...</td>\n",
              "      <td>...</td>\n",
              "    </tr>\n",
              "    <tr>\n",
              "      <th>360</th>\n",
              "      <td>2018-12-27</td>\n",
              "      <td>7</td>\n",
              "      <td>2</td>\n",
              "      <td>6</td>\n",
              "      <td>2</td>\n",
              "      <td>6</td>\n",
              "      <td>5</td>\n",
              "      <td>0.0</td>\n",
              "      <td>85</td>\n",
              "      <td>10.000</td>\n",
              "      <td>1027</td>\n",
              "      <td>30.750</td>\n",
              "      <td>8</td>\n",
              "      <td>6</td>\n",
              "      <td>3</td>\n",
              "      <td>119.0</td>\n",
              "      <td>0.0</td>\n",
              "      <td>1.0</td>\n",
              "      <td>8.7</td>\n",
              "      <td>very bad</td>\n",
              "    </tr>\n",
              "    <tr>\n",
              "      <th>361</th>\n",
              "      <td>2018-12-28</td>\n",
              "      <td>7</td>\n",
              "      <td>2</td>\n",
              "      <td>8</td>\n",
              "      <td>2</td>\n",
              "      <td>7</td>\n",
              "      <td>3</td>\n",
              "      <td>0.0</td>\n",
              "      <td>89</td>\n",
              "      <td>8.000</td>\n",
              "      <td>1035</td>\n",
              "      <td>18.750</td>\n",
              "      <td>8</td>\n",
              "      <td>4</td>\n",
              "      <td>4</td>\n",
              "      <td>113.0</td>\n",
              "      <td>0.0</td>\n",
              "      <td>1.0</td>\n",
              "      <td>8.7</td>\n",
              "      <td>very bad</td>\n",
              "    </tr>\n",
              "    <tr>\n",
              "      <th>362</th>\n",
              "      <td>2018-12-29</td>\n",
              "      <td>7</td>\n",
              "      <td>1</td>\n",
              "      <td>6</td>\n",
              "      <td>1</td>\n",
              "      <td>6</td>\n",
              "      <td>4</td>\n",
              "      <td>0.0</td>\n",
              "      <td>94</td>\n",
              "      <td>7.000</td>\n",
              "      <td>1038</td>\n",
              "      <td>33.000</td>\n",
              "      <td>8</td>\n",
              "      <td>5</td>\n",
              "      <td>1</td>\n",
              "      <td>116.0</td>\n",
              "      <td>0.0</td>\n",
              "      <td>1.0</td>\n",
              "      <td>8.7</td>\n",
              "      <td>very bad</td>\n",
              "    </tr>\n",
              "    <tr>\n",
              "      <th>363</th>\n",
              "      <td>2018-12-30</td>\n",
              "      <td>9</td>\n",
              "      <td>4</td>\n",
              "      <td>6</td>\n",
              "      <td>5</td>\n",
              "      <td>9</td>\n",
              "      <td>8</td>\n",
              "      <td>0.1</td>\n",
              "      <td>95</td>\n",
              "      <td>6.000</td>\n",
              "      <td>1038</td>\n",
              "      <td>70.375</td>\n",
              "      <td>10</td>\n",
              "      <td>9</td>\n",
              "      <td>7</td>\n",
              "      <td>143.0</td>\n",
              "      <td>0.0</td>\n",
              "      <td>1.0</td>\n",
              "      <td>3.3</td>\n",
              "      <td>very bad</td>\n",
              "    </tr>\n",
              "    <tr>\n",
              "      <th>364</th>\n",
              "      <td>2018-12-31</td>\n",
              "      <td>9</td>\n",
              "      <td>5</td>\n",
              "      <td>10</td>\n",
              "      <td>5</td>\n",
              "      <td>9</td>\n",
              "      <td>6</td>\n",
              "      <td>0.0</td>\n",
              "      <td>95</td>\n",
              "      <td>6.000</td>\n",
              "      <td>1038</td>\n",
              "      <td>40.250</td>\n",
              "      <td>10</td>\n",
              "      <td>7</td>\n",
              "      <td>5</td>\n",
              "      <td>116.0</td>\n",
              "      <td>0.0</td>\n",
              "      <td>1.0</td>\n",
              "      <td>8.7</td>\n",
              "      <td>very bad</td>\n",
              "    </tr>\n",
              "  </tbody>\n",
              "</table>\n",
              "<p>365 rows × 20 columns</p>\n",
              "</div>\n",
              "      <button class=\"colab-df-convert\" onclick=\"convertToInteractive('df-1a616deb-1778-491b-a641-cada70cebd19')\"\n",
              "              title=\"Convert this dataframe to an interactive table.\"\n",
              "              style=\"display:none;\">\n",
              "        \n",
              "  <svg xmlns=\"http://www.w3.org/2000/svg\" height=\"24px\"viewBox=\"0 0 24 24\"\n",
              "       width=\"24px\">\n",
              "    <path d=\"M0 0h24v24H0V0z\" fill=\"none\"/>\n",
              "    <path d=\"M18.56 5.44l.94 2.06.94-2.06 2.06-.94-2.06-.94-.94-2.06-.94 2.06-2.06.94zm-11 1L8.5 8.5l.94-2.06 2.06-.94-2.06-.94L8.5 2.5l-.94 2.06-2.06.94zm10 10l.94 2.06.94-2.06 2.06-.94-2.06-.94-.94-2.06-.94 2.06-2.06.94z\"/><path d=\"M17.41 7.96l-1.37-1.37c-.4-.4-.92-.59-1.43-.59-.52 0-1.04.2-1.43.59L10.3 9.45l-7.72 7.72c-.78.78-.78 2.05 0 2.83L4 21.41c.39.39.9.59 1.41.59.51 0 1.02-.2 1.41-.59l7.78-7.78 2.81-2.81c.8-.78.8-2.07 0-2.86zM5.41 20L4 18.59l7.72-7.72 1.47 1.35L5.41 20z\"/>\n",
              "  </svg>\n",
              "      </button>\n",
              "      \n",
              "  <style>\n",
              "    .colab-df-container {\n",
              "      display:flex;\n",
              "      flex-wrap:wrap;\n",
              "      gap: 12px;\n",
              "    }\n",
              "\n",
              "    .colab-df-convert {\n",
              "      background-color: #E8F0FE;\n",
              "      border: none;\n",
              "      border-radius: 50%;\n",
              "      cursor: pointer;\n",
              "      display: none;\n",
              "      fill: #1967D2;\n",
              "      height: 32px;\n",
              "      padding: 0 0 0 0;\n",
              "      width: 32px;\n",
              "    }\n",
              "\n",
              "    .colab-df-convert:hover {\n",
              "      background-color: #E2EBFA;\n",
              "      box-shadow: 0px 1px 2px rgba(60, 64, 67, 0.3), 0px 1px 3px 1px rgba(60, 64, 67, 0.15);\n",
              "      fill: #174EA6;\n",
              "    }\n",
              "\n",
              "    [theme=dark] .colab-df-convert {\n",
              "      background-color: #3B4455;\n",
              "      fill: #D2E3FC;\n",
              "    }\n",
              "\n",
              "    [theme=dark] .colab-df-convert:hover {\n",
              "      background-color: #434B5C;\n",
              "      box-shadow: 0px 1px 3px 1px rgba(0, 0, 0, 0.15);\n",
              "      filter: drop-shadow(0px 1px 2px rgba(0, 0, 0, 0.3));\n",
              "      fill: #FFFFFF;\n",
              "    }\n",
              "  </style>\n",
              "\n",
              "      <script>\n",
              "        const buttonEl =\n",
              "          document.querySelector('#df-1a616deb-1778-491b-a641-cada70cebd19 button.colab-df-convert');\n",
              "        buttonEl.style.display =\n",
              "          google.colab.kernel.accessAllowed ? 'block' : 'none';\n",
              "\n",
              "        async function convertToInteractive(key) {\n",
              "          const element = document.querySelector('#df-1a616deb-1778-491b-a641-cada70cebd19');\n",
              "          const dataTable =\n",
              "            await google.colab.kernel.invokeFunction('convertToInteractive',\n",
              "                                                     [key], {});\n",
              "          if (!dataTable) return;\n",
              "\n",
              "          const docLinkHtml = 'Like what you see? Visit the ' +\n",
              "            '<a target=\"_blank\" href=https://colab.research.google.com/notebooks/data_table.ipynb>data table notebook</a>'\n",
              "            + ' to learn more about interactive tables.';\n",
              "          element.innerHTML = '';\n",
              "          dataTable['output_type'] = 'display_data';\n",
              "          await google.colab.output.renderOutput(dataTable, element);\n",
              "          const docLink = document.createElement('div');\n",
              "          docLink.innerHTML = docLinkHtml;\n",
              "          element.appendChild(docLink);\n",
              "        }\n",
              "      </script>\n",
              "    </div>\n",
              "  </div>\n",
              "  "
            ]
          },
          "metadata": {},
          "execution_count": 67
        }
      ],
      "source": [
        "# Your code here :\n",
        "\n",
        "df2018 = pd.merge(df_main, df_opinion, how='left', on= 'DATE')\n",
        "\n",
        "df2018"
      ]
    },
    {
      "cell_type": "markdown",
      "metadata": {
        "id": "XhmGb7SJz9T7"
      },
      "source": [
        "### Result"
      ]
    },
    {
      "cell_type": "markdown",
      "metadata": {
        "id": "QB62g1r_wzGa"
      },
      "source": [
        "Your DataFrame **df2018** should now have 21 columns and 365 rows. If not, try again.\n",
        "\n",
        "**Be careful:** \n",
        "- if you've renamed your `date` column, then merged both DataFrames with `on` parameter, Pandas kept only one `DATE` column. So you'll have 20 columns in your DataFrame. And you can skip the \"drop\" step just after.\n",
        "- if you merged with `left_on` and `right_on` parameters, Pandas kept both columns `DATE` and `date`, and you'll have 21 columns in your DataFrame. You can do this \"drop\" step:\n",
        "\n"
      ]
    },
    {
      "cell_type": "code",
      "execution_count": 68,
      "metadata": {
        "id": "1hz3j3Bz5pnz",
        "colab": {
          "base_uri": "https://localhost:8080/",
          "height": 53
        },
        "outputId": "6b224f59-16c8-4504-fc61-526307c7a99b"
      },
      "outputs": [
        {
          "output_type": "execute_result",
          "data": {
            "text/plain": [
              "\"df2018.drop('date',             # Select column to drop\\n            axis = 1,           # Precise if you want to drop a column (1) or a row (0)\\n            inplace = True)     # If we don't use this argument, result is not stored\""
            ],
            "application/vnd.google.colaboratory.intrinsic+json": {
              "type": "string"
            }
          },
          "metadata": {},
          "execution_count": 68
        }
      ],
      "source": [
        "# You should now probably drop the \"date\" column. \n",
        "# This column is incomplete, it were provided from the opinion file. \n",
        "# It was very useful to perform the \"merge\". But we don't need it anymore.\n",
        "\n",
        "# Read and execute the code below :\n",
        "'''df2018.drop('date',             # Select column to drop\n",
        "            axis = 1,           # Precise if you want to drop a column (1) or a row (0)\n",
        "            inplace = True)     # If we don't use this argument, result is not stored'''"
      ]
    },
    {
      "cell_type": "markdown",
      "metadata": {
        "id": "oArS7K5Xf1Yl"
      },
      "source": [
        "Now, everybody should have a 20 columns and 365 rows.\n",
        "\n",
        "**Ohhhh, there are some missing values, we have to fill them. That will be the goal of this quest: to learn how to fill in the missing values, column by column, with different techniques.**"
      ]
    },
    {
      "cell_type": "code",
      "execution_count": 69,
      "metadata": {
        "colab": {
          "base_uri": "https://localhost:8080/"
        },
        "id": "oQSMcwAGvCyL",
        "outputId": "84b70ef5-6fc9-419b-dbfa-3e216cd5e945"
      },
      "outputs": [
        {
          "output_type": "stream",
          "name": "stdout",
          "text": [
            "My DataFrame shape is :  (365, 20)\n",
            "\n",
            "\n",
            "\n",
            "Which columns have missing values ? (Non-null column)\n",
            "<class 'pandas.core.frame.DataFrame'>\n",
            "Int64Index: 365 entries, 0 to 364\n",
            "Data columns (total 20 columns):\n",
            " #   Column                  Non-Null Count  Dtype  \n",
            "---  ------                  --------------  -----  \n",
            " 0   DATE                    365 non-null    object \n",
            " 1   MAX_TEMPERATURE_C       365 non-null    int64  \n",
            " 2   MIN_TEMPERATURE_C       365 non-null    int64  \n",
            " 3   WINDSPEED_MAX_KMH       365 non-null    int64  \n",
            " 4   TEMPERATURE_MORNING_C   365 non-null    int64  \n",
            " 5   TEMPERATURE_NOON_C      365 non-null    int64  \n",
            " 6   TEMPERATURE_EVENING_C   365 non-null    int64  \n",
            " 7   PRECIP_TOTAL_DAY_MM     365 non-null    float64\n",
            " 8   HUMIDITY_MAX_PERCENT    365 non-null    int64  \n",
            " 9   VISIBILITY_AVG_KM       365 non-null    float64\n",
            " 10  PRESSURE_MAX_MB         365 non-null    int64  \n",
            " 11  CLOUDCOVER_AVG_PERCENT  365 non-null    float64\n",
            " 12  HEATINDEX_MAX_C         365 non-null    int64  \n",
            " 13  DEWPOINT_MAX_C          365 non-null    int64  \n",
            " 14  WINDTEMP_MAX_C          365 non-null    int64  \n",
            " 15  WEATHER_CODE_EVENING    341 non-null    float64\n",
            " 16  TOTAL_SNOW_MM           341 non-null    float64\n",
            " 17  UV_INDEX                341 non-null    float64\n",
            " 18  SUNHOUR                 341 non-null    float64\n",
            " 19  OPINION                 341 non-null    object \n",
            "dtypes: float64(7), int64(11), object(2)\n",
            "memory usage: 59.9+ KB\n",
            "None\n"
          ]
        }
      ],
      "source": [
        "# Just execute the code below, to display a \"non-null\" column :\n",
        "print(\"My DataFrame shape is : \", df2018.shape, end = '\\n\\n\\n\\n')\n",
        "print('Which columns have missing values ? (Non-null column)')\n",
        "print(df2018.info())\n"
      ]
    },
    {
      "cell_type": "markdown",
      "metadata": {
        "id": "G8JuzY6wiXGP"
      },
      "source": [
        "### Find and display the Dates of missing values.\n",
        "You can help you with the method `.isna()`\n",
        "\n",
        "You have to find 24 different dates."
      ]
    },
    {
      "cell_type": "code",
      "execution_count": 70,
      "metadata": {
        "colab": {
          "base_uri": "https://localhost:8080/"
        },
        "id": "k3aBVUumirL-",
        "outputId": "1649bcee-842c-4945-bedd-ab6416f0285f"
      },
      "outputs": [
        {
          "output_type": "execute_result",
          "data": {
            "text/plain": [
              "DATE                       0\n",
              "MAX_TEMPERATURE_C          0\n",
              "MIN_TEMPERATURE_C          0\n",
              "WINDSPEED_MAX_KMH          0\n",
              "TEMPERATURE_MORNING_C      0\n",
              "TEMPERATURE_NOON_C         0\n",
              "TEMPERATURE_EVENING_C      0\n",
              "PRECIP_TOTAL_DAY_MM        0\n",
              "HUMIDITY_MAX_PERCENT       0\n",
              "VISIBILITY_AVG_KM          0\n",
              "PRESSURE_MAX_MB            0\n",
              "CLOUDCOVER_AVG_PERCENT     0\n",
              "HEATINDEX_MAX_C            0\n",
              "DEWPOINT_MAX_C             0\n",
              "WINDTEMP_MAX_C             0\n",
              "WEATHER_CODE_EVENING      24\n",
              "TOTAL_SNOW_MM             24\n",
              "UV_INDEX                  24\n",
              "SUNHOUR                   24\n",
              "OPINION                   24\n",
              "dtype: int64"
            ]
          },
          "metadata": {},
          "execution_count": 70
        }
      ],
      "source": [
        "# Your code here :\n",
        "\n",
        "df2018.isna().sum()"
      ]
    },
    {
      "cell_type": "markdown",
      "metadata": {
        "id": "4uyBORXD7SGL"
      },
      "source": [
        "## 2 - Before filling missing values, you have to create a new axis \"flag\", to document and to remember which lines you modify."
      ]
    },
    {
      "cell_type": "code",
      "execution_count": 71,
      "metadata": {
        "colab": {
          "base_uri": "https://localhost:8080/"
        },
        "id": "zAPjwqRb673g",
        "outputId": "7b7d429f-b577-49cc-a90e-a01877b271a5"
      },
      "outputs": [
        {
          "output_type": "execute_result",
          "data": {
            "text/plain": [
              "False    341\n",
              "True      24\n",
              "Name: flag, dtype: int64"
            ]
          },
          "metadata": {},
          "execution_count": 71
        }
      ],
      "source": [
        "# Just execute the code below :\n",
        "df2018['flag'] = df2018['OPINION'].isna()\n",
        "df2018['flag'].value_counts()"
      ]
    },
    {
      "cell_type": "markdown",
      "metadata": {
        "id": "xV589xMUwi_y"
      },
      "source": [
        "## 3 - Visualize and Fill the NaN"
      ]
    },
    {
      "cell_type": "markdown",
      "metadata": {
        "id": "loj1tBax0WEO"
      },
      "source": [
        "### 3.1 - First column : WEATHER_CODE_EVENING\n",
        "\n",
        "You have to visualize how are the well-filled data. Of course you know Matplotlib, and maybe, you know Seaborn and Plotly. But, did you know that Pandas integrate directly some parts of Matplotlib ? It's very useful, and don't need to import other libraries..."
      ]
    },
    {
      "cell_type": "markdown",
      "metadata": {
        "id": "0OfJmw2cFTqL"
      },
      "source": [
        "#### Scatterplot directly with Pandas"
      ]
    },
    {
      "cell_type": "code",
      "execution_count": 72,
      "metadata": {
        "colab": {
          "base_uri": "https://localhost:8080/",
          "height": 265
        },
        "id": "SjLKF6l6yzxs",
        "outputId": "8b41b9f3-c09c-4278-d22d-1bd830ec8338"
      },
      "outputs": [
        {
          "output_type": "display_data",
          "data": {
            "text/plain": [
              "<Figure size 432x288 with 1 Axes>"
            ],
            "image/png": "[encoded data removed]"
          },
          "metadata": {
            "needs_background": "light"
          }
        }
      ],
      "source": [
        "# Draw a scatterplot with Date on X-axis and WEATHER_CODE_EVENING on Y-axis\n",
        "\n",
        "import matplotlib.pyplot as plot\n",
        "from datetime import datetime\n",
        "\n",
        "df2018['DATE'] = pd.to_datetime(df2018['DATE'])\n",
        "\n",
        "plot.scatter(x=df2018['DATE'], y=df2018['WEATHER_CODE_EVENING'], color='blue')\n",
        "plot.ylabel(\"Weather Code Evening\")\n",
        "\n",
        "\n",
        "\n",
        "plot.show()"
      ]
    },
    {
      "cell_type": "markdown",
      "metadata": {
        "id": "0gmFthwQFV43"
      },
      "source": [
        "#### Boxplot directly with Pandas\n",
        "\n",
        "Here you can find [a little help](https://pandas.pydata.org/docs/reference/api/pandas.DataFrame.boxplot.html)"
      ]
    },
    {
      "cell_type": "code",
      "execution_count": 73,
      "metadata": {
        "colab": {
          "base_uri": "https://localhost:8080/",
          "height": 266
        },
        "id": "HNXtBQVC1OHM",
        "outputId": "6593c2ea-34c1-4f39-a94f-6826f8b40d5c"
      },
      "outputs": [
        {
          "output_type": "display_data",
          "data": {
            "text/plain": [
              "<Figure size 432x288 with 1 Axes>"
            ],
            "image/png": "[encoded data removed]"
          },
          "metadata": {
            "needs_background": "light"
          }
        }
      ],
      "source": [
        "# Find a way to draw directly with pandas a boxplot on the column WEATHER_CODE_EVENING\n",
        "\n",
        "\n",
        "boxplot = df2018.boxplot(column=['WEATHER_CODE_EVENING'])\n"
      ]
    },
    {
      "cell_type": "markdown",
      "metadata": {
        "id": "WS1Qn73uFd2G"
      },
      "source": [
        "#### Deciles\n",
        "\n",
        "Here you can find [a little help](https://pandas.pydata.org/docs/reference/api/pandas.DataFrame.quantile.html)"
      ]
    },
    {
      "cell_type": "code",
      "execution_count": 74,
      "metadata": {
        "colab": {
          "base_uri": "https://localhost:8080/"
        },
        "id": "ZSwhF8404BK6",
        "outputId": "e89a5e3c-1610-4d09-852a-6f6a621a7f15"
      },
      "outputs": [
        {
          "output_type": "execute_result",
          "data": {
            "text/plain": [
              "0      113.0\n",
              "195    113.0\n",
              "196    113.0\n",
              "198    113.0\n",
              "201    113.0\n",
              "       ...  \n",
              "317      NaN\n",
              "321      NaN\n",
              "325      NaN\n",
              "346      NaN\n",
              "349      NaN\n",
              "Name: WEATHER_CODE_EVENING, Length: 365, dtype: float64"
            ]
          },
          "metadata": {},
          "execution_count": 74
        }
      ],
      "source": [
        "# Find a way to print the 9 deciles + min + max of the column WEATHER_CODE_EVENING with the quantile method of pandas and a loop\n",
        "\n",
        "df2018.sort_values(by =['WEATHER_CODE_EVENING'], inplace = True)\n",
        "df2018['WEATHER_CODE_EVENING']"
      ]
    },
    {
      "cell_type": "markdown",
      "metadata": {
        "id": "QZKwDI4c5LFf"
      },
      "source": [
        "#### Fill values\n",
        "OK it seems that the most of datas are between 113 and 122. Maybe, we could fill the missing values with Mean or Median, it's up to you to choose. So you need :\n",
        "- Calculate the mean or the median\n",
        "- Fill the missing values only for **WEATHER_CODE_EVENING** with the `fillna()` method \n",
        "\n",
        "When you're OK, remember tu use the `inplace=True` argument, otherwise, your modification will not be stored."
      ]
    },
    {
      "cell_type": "code",
      "execution_count": 75,
      "metadata": {
        "colab": {
          "base_uri": "https://localhost:8080/"
        },
        "id": "mUsfFo3z5yPA",
        "outputId": "c033be0a-eb98-47cb-981d-57a4e0be84e4"
      },
      "outputs": [
        {
          "output_type": "execute_result",
          "data": {
            "text/plain": [
              "113.000000    154\n",
              "116.000000     78\n",
              "122.000000     59\n",
              "119.000000     34\n",
              "118.507331     24\n",
              "143.000000     12\n",
              "200.000000      2\n",
              "248.000000      1\n",
              "353.000000      1\n",
              "Name: WEATHER_CODE_EVENING, dtype: int64"
            ]
          },
          "metadata": {},
          "execution_count": 75
        }
      ],
      "source": [
        "# Hop ! Your code here :\n",
        "\n",
        "mean_weather_column = df2018['WEATHER_CODE_EVENING'].mean()    #You have to complete this\n",
        "df2018['WEATHER_CODE_EVENING'].fillna(mean_weather_column, \n",
        "                                      inplace = True) # When you are OK, you can replace this argument by True\n",
        "df2018['WEATHER_CODE_EVENING'].value_counts()"
      ]
    },
    {
      "cell_type": "code",
      "execution_count": 76,
      "metadata": {
        "colab": {
          "base_uri": "https://localhost:8080/"
        },
        "id": "qlg_bKw4mICl",
        "outputId": "5192a5e8-7882-47f9-cb75-777597499931"
      },
      "outputs": [
        {
          "output_type": "stream",
          "name": "stdout",
          "text": [
            "I have  0 missing values in the column WEATHER_CODE_EVENING\n"
          ]
        }
      ],
      "source": [
        "# You can use this code to check how many missing values you have :\n",
        "column_name = 'WEATHER_CODE_EVENING'\n",
        "print(\"I have \" ,df2018[column_name].isna().sum(), \"missing values in the column\", column_name)"
      ]
    },
    {
      "cell_type": "markdown",
      "metadata": {
        "id": "le_hQxxU8ZWL"
      },
      "source": [
        "### 3.2 - Next columns : TOTAL_SNOW_MM and UV_INDEX\n",
        "\n",
        "We trust you to choose right values to fill for both columns"
      ]
    },
    {
      "cell_type": "code",
      "execution_count": 77,
      "metadata": {
        "colab": {
          "base_uri": "https://localhost:8080/"
        },
        "id": "if7e3Z-_v8-Y",
        "outputId": "65c12941-a5e2-4752-f1f0-fffd0a11b0df"
      },
      "outputs": [
        {
          "output_type": "stream",
          "name": "stdout",
          "text": [
            "I have  24 missing values in the column\n",
            "I have  24 missing values in the column\n"
          ]
        }
      ],
      "source": [
        "print(\"I have \" ,df2018['TOTAL_SNOW_MM'].isna().sum(), \"missing values in the column\")\n",
        "print(\"I have \" ,df2018['UV_INDEX'].isna().sum(), \"missing values in the column\")"
      ]
    },
    {
      "cell_type": "code",
      "execution_count": 78,
      "metadata": {
        "id": "GIxOv06L8wSj"
      },
      "outputs": [],
      "source": [
        "# Your code here\n",
        "\n",
        "mean_total_snow = df2018['TOTAL_SNOW_MM'].mean()\n",
        "mean_uv = df2018['UV_INDEX'].mean()\n",
        "\n",
        "df2018['TOTAL_SNOW_MM'].fillna(mean_total_snow, inplace = True)\n",
        "df2018['UV_INDEX'].fillna(mean_uv, inplace = True)"
      ]
    },
    {
      "cell_type": "code",
      "execution_count": 79,
      "metadata": {
        "colab": {
          "base_uri": "https://localhost:8080/"
        },
        "id": "JQH2t-bDxMU3",
        "outputId": "750dd118-00c5-4a1f-effd-ca6873206b48"
      },
      "outputs": [
        {
          "output_type": "stream",
          "name": "stdout",
          "text": [
            "I have  0 missing values in the column TOTAL_SNOW_MM.\n",
            "I have  0 missing values in the column UV_INDEX.\n"
          ]
        }
      ],
      "source": [
        "print(\"I have \" ,df2018['TOTAL_SNOW_MM'].isna().sum(), \"missing values in the column TOTAL_SNOW_MM.\")\n",
        "print(\"I have \" ,df2018['UV_INDEX'].isna().sum(), \"missing values in the column UV_INDEX.\")"
      ]
    },
    {
      "cell_type": "markdown",
      "metadata": {
        "id": "7vesplgF8v5g"
      },
      "source": [
        "### 3.3 - Next column : \n",
        "SUNHOUR"
      ]
    },
    {
      "cell_type": "code",
      "execution_count": 80,
      "metadata": {
        "colab": {
          "base_uri": "https://localhost:8080/",
          "height": 282
        },
        "id": "ysILwt6X84bv",
        "outputId": "05767f76-a70e-4acc-ba6a-a584e1801a9e"
      },
      "outputs": [
        {
          "output_type": "execute_result",
          "data": {
            "text/plain": [
              "Text(0, 0.5, 'Sun Hour')"
            ]
          },
          "metadata": {},
          "execution_count": 80
        },
        {
          "output_type": "display_data",
          "data": {
            "text/plain": [
              "<Figure size 432x288 with 1 Axes>"
            ],
            "image/png": "[encoded data removed]"
          },
          "metadata": {
            "needs_background": "light"
          }
        }
      ],
      "source": [
        "# Draw a scatterplot with Date on X-axis and SUNHOUR on Y-axis\n",
        "\n",
        "df2018['DATE'] = pd.to_datetime(df2018['DATE'])\n",
        "\n",
        "plot.scatter(x=df2018['DATE'], y=df2018['SUNHOUR'], color='yellow')\n",
        "plot.ylabel(\"Sun Hour\")"
      ]
    },
    {
      "cell_type": "markdown",
      "metadata": {
        "id": "BWhXVf-o9O0N"
      },
      "source": [
        "#### Propagation\n",
        "**It seems this is not a good idea to apply the same value all year long...**\n",
        "\n",
        "You could use the the `method = 'ffill'` or `'bfill'` argument in `fillna()` to propagate non-null values forward or backward."
      ]
    },
    {
      "cell_type": "code",
      "execution_count": 81,
      "metadata": {
        "id": "Ox3IsoPc-mAE"
      },
      "outputs": [],
      "source": [
        "# Your code here\n",
        "\n",
        "df2018['SUNHOUR'] = df2018['SUNHOUR'].ffill().bfill()\n",
        "\n",
        "\n"
      ]
    },
    {
      "cell_type": "code",
      "execution_count": 82,
      "metadata": {
        "colab": {
          "base_uri": "https://localhost:8080/"
        },
        "id": "dCiQMQGn2TtG",
        "outputId": "b29b3da4-d7fc-4a36-b463-076377836f9f"
      },
      "outputs": [
        {
          "output_type": "execute_result",
          "data": {
            "text/plain": [
              "DATE                       0\n",
              "MAX_TEMPERATURE_C          0\n",
              "MIN_TEMPERATURE_C          0\n",
              "WINDSPEED_MAX_KMH          0\n",
              "TEMPERATURE_MORNING_C      0\n",
              "TEMPERATURE_NOON_C         0\n",
              "TEMPERATURE_EVENING_C      0\n",
              "PRECIP_TOTAL_DAY_MM        0\n",
              "HUMIDITY_MAX_PERCENT       0\n",
              "VISIBILITY_AVG_KM          0\n",
              "PRESSURE_MAX_MB            0\n",
              "CLOUDCOVER_AVG_PERCENT     0\n",
              "HEATINDEX_MAX_C            0\n",
              "DEWPOINT_MAX_C             0\n",
              "WINDTEMP_MAX_C             0\n",
              "WEATHER_CODE_EVENING       0\n",
              "TOTAL_SNOW_MM              0\n",
              "UV_INDEX                   0\n",
              "SUNHOUR                    0\n",
              "OPINION                   24\n",
              "flag                       0\n",
              "dtype: int64"
            ]
          },
          "metadata": {},
          "execution_count": 82
        }
      ],
      "source": [
        "df2018.isna().sum()"
      ]
    },
    {
      "cell_type": "markdown",
      "metadata": {
        "id": "11f1by-w-4u3"
      },
      "source": [
        "### 3.4 - Column : OPINION\n",
        "For Opinion, we have not yet idea. So, we can write a new value 'unknown' in this column."
      ]
    },
    {
      "cell_type": "code",
      "execution_count": 83,
      "metadata": {
        "colab": {
          "base_uri": "https://localhost:8080/"
        },
        "id": "wpFiSPfjpBnO",
        "outputId": "4cebcf4b-8da9-4a85-f9f5-faa22af89c78"
      },
      "outputs": [
        {
          "output_type": "execute_result",
          "data": {
            "text/plain": [
              "0                   bad\n",
              "195           very good\n",
              "196                good\n",
              "198                good\n",
              "201    not good not bad\n",
              "             ...       \n",
              "317             unknown\n",
              "321             unknown\n",
              "325             unknown\n",
              "346             unknown\n",
              "349             unknown\n",
              "Name: OPINION, Length: 365, dtype: object"
            ]
          },
          "metadata": {},
          "execution_count": 83
        }
      ],
      "source": [
        "# Your code here\n",
        "df2018['OPINION'] = df2018['OPINION'].fillna(\"unknown\")\n",
        "df2018['OPINION']"
      ]
    },
    {
      "cell_type": "markdown",
      "metadata": {
        "id": "iEokSY6O-u-H"
      },
      "source": [
        "## Now, each axis should have 365 non-null values."
      ]
    },
    {
      "cell_type": "code",
      "execution_count": 84,
      "metadata": {
        "colab": {
          "base_uri": "https://localhost:8080/"
        },
        "id": "1BioxU79956l",
        "outputId": "ce5f194f-29ec-40f4-9747-f3b0606db054"
      },
      "outputs": [
        {
          "output_type": "stream",
          "name": "stdout",
          "text": [
            "<class 'pandas.core.frame.DataFrame'>\n",
            "Int64Index: 365 entries, 0 to 349\n",
            "Data columns (total 21 columns):\n",
            " #   Column                  Non-Null Count  Dtype         \n",
            "---  ------                  --------------  -----         \n",
            " 0   DATE                    365 non-null    datetime64[ns]\n",
            " 1   MAX_TEMPERATURE_C       365 non-null    int64         \n",
            " 2   MIN_TEMPERATURE_C       365 non-null    int64         \n",
            " 3   WINDSPEED_MAX_KMH       365 non-null    int64         \n",
            " 4   TEMPERATURE_MORNING_C   365 non-null    int64         \n",
            " 5   TEMPERATURE_NOON_C      365 non-null    int64         \n",
            " 6   TEMPERATURE_EVENING_C   365 non-null    int64         \n",
            " 7   PRECIP_TOTAL_DAY_MM     365 non-null    float64       \n",
            " 8   HUMIDITY_MAX_PERCENT    365 non-null    int64         \n",
            " 9   VISIBILITY_AVG_KM       365 non-null    float64       \n",
            " 10  PRESSURE_MAX_MB         365 non-null    int64         \n",
            " 11  CLOUDCOVER_AVG_PERCENT  365 non-null    float64       \n",
            " 12  HEATINDEX_MAX_C         365 non-null    int64         \n",
            " 13  DEWPOINT_MAX_C          365 non-null    int64         \n",
            " 14  WINDTEMP_MAX_C          365 non-null    int64         \n",
            " 15  WEATHER_CODE_EVENING    365 non-null    float64       \n",
            " 16  TOTAL_SNOW_MM           365 non-null    float64       \n",
            " 17  UV_INDEX                365 non-null    float64       \n",
            " 18  SUNHOUR                 365 non-null    float64       \n",
            " 19  OPINION                 365 non-null    object        \n",
            " 20  flag                    365 non-null    bool          \n",
            "dtypes: bool(1), datetime64[ns](1), float64(7), int64(11), object(1)\n",
            "memory usage: 60.2+ KB\n"
          ]
        }
      ],
      "source": [
        "df2018.info()"
      ]
    },
    {
      "cell_type": "markdown",
      "metadata": {
        "id": "BiXcI3AdJCJW"
      },
      "source": [
        "## 4 - Visualize your modifications\n",
        "Draw 4 scatterplots with Date on X-axis, and each of the 4 numeric modified columns on Y-axis :\n",
        "- The original datas will be in blue\n",
        "- The new data (your datas) in red\n",
        "\n",
        "It's the moment to use your \"flag\" column created at the beginning. It'll be easier in seaborn with `hue` argument.\n",
        "\n",
        "You should get something like this:"
      ]
    },
    {
      "cell_type": "markdown",
      "metadata": {
        "id": "NPWdQ2-FOV-r"
      },
      "source": [
        "![Capture d’écran 2021-10-25 à 18.11.35.png](data:image/png;base64,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)"
      ]
    },
    {
      "cell_type": "code",
      "execution_count": 117,
      "metadata": {
        "colab": {
          "base_uri": "https://localhost:8080/",
          "height": 730
        },
        "id": "0B2-rD6IGG50",
        "outputId": "b35ef518-ba60-44d2-f92a-3a158f080188"
      },
      "outputs": [
        {
          "output_type": "display_data",
          "data": {
            "text/plain": [
              "<Figure size 1296x864 with 4 Axes>"
            ],
            "image/png": "[encoded data removed]"
          },
          "metadata": {
            "needs_background": "light"
          }
        }
      ],
      "source": [
        "# Your code here\n",
        "\n",
        "import seaborn as sns\n",
        "\n",
        "fig, axes = plot.subplots(2, 2, figsize=(18,12))\n",
        "# First\n",
        "sns.scatterplot(ax=axes[0, 0], data=df2018, x='DATE', y='WEATHER_CODE_EVENING', hue= 'flag')\n",
        "ax=axes[0, 0].set_title('WEATHER_CODE_EVENING')\n",
        "\n",
        "\n",
        "#Second\n",
        "\n",
        "sns.scatterplot(ax=axes[0, 1], data=df2018, x='DATE', y='TOTAL_SNOW_MM', hue= 'flag')\n",
        "ax=axes[0, 1].set_title('TOTAL_SNOW_MM')\n",
        "\n",
        "\n",
        "#Third\n",
        "\n",
        "sns.scatterplot(ax=axes[1, 0], data=df2018, x='DATE', y='UV_INDEX', hue= 'flag')\n",
        "ax=axes[1, 0].set_title('UV_INDEX')\n",
        "\n",
        "\n",
        "#Fourth\n",
        "\n",
        "sns.scatterplot(ax=axes[1, 1], data=df2018, x='DATE', y='SUNHOUR', hue= 'flag')\n",
        "plot.legend(loc='upper right')\n",
        "ax=axes[1, 1].set_title('SUNHOUR')\n",
        "\n",
        "plot.show()"
      ]
    },
    {
      "cell_type": "code",
      "source": [
        "df2018.isna().sum()"
      ],
      "metadata": {
        "colab": {
          "base_uri": "https://localhost:8080/"
        },
        "id": "qAcoCSEpMO9-",
        "outputId": "568ac4c6-f369-43bc-923c-0a0459367dd5"
      },
      "execution_count": 89,
      "outputs": [
        {
          "output_type": "execute_result",
          "data": {
            "text/plain": [
              "DATE                      0\n",
              "MAX_TEMPERATURE_C         0\n",
              "MIN_TEMPERATURE_C         0\n",
              "WINDSPEED_MAX_KMH         0\n",
              "TEMPERATURE_MORNING_C     0\n",
              "TEMPERATURE_NOON_C        0\n",
              "TEMPERATURE_EVENING_C     0\n",
              "PRECIP_TOTAL_DAY_MM       0\n",
              "HUMIDITY_MAX_PERCENT      0\n",
              "VISIBILITY_AVG_KM         0\n",
              "PRESSURE_MAX_MB           0\n",
              "CLOUDCOVER_AVG_PERCENT    0\n",
              "HEATINDEX_MAX_C           0\n",
              "DEWPOINT_MAX_C            0\n",
              "WINDTEMP_MAX_C            0\n",
              "WEATHER_CODE_EVENING      0\n",
              "TOTAL_SNOW_MM             0\n",
              "UV_INDEX                  0\n",
              "SUNHOUR                   0\n",
              "OPINION                   0\n",
              "flag                      0\n",
              "dtype: int64"
            ]
          },
          "metadata": {},
          "execution_count": 89
        }
      ]
    },
    {
      "cell_type": "markdown",
      "source": [
        "**1.** Crée une fonction translate qui traduit chacune des 5 valeurs possibles présente dans OPINION en français. Ta fonction doit prendre un str en paramètre, et retourner un autre str avec la traduction. Par exemple : translate(\"bad\") doit retourner \"mauvais\". Idem pour very bad, not good not bad, good et very good. Tu peux utiliser un dictionnaire dict, ou bien des conditions imbriquées (le dictionnaire est plus élégant)."
      ],
      "metadata": {
        "id": "EqOfDY4741G4"
      }
    },
    {
      "cell_type": "code",
      "source": [
        "opinion = {'bad': 'mauvais', 'very bad': 'très mauvais', 'not good not bad': 'ni bon ni mauvais', 'good': 'bon', 'very good': 'très bon', 'unknown': 'inconnu'}\n",
        "def translation(words):\n",
        "    value = opinion[words]\n",
        "    return value\n",
        "\n",
        "words= 'unknown'\n",
        "translation(words)"
      ],
      "metadata": {
        "colab": {
          "base_uri": "https://localhost:8080/",
          "height": 35
        },
        "id": "pkbYVInWMRuL",
        "outputId": "5a414adf-a498-4ade-d136-1bdb5b4eedb6"
      },
      "execution_count": 90,
      "outputs": [
        {
          "output_type": "execute_result",
          "data": {
            "text/plain": [
              "'inconnu'"
            ],
            "application/vnd.google.colaboratory.intrinsic+json": {
              "type": "string"
            }
          },
          "metadata": {},
          "execution_count": 90
        }
      ]
    },
    {
      "cell_type": "markdown",
      "source": [
        "**2.** Applique avec apply ta fonction à la Série OPINION, vérifie que ca fonctionne, puis stocke le résultat dans cette même colonne OPINION."
      ],
      "metadata": {
        "id": "_uRUi-s55Cxh"
      }
    },
    {
      "cell_type": "code",
      "source": [
        "df2018['OPINION'] = df2018['OPINION'].apply(translation)"
      ],
      "metadata": {
        "id": "xTF7Rt-fZr1Z"
      },
      "execution_count": 91,
      "outputs": []
    },
    {
      "cell_type": "code",
      "source": [
        "df2018[['OPINION']]"
      ],
      "metadata": {
        "colab": {
          "base_uri": "https://localhost:8080/",
          "height": 424
        },
        "id": "NHlRagt0Z5m8",
        "outputId": "fb19d4f4-256c-408b-a38e-3923d362bb42"
      },
      "execution_count": 92,
      "outputs": [
        {
          "output_type": "execute_result",
          "data": {
            "text/plain": [
              "               OPINION\n",
              "0              mauvais\n",
              "195           très bon\n",
              "196                bon\n",
              "198                bon\n",
              "201  ni bon ni mauvais\n",
              "..                 ...\n",
              "317            inconnu\n",
              "321            inconnu\n",
              "325            inconnu\n",
              "346            inconnu\n",
              "349            inconnu\n",
              "\n",
              "[365 rows x 1 columns]"
            ],
            "text/html": [
              "\n",
              "  <div id=\"df-a6ebd750-09f7-45d2-87dc-92a0bd6509a1\">\n",
              "    <div class=\"colab-df-container\">\n",
              "      <div>\n",
              "<style scoped>\n",
              "    .dataframe tbody tr th:only-of-type {\n",
              "        vertical-align: middle;\n",
              "    }\n",
              "\n",
              "    .dataframe tbody tr th {\n",
              "        vertical-align: top;\n",
              "    }\n",
              "\n",
              "    .dataframe thead th {\n",
              "        text-align: right;\n",
              "    }\n",
              "</style>\n",
              "<table border=\"1\" class=\"dataframe\">\n",
              "  <thead>\n",
              "    <tr style=\"text-align: right;\">\n",
              "      <th></th>\n",
              "      <th>OPINION</th>\n",
              "    </tr>\n",
              "  </thead>\n",
              "  <tbody>\n",
              "    <tr>\n",
              "      <th>0</th>\n",
              "      <td>mauvais</td>\n",
              "    </tr>\n",
              "    <tr>\n",
              "      <th>195</th>\n",
              "      <td>très bon</td>\n",
              "    </tr>\n",
              "    <tr>\n",
              "      <th>196</th>\n",
              "      <td>bon</td>\n",
              "    </tr>\n",
              "    <tr>\n",
              "      <th>198</th>\n",
              "      <td>bon</td>\n",
              "    </tr>\n",
              "    <tr>\n",
              "      <th>201</th>\n",
              "      <td>ni bon ni mauvais</td>\n",
              "    </tr>\n",
              "    <tr>\n",
              "      <th>...</th>\n",
              "      <td>...</td>\n",
              "    </tr>\n",
              "    <tr>\n",
              "      <th>317</th>\n",
              "      <td>inconnu</td>\n",
              "    </tr>\n",
              "    <tr>\n",
              "      <th>321</th>\n",
              "      <td>inconnu</td>\n",
              "    </tr>\n",
              "    <tr>\n",
              "      <th>325</th>\n",
              "      <td>inconnu</td>\n",
              "    </tr>\n",
              "    <tr>\n",
              "      <th>346</th>\n",
              "      <td>inconnu</td>\n",
              "    </tr>\n",
              "    <tr>\n",
              "      <th>349</th>\n",
              "      <td>inconnu</td>\n",
              "    </tr>\n",
              "  </tbody>\n",
              "</table>\n",
              "<p>365 rows × 1 columns</p>\n",
              "</div>\n",
              "      <button class=\"colab-df-convert\" onclick=\"convertToInteractive('df-a6ebd750-09f7-45d2-87dc-92a0bd6509a1')\"\n",
              "              title=\"Convert this dataframe to an interactive table.\"\n",
              "              style=\"display:none;\">\n",
              "        \n",
              "  <svg xmlns=\"http://www.w3.org/2000/svg\" height=\"24px\"viewBox=\"0 0 24 24\"\n",
              "       width=\"24px\">\n",
              "    <path d=\"M0 0h24v24H0V0z\" fill=\"none\"/>\n",
              "    <path d=\"M18.56 5.44l.94 2.06.94-2.06 2.06-.94-2.06-.94-.94-2.06-.94 2.06-2.06.94zm-11 1L8.5 8.5l.94-2.06 2.06-.94-2.06-.94L8.5 2.5l-.94 2.06-2.06.94zm10 10l.94 2.06.94-2.06 2.06-.94-2.06-.94-.94-2.06-.94 2.06-2.06.94z\"/><path d=\"M17.41 7.96l-1.37-1.37c-.4-.4-.92-.59-1.43-.59-.52 0-1.04.2-1.43.59L10.3 9.45l-7.72 7.72c-.78.78-.78 2.05 0 2.83L4 21.41c.39.39.9.59 1.41.59.51 0 1.02-.2 1.41-.59l7.78-7.78 2.81-2.81c.8-.78.8-2.07 0-2.86zM5.41 20L4 18.59l7.72-7.72 1.47 1.35L5.41 20z\"/>\n",
              "  </svg>\n",
              "      </button>\n",
              "      \n",
              "  <style>\n",
              "    .colab-df-container {\n",
              "      display:flex;\n",
              "      flex-wrap:wrap;\n",
              "      gap: 12px;\n",
              "    }\n",
              "\n",
              "    .colab-df-convert {\n",
              "      background-color: #E8F0FE;\n",
              "      border: none;\n",
              "      border-radius: 50%;\n",
              "      cursor: pointer;\n",
              "      display: none;\n",
              "      fill: #1967D2;\n",
              "      height: 32px;\n",
              "      padding: 0 0 0 0;\n",
              "      width: 32px;\n",
              "    }\n",
              "\n",
              "    .colab-df-convert:hover {\n",
              "      background-color: #E2EBFA;\n",
              "      box-shadow: 0px 1px 2px rgba(60, 64, 67, 0.3), 0px 1px 3px 1px rgba(60, 64, 67, 0.15);\n",
              "      fill: #174EA6;\n",
              "    }\n",
              "\n",
              "    [theme=dark] .colab-df-convert {\n",
              "      background-color: #3B4455;\n",
              "      fill: #D2E3FC;\n",
              "    }\n",
              "\n",
              "    [theme=dark] .colab-df-convert:hover {\n",
              "      background-color: #434B5C;\n",
              "      box-shadow: 0px 1px 3px 1px rgba(0, 0, 0, 0.15);\n",
              "      filter: drop-shadow(0px 1px 2px rgba(0, 0, 0, 0.3));\n",
              "      fill: #FFFFFF;\n",
              "    }\n",
              "  </style>\n",
              "\n",
              "      <script>\n",
              "        const buttonEl =\n",
              "          document.querySelector('#df-a6ebd750-09f7-45d2-87dc-92a0bd6509a1 button.colab-df-convert');\n",
              "        buttonEl.style.display =\n",
              "          google.colab.kernel.accessAllowed ? 'block' : 'none';\n",
              "\n",
              "        async function convertToInteractive(key) {\n",
              "          const element = document.querySelector('#df-a6ebd750-09f7-45d2-87dc-92a0bd6509a1');\n",
              "          const dataTable =\n",
              "            await google.colab.kernel.invokeFunction('convertToInteractive',\n",
              "                                                     [key], {});\n",
              "          if (!dataTable) return;\n",
              "\n",
              "          const docLinkHtml = 'Like what you see? Visit the ' +\n",
              "            '<a target=\"_blank\" href=https://colab.research.google.com/notebooks/data_table.ipynb>data table notebook</a>'\n",
              "            + ' to learn more about interactive tables.';\n",
              "          element.innerHTML = '';\n",
              "          dataTable['output_type'] = 'display_data';\n",
              "          await google.colab.output.renderOutput(dataTable, element);\n",
              "          const docLink = document.createElement('div');\n",
              "          docLink.innerHTML = docLinkHtml;\n",
              "          element.appendChild(docLink);\n",
              "        }\n",
              "      </script>\n",
              "    </div>\n",
              "  </div>\n",
              "  "
            ]
          },
          "metadata": {},
          "execution_count": 92
        }
      ]
    },
    {
      "cell_type": "markdown",
      "source": [
        "**3.** Utilise apply pour créer une nouvelle colonne MONTH qui contiendra le numéro du mois (de 1 à 12). Tu peux définir une fonction, ou utiliser une fonction lambda."
      ],
      "metadata": {
        "id": "ttFo1i-Z5G5a"
      }
    },
    {
      "cell_type": "code",
      "source": [
        "df2018['MONTH']= df2018['DATE'].apply(lambda x: x.month)\n",
        "df2018[['MONTH']]"
      ],
      "metadata": {
        "colab": {
          "base_uri": "https://localhost:8080/",
          "height": 424
        },
        "id": "p52hE55odSCV",
        "outputId": "3def4e0d-2ca3-4b6d-a141-6c78199d84f4"
      },
      "execution_count": 93,
      "outputs": [
        {
          "output_type": "execute_result",
          "data": {
            "text/plain": [
              "     MONTH\n",
              "0        1\n",
              "195      7\n",
              "196      7\n",
              "198      7\n",
              "201      7\n",
              "..     ...\n",
              "317     11\n",
              "321     11\n",
              "325     11\n",
              "346     12\n",
              "349     12\n",
              "\n",
              "[365 rows x 1 columns]"
            ],
            "text/html": [
              "\n",
              "  <div id=\"df-385f71f0-6a3f-4f54-af4d-11715c2ecb0a\">\n",
              "    <div class=\"colab-df-container\">\n",
              "      <div>\n",
              "<style scoped>\n",
              "    .dataframe tbody tr th:only-of-type {\n",
              "        vertical-align: middle;\n",
              "    }\n",
              "\n",
              "    .dataframe tbody tr th {\n",
              "        vertical-align: top;\n",
              "    }\n",
              "\n",
              "    .dataframe thead th {\n",
              "        text-align: right;\n",
              "    }\n",
              "</style>\n",
              "<table border=\"1\" class=\"dataframe\">\n",
              "  <thead>\n",
              "    <tr style=\"text-align: right;\">\n",
              "      <th></th>\n",
              "      <th>MONTH</th>\n",
              "    </tr>\n",
              "  </thead>\n",
              "  <tbody>\n",
              "    <tr>\n",
              "      <th>0</th>\n",
              "      <td>1</td>\n",
              "    </tr>\n",
              "    <tr>\n",
              "      <th>195</th>\n",
              "      <td>7</td>\n",
              "    </tr>\n",
              "    <tr>\n",
              "      <th>196</th>\n",
              "      <td>7</td>\n",
              "    </tr>\n",
              "    <tr>\n",
              "      <th>198</th>\n",
              "      <td>7</td>\n",
              "    </tr>\n",
              "    <tr>\n",
              "      <th>201</th>\n",
              "      <td>7</td>\n",
              "    </tr>\n",
              "    <tr>\n",
              "      <th>...</th>\n",
              "      <td>...</td>\n",
              "    </tr>\n",
              "    <tr>\n",
              "      <th>317</th>\n",
              "      <td>11</td>\n",
              "    </tr>\n",
              "    <tr>\n",
              "      <th>321</th>\n",
              "      <td>11</td>\n",
              "    </tr>\n",
              "    <tr>\n",
              "      <th>325</th>\n",
              "      <td>11</td>\n",
              "    </tr>\n",
              "    <tr>\n",
              "      <th>346</th>\n",
              "      <td>12</td>\n",
              "    </tr>\n",
              "    <tr>\n",
              "      <th>349</th>\n",
              "      <td>12</td>\n",
              "    </tr>\n",
              "  </tbody>\n",
              "</table>\n",
              "<p>365 rows × 1 columns</p>\n",
              "</div>\n",
              "      <button class=\"colab-df-convert\" onclick=\"convertToInteractive('df-385f71f0-6a3f-4f54-af4d-11715c2ecb0a')\"\n",
              "              title=\"Convert this dataframe to an interactive table.\"\n",
              "              style=\"display:none;\">\n",
              "        \n",
              "  <svg xmlns=\"http://www.w3.org/2000/svg\" height=\"24px\"viewBox=\"0 0 24 24\"\n",
              "       width=\"24px\">\n",
              "    <path d=\"M0 0h24v24H0V0z\" fill=\"none\"/>\n",
              "    <path d=\"M18.56 5.44l.94 2.06.94-2.06 2.06-.94-2.06-.94-.94-2.06-.94 2.06-2.06.94zm-11 1L8.5 8.5l.94-2.06 2.06-.94-2.06-.94L8.5 2.5l-.94 2.06-2.06.94zm10 10l.94 2.06.94-2.06 2.06-.94-2.06-.94-.94-2.06-.94 2.06-2.06.94z\"/><path d=\"M17.41 7.96l-1.37-1.37c-.4-.4-.92-.59-1.43-.59-.52 0-1.04.2-1.43.59L10.3 9.45l-7.72 7.72c-.78.78-.78 2.05 0 2.83L4 21.41c.39.39.9.59 1.41.59.51 0 1.02-.2 1.41-.59l7.78-7.78 2.81-2.81c.8-.78.8-2.07 0-2.86zM5.41 20L4 18.59l7.72-7.72 1.47 1.35L5.41 20z\"/>\n",
              "  </svg>\n",
              "      </button>\n",
              "      \n",
              "  <style>\n",
              "    .colab-df-container {\n",
              "      display:flex;\n",
              "      flex-wrap:wrap;\n",
              "      gap: 12px;\n",
              "    }\n",
              "\n",
              "    .colab-df-convert {\n",
              "      background-color: #E8F0FE;\n",
              "      border: none;\n",
              "      border-radius: 50%;\n",
              "      cursor: pointer;\n",
              "      display: none;\n",
              "      fill: #1967D2;\n",
              "      height: 32px;\n",
              "      padding: 0 0 0 0;\n",
              "      width: 32px;\n",
              "    }\n",
              "\n",
              "    .colab-df-convert:hover {\n",
              "      background-color: #E2EBFA;\n",
              "      box-shadow: 0px 1px 2px rgba(60, 64, 67, 0.3), 0px 1px 3px 1px rgba(60, 64, 67, 0.15);\n",
              "      fill: #174EA6;\n",
              "    }\n",
              "\n",
              "    [theme=dark] .colab-df-convert {\n",
              "      background-color: #3B4455;\n",
              "      fill: #D2E3FC;\n",
              "    }\n",
              "\n",
              "    [theme=dark] .colab-df-convert:hover {\n",
              "      background-color: #434B5C;\n",
              "      box-shadow: 0px 1px 3px 1px rgba(0, 0, 0, 0.15);\n",
              "      filter: drop-shadow(0px 1px 2px rgba(0, 0, 0, 0.3));\n",
              "      fill: #FFFFFF;\n",
              "    }\n",
              "  </style>\n",
              "\n",
              "      <script>\n",
              "        const buttonEl =\n",
              "          document.querySelector('#df-385f71f0-6a3f-4f54-af4d-11715c2ecb0a button.colab-df-convert');\n",
              "        buttonEl.style.display =\n",
              "          google.colab.kernel.accessAllowed ? 'block' : 'none';\n",
              "\n",
              "        async function convertToInteractive(key) {\n",
              "          const element = document.querySelector('#df-385f71f0-6a3f-4f54-af4d-11715c2ecb0a');\n",
              "          const dataTable =\n",
              "            await google.colab.kernel.invokeFunction('convertToInteractive',\n",
              "                                                     [key], {});\n",
              "          if (!dataTable) return;\n",
              "\n",
              "          const docLinkHtml = 'Like what you see? Visit the ' +\n",
              "            '<a target=\"_blank\" href=https://colab.research.google.com/notebooks/data_table.ipynb>data table notebook</a>'\n",
              "            + ' to learn more about interactive tables.';\n",
              "          element.innerHTML = '';\n",
              "          dataTable['output_type'] = 'display_data';\n",
              "          await google.colab.output.renderOutput(dataTable, element);\n",
              "          const docLink = document.createElement('div');\n",
              "          docLink.innerHTML = docLinkHtml;\n",
              "          element.appendChild(docLink);\n",
              "        }\n",
              "      </script>\n",
              "    </div>\n",
              "  </div>\n",
              "  "
            ]
          },
          "metadata": {},
          "execution_count": 93
        }
      ]
    },
    {
      "cell_type": "markdown",
      "source": [
        "**4.** Utilise apply pour créer une nouvelle colonne DAY qui contiendra le numéro du jour (de 1 à 31). Tu peux définir une fonction, ou utiliser une fonction lambda."
      ],
      "metadata": {
        "id": "3j-G2NFP5O6X"
      }
    },
    {
      "cell_type": "code",
      "source": [
        "df2018['DAY']= df2018['DATE'].apply(lambda x: x.day)\n",
        "df2018[['DAY']]"
      ],
      "metadata": {
        "colab": {
          "base_uri": "https://localhost:8080/",
          "height": 424
        },
        "id": "DSsNT78RdY7K",
        "outputId": "d9a46fd3-0e94-4392-ebfb-fce46af5ea66"
      },
      "execution_count": 94,
      "outputs": [
        {
          "output_type": "execute_result",
          "data": {
            "text/plain": [
              "     DAY\n",
              "0      1\n",
              "195   15\n",
              "196   16\n",
              "198   18\n",
              "201   21\n",
              "..   ...\n",
              "317   14\n",
              "321   18\n",
              "325   22\n",
              "346   13\n",
              "349   16\n",
              "\n",
              "[365 rows x 1 columns]"
            ],
            "text/html": [
              "\n",
              "  <div id=\"df-662114f7-9a60-49c1-9a0f-9dda08121cfd\">\n",
              "    <div class=\"colab-df-container\">\n",
              "      <div>\n",
              "<style scoped>\n",
              "    .dataframe tbody tr th:only-of-type {\n",
              "        vertical-align: middle;\n",
              "    }\n",
              "\n",
              "    .dataframe tbody tr th {\n",
              "        vertical-align: top;\n",
              "    }\n",
              "\n",
              "    .dataframe thead th {\n",
              "        text-align: right;\n",
              "    }\n",
              "</style>\n",
              "<table border=\"1\" class=\"dataframe\">\n",
              "  <thead>\n",
              "    <tr style=\"text-align: right;\">\n",
              "      <th></th>\n",
              "      <th>DAY</th>\n",
              "    </tr>\n",
              "  </thead>\n",
              "  <tbody>\n",
              "    <tr>\n",
              "      <th>0</th>\n",
              "      <td>1</td>\n",
              "    </tr>\n",
              "    <tr>\n",
              "      <th>195</th>\n",
              "      <td>15</td>\n",
              "    </tr>\n",
              "    <tr>\n",
              "      <th>196</th>\n",
              "      <td>16</td>\n",
              "    </tr>\n",
              "    <tr>\n",
              "      <th>198</th>\n",
              "      <td>18</td>\n",
              "    </tr>\n",
              "    <tr>\n",
              "      <th>201</th>\n",
              "      <td>21</td>\n",
              "    </tr>\n",
              "    <tr>\n",
              "      <th>...</th>\n",
              "      <td>...</td>\n",
              "    </tr>\n",
              "    <tr>\n",
              "      <th>317</th>\n",
              "      <td>14</td>\n",
              "    </tr>\n",
              "    <tr>\n",
              "      <th>321</th>\n",
              "      <td>18</td>\n",
              "    </tr>\n",
              "    <tr>\n",
              "      <th>325</th>\n",
              "      <td>22</td>\n",
              "    </tr>\n",
              "    <tr>\n",
              "      <th>346</th>\n",
              "      <td>13</td>\n",
              "    </tr>\n",
              "    <tr>\n",
              "      <th>349</th>\n",
              "      <td>16</td>\n",
              "    </tr>\n",
              "  </tbody>\n",
              "</table>\n",
              "<p>365 rows × 1 columns</p>\n",
              "</div>\n",
              "      <button class=\"colab-df-convert\" onclick=\"convertToInteractive('df-662114f7-9a60-49c1-9a0f-9dda08121cfd')\"\n",
              "              title=\"Convert this dataframe to an interactive table.\"\n",
              "              style=\"display:none;\">\n",
              "        \n",
              "  <svg xmlns=\"http://www.w3.org/2000/svg\" height=\"24px\"viewBox=\"0 0 24 24\"\n",
              "       width=\"24px\">\n",
              "    <path d=\"M0 0h24v24H0V0z\" fill=\"none\"/>\n",
              "    <path d=\"M18.56 5.44l.94 2.06.94-2.06 2.06-.94-2.06-.94-.94-2.06-.94 2.06-2.06.94zm-11 1L8.5 8.5l.94-2.06 2.06-.94-2.06-.94L8.5 2.5l-.94 2.06-2.06.94zm10 10l.94 2.06.94-2.06 2.06-.94-2.06-.94-.94-2.06-.94 2.06-2.06.94z\"/><path d=\"M17.41 7.96l-1.37-1.37c-.4-.4-.92-.59-1.43-.59-.52 0-1.04.2-1.43.59L10.3 9.45l-7.72 7.72c-.78.78-.78 2.05 0 2.83L4 21.41c.39.39.9.59 1.41.59.51 0 1.02-.2 1.41-.59l7.78-7.78 2.81-2.81c.8-.78.8-2.07 0-2.86zM5.41 20L4 18.59l7.72-7.72 1.47 1.35L5.41 20z\"/>\n",
              "  </svg>\n",
              "      </button>\n",
              "      \n",
              "  <style>\n",
              "    .colab-df-container {\n",
              "      display:flex;\n",
              "      flex-wrap:wrap;\n",
              "      gap: 12px;\n",
              "    }\n",
              "\n",
              "    .colab-df-convert {\n",
              "      background-color: #E8F0FE;\n",
              "      border: none;\n",
              "      border-radius: 50%;\n",
              "      cursor: pointer;\n",
              "      display: none;\n",
              "      fill: #1967D2;\n",
              "      height: 32px;\n",
              "      padding: 0 0 0 0;\n",
              "      width: 32px;\n",
              "    }\n",
              "\n",
              "    .colab-df-convert:hover {\n",
              "      background-color: #E2EBFA;\n",
              "      box-shadow: 0px 1px 2px rgba(60, 64, 67, 0.3), 0px 1px 3px 1px rgba(60, 64, 67, 0.15);\n",
              "      fill: #174EA6;\n",
              "    }\n",
              "\n",
              "    [theme=dark] .colab-df-convert {\n",
              "      background-color: #3B4455;\n",
              "      fill: #D2E3FC;\n",
              "    }\n",
              "\n",
              "    [theme=dark] .colab-df-convert:hover {\n",
              "      background-color: #434B5C;\n",
              "      box-shadow: 0px 1px 3px 1px rgba(0, 0, 0, 0.15);\n",
              "      filter: drop-shadow(0px 1px 2px rgba(0, 0, 0, 0.3));\n",
              "      fill: #FFFFFF;\n",
              "    }\n",
              "  </style>\n",
              "\n",
              "      <script>\n",
              "        const buttonEl =\n",
              "          document.querySelector('#df-662114f7-9a60-49c1-9a0f-9dda08121cfd button.colab-df-convert');\n",
              "        buttonEl.style.display =\n",
              "          google.colab.kernel.accessAllowed ? 'block' : 'none';\n",
              "\n",
              "        async function convertToInteractive(key) {\n",
              "          const element = document.querySelector('#df-662114f7-9a60-49c1-9a0f-9dda08121cfd');\n",
              "          const dataTable =\n",
              "            await google.colab.kernel.invokeFunction('convertToInteractive',\n",
              "                                                     [key], {});\n",
              "          if (!dataTable) return;\n",
              "\n",
              "          const docLinkHtml = 'Like what you see? Visit the ' +\n",
              "            '<a target=\"_blank\" href=https://colab.research.google.com/notebooks/data_table.ipynb>data table notebook</a>'\n",
              "            + ' to learn more about interactive tables.';\n",
              "          element.innerHTML = '';\n",
              "          dataTable['output_type'] = 'display_data';\n",
              "          await google.colab.output.renderOutput(dataTable, element);\n",
              "          const docLink = document.createElement('div');\n",
              "          docLink.innerHTML = docLinkHtml;\n",
              "          element.appendChild(docLink);\n",
              "        }\n",
              "      </script>\n",
              "    </div>\n",
              "  </div>\n",
              "  "
            ]
          },
          "metadata": {},
          "execution_count": 94
        }
      ]
    },
    {
      "cell_type": "markdown",
      "source": [
        "**5.** Concatène les lignes du DataFrame 2018, avec celles de 2019 (tu as dû l'importer tout en haut de ton notebook)."
      ],
      "metadata": {
        "id": "qxQawaD85ZdI"
      }
    },
    {
      "cell_type": "code",
      "source": [
        "df_result = pd.concat([df2018, df_weather])"
      ],
      "metadata": {
        "id": "Rwz3EUG-jOEk"
      },
      "execution_count": 95,
      "outputs": []
    },
    {
      "cell_type": "code",
      "source": [
        "df_result.info()"
      ],
      "metadata": {
        "colab": {
          "base_uri": "https://localhost:8080/"
        },
        "id": "DgMnxChXkdQZ",
        "outputId": "df45ab72-39f6-4c5b-b7b5-e579e58830d7"
      },
      "execution_count": 96,
      "outputs": [
        {
          "output_type": "stream",
          "name": "stdout",
          "text": [
            "<class 'pandas.core.frame.DataFrame'>\n",
            "Int64Index: 730 entries, 0 to 364\n",
            "Data columns (total 25 columns):\n",
            " #   Column                  Non-Null Count  Dtype  \n",
            "---  ------                  --------------  -----  \n",
            " 0   DATE                    730 non-null    object \n",
            " 1   MAX_TEMPERATURE_C       730 non-null    int64  \n",
            " 2   MIN_TEMPERATURE_C       730 non-null    int64  \n",
            " 3   WINDSPEED_MAX_KMH       730 non-null    int64  \n",
            " 4   TEMPERATURE_MORNING_C   730 non-null    int64  \n",
            " 5   TEMPERATURE_NOON_C      730 non-null    int64  \n",
            " 6   TEMPERATURE_EVENING_C   730 non-null    int64  \n",
            " 7   PRECIP_TOTAL_DAY_MM     730 non-null    float64\n",
            " 8   HUMIDITY_MAX_PERCENT    730 non-null    int64  \n",
            " 9   VISIBILITY_AVG_KM       730 non-null    float64\n",
            " 10  PRESSURE_MAX_MB         730 non-null    int64  \n",
            " 11  CLOUDCOVER_AVG_PERCENT  730 non-null    float64\n",
            " 12  HEATINDEX_MAX_C         730 non-null    int64  \n",
            " 13  DEWPOINT_MAX_C          730 non-null    int64  \n",
            " 14  WINDTEMP_MAX_C          730 non-null    int64  \n",
            " 15  WEATHER_CODE_EVENING    730 non-null    float64\n",
            " 16  TOTAL_SNOW_MM           730 non-null    float64\n",
            " 17  UV_INDEX                730 non-null    float64\n",
            " 18  SUNHOUR                 730 non-null    float64\n",
            " 19  OPINION                 730 non-null    object \n",
            " 20  flag                    365 non-null    object \n",
            " 21  MONTH                   730 non-null    int64  \n",
            " 22  DAY                     730 non-null    int64  \n",
            " 23  WEATHER_CODE_MORNING    365 non-null    float64\n",
            " 24  WEATHER_CODE_NOON       365 non-null    float64\n",
            "dtypes: float64(9), int64(13), object(3)\n",
            "memory usage: 148.3+ KB\n"
          ]
        }
      ]
    },
    {
      "cell_type": "markdown",
      "source": [
        "**6.** Utilise apply pour créer une 26e colonne YEAR qui contiendra le numéro de l'année (2018 ou 2019). Tu peux définir une fonction, ou utiliser une fonction lambda."
      ],
      "metadata": {
        "id": "rSqI0dZx5iHY"
      }
    },
    {
      "cell_type": "code",
      "source": [
        "df_result['DATE'] = pd.to_datetime(df_result['DATE'])\n",
        "\n",
        "df_result['YEAR']= df_result['DATE'].apply(lambda x: x.year)\n",
        "df_result[['YEAR']]"
      ],
      "metadata": {
        "colab": {
          "base_uri": "https://localhost:8080/",
          "height": 424
        },
        "id": "NIYnbzTBnKv-",
        "outputId": "9835908b-a8ef-4fa1-f94c-d9ac5cab8aa5"
      },
      "execution_count": 97,
      "outputs": [
        {
          "output_type": "execute_result",
          "data": {
            "text/plain": [
              "     YEAR\n",
              "0    2018\n",
              "195  2018\n",
              "196  2018\n",
              "198  2018\n",
              "201  2018\n",
              "..    ...\n",
              "360  2019\n",
              "361  2019\n",
              "362  2019\n",
              "363  2019\n",
              "364  2019\n",
              "\n",
              "[730 rows x 1 columns]"
            ],
            "text/html": [
              "\n",
              "  <div id=\"df-0bdcf9f0-06d1-43dd-8476-cef2736a28ce\">\n",
              "    <div class=\"colab-df-container\">\n",
              "      <div>\n",
              "<style scoped>\n",
              "    .dataframe tbody tr th:only-of-type {\n",
              "        vertical-align: middle;\n",
              "    }\n",
              "\n",
              "    .dataframe tbody tr th {\n",
              "        vertical-align: top;\n",
              "    }\n",
              "\n",
              "    .dataframe thead th {\n",
              "        text-align: right;\n",
              "    }\n",
              "</style>\n",
              "<table border=\"1\" class=\"dataframe\">\n",
              "  <thead>\n",
              "    <tr style=\"text-align: right;\">\n",
              "      <th></th>\n",
              "      <th>YEAR</th>\n",
              "    </tr>\n",
              "  </thead>\n",
              "  <tbody>\n",
              "    <tr>\n",
              "      <th>0</th>\n",
              "      <td>2018</td>\n",
              "    </tr>\n",
              "    <tr>\n",
              "      <th>195</th>\n",
              "      <td>2018</td>\n",
              "    </tr>\n",
              "    <tr>\n",
              "      <th>196</th>\n",
              "      <td>2018</td>\n",
              "    </tr>\n",
              "    <tr>\n",
              "      <th>198</th>\n",
              "      <td>2018</td>\n",
              "    </tr>\n",
              "    <tr>\n",
              "      <th>201</th>\n",
              "      <td>2018</td>\n",
              "    </tr>\n",
              "    <tr>\n",
              "      <th>...</th>\n",
              "      <td>...</td>\n",
              "    </tr>\n",
              "    <tr>\n",
              "      <th>360</th>\n",
              "      <td>2019</td>\n",
              "    </tr>\n",
              "    <tr>\n",
              "      <th>361</th>\n",
              "      <td>2019</td>\n",
              "    </tr>\n",
              "    <tr>\n",
              "      <th>362</th>\n",
              "      <td>2019</td>\n",
              "    </tr>\n",
              "    <tr>\n",
              "      <th>363</th>\n",
              "      <td>2019</td>\n",
              "    </tr>\n",
              "    <tr>\n",
              "      <th>364</th>\n",
              "      <td>2019</td>\n",
              "    </tr>\n",
              "  </tbody>\n",
              "</table>\n",
              "<p>730 rows × 1 columns</p>\n",
              "</div>\n",
              "      <button class=\"colab-df-convert\" onclick=\"convertToInteractive('df-0bdcf9f0-06d1-43dd-8476-cef2736a28ce')\"\n",
              "              title=\"Convert this dataframe to an interactive table.\"\n",
              "              style=\"display:none;\">\n",
              "        \n",
              "  <svg xmlns=\"http://www.w3.org/2000/svg\" height=\"24px\"viewBox=\"0 0 24 24\"\n",
              "       width=\"24px\">\n",
              "    <path d=\"M0 0h24v24H0V0z\" fill=\"none\"/>\n",
              "    <path d=\"M18.56 5.44l.94 2.06.94-2.06 2.06-.94-2.06-.94-.94-2.06-.94 2.06-2.06.94zm-11 1L8.5 8.5l.94-2.06 2.06-.94-2.06-.94L8.5 2.5l-.94 2.06-2.06.94zm10 10l.94 2.06.94-2.06 2.06-.94-2.06-.94-.94-2.06-.94 2.06-2.06.94z\"/><path d=\"M17.41 7.96l-1.37-1.37c-.4-.4-.92-.59-1.43-.59-.52 0-1.04.2-1.43.59L10.3 9.45l-7.72 7.72c-.78.78-.78 2.05 0 2.83L4 21.41c.39.39.9.59 1.41.59.51 0 1.02-.2 1.41-.59l7.78-7.78 2.81-2.81c.8-.78.8-2.07 0-2.86zM5.41 20L4 18.59l7.72-7.72 1.47 1.35L5.41 20z\"/>\n",
              "  </svg>\n",
              "      </button>\n",
              "      \n",
              "  <style>\n",
              "    .colab-df-container {\n",
              "      display:flex;\n",
              "      flex-wrap:wrap;\n",
              "      gap: 12px;\n",
              "    }\n",
              "\n",
              "    .colab-df-convert {\n",
              "      background-color: #E8F0FE;\n",
              "      border: none;\n",
              "      border-radius: 50%;\n",
              "      cursor: pointer;\n",
              "      display: none;\n",
              "      fill: #1967D2;\n",
              "      height: 32px;\n",
              "      padding: 0 0 0 0;\n",
              "      width: 32px;\n",
              "    }\n",
              "\n",
              "    .colab-df-convert:hover {\n",
              "      background-color: #E2EBFA;\n",
              "      box-shadow: 0px 1px 2px rgba(60, 64, 67, 0.3), 0px 1px 3px 1px rgba(60, 64, 67, 0.15);\n",
              "      fill: #174EA6;\n",
              "    }\n",
              "\n",
              "    [theme=dark] .colab-df-convert {\n",
              "      background-color: #3B4455;\n",
              "      fill: #D2E3FC;\n",
              "    }\n",
              "\n",
              "    [theme=dark] .colab-df-convert:hover {\n",
              "      background-color: #434B5C;\n",
              "      box-shadow: 0px 1px 3px 1px rgba(0, 0, 0, 0.15);\n",
              "      filter: drop-shadow(0px 1px 2px rgba(0, 0, 0, 0.3));\n",
              "      fill: #FFFFFF;\n",
              "    }\n",
              "  </style>\n",
              "\n",
              "      <script>\n",
              "        const buttonEl =\n",
              "          document.querySelector('#df-0bdcf9f0-06d1-43dd-8476-cef2736a28ce button.colab-df-convert');\n",
              "        buttonEl.style.display =\n",
              "          google.colab.kernel.accessAllowed ? 'block' : 'none';\n",
              "\n",
              "        async function convertToInteractive(key) {\n",
              "          const element = document.querySelector('#df-0bdcf9f0-06d1-43dd-8476-cef2736a28ce');\n",
              "          const dataTable =\n",
              "            await google.colab.kernel.invokeFunction('convertToInteractive',\n",
              "                                                     [key], {});\n",
              "          if (!dataTable) return;\n",
              "\n",
              "          const docLinkHtml = 'Like what you see? Visit the ' +\n",
              "            '<a target=\"_blank\" href=https://colab.research.google.com/notebooks/data_table.ipynb>data table notebook</a>'\n",
              "            + ' to learn more about interactive tables.';\n",
              "          element.innerHTML = '';\n",
              "          dataTable['output_type'] = 'display_data';\n",
              "          await google.colab.output.renderOutput(dataTable, element);\n",
              "          const docLink = document.createElement('div');\n",
              "          docLink.innerHTML = docLinkHtml;\n",
              "          element.appendChild(docLink);\n",
              "        }\n",
              "      </script>\n",
              "    </div>\n",
              "  </div>\n",
              "  "
            ]
          },
          "metadata": {},
          "execution_count": 97
        }
      ]
    },
    {
      "cell_type": "code",
      "source": [
        "df_result.info()"
      ],
      "metadata": {
        "id": "Nb62ILuvpVyB",
        "colab": {
          "base_uri": "https://localhost:8080/"
        },
        "outputId": "cc573f66-ede5-42aa-cd2c-6d5ee57e6624"
      },
      "execution_count": 98,
      "outputs": [
        {
          "output_type": "stream",
          "name": "stdout",
          "text": [
            "<class 'pandas.core.frame.DataFrame'>\n",
            "Int64Index: 730 entries, 0 to 364\n",
            "Data columns (total 26 columns):\n",
            " #   Column                  Non-Null Count  Dtype         \n",
            "---  ------                  --------------  -----         \n",
            " 0   DATE                    730 non-null    datetime64[ns]\n",
            " 1   MAX_TEMPERATURE_C       730 non-null    int64         \n",
            " 2   MIN_TEMPERATURE_C       730 non-null    int64         \n",
            " 3   WINDSPEED_MAX_KMH       730 non-null    int64         \n",
            " 4   TEMPERATURE_MORNING_C   730 non-null    int64         \n",
            " 5   TEMPERATURE_NOON_C      730 non-null    int64         \n",
            " 6   TEMPERATURE_EVENING_C   730 non-null    int64         \n",
            " 7   PRECIP_TOTAL_DAY_MM     730 non-null    float64       \n",
            " 8   HUMIDITY_MAX_PERCENT    730 non-null    int64         \n",
            " 9   VISIBILITY_AVG_KM       730 non-null    float64       \n",
            " 10  PRESSURE_MAX_MB         730 non-null    int64         \n",
            " 11  CLOUDCOVER_AVG_PERCENT  730 non-null    float64       \n",
            " 12  HEATINDEX_MAX_C         730 non-null    int64         \n",
            " 13  DEWPOINT_MAX_C          730 non-null    int64         \n",
            " 14  WINDTEMP_MAX_C          730 non-null    int64         \n",
            " 15  WEATHER_CODE_EVENING    730 non-null    float64       \n",
            " 16  TOTAL_SNOW_MM           730 non-null    float64       \n",
            " 17  UV_INDEX                730 non-null    float64       \n",
            " 18  SUNHOUR                 730 non-null    float64       \n",
            " 19  OPINION                 730 non-null    object        \n",
            " 20  flag                    365 non-null    object        \n",
            " 21  MONTH                   730 non-null    int64         \n",
            " 22  DAY                     730 non-null    int64         \n",
            " 23  WEATHER_CODE_MORNING    365 non-null    float64       \n",
            " 24  WEATHER_CODE_NOON       365 non-null    float64       \n",
            " 25  YEAR                    730 non-null    int64         \n",
            "dtypes: datetime64[ns](1), float64(9), int64(14), object(2)\n",
            "memory usage: 154.0+ KB\n"
          ]
        }
      ]
    },
    {
      "cell_type": "markdown",
      "source": [
        "**7.** Trace les 4 graphiques suivants pour comparer 2018 et 2019 :"
      ],
      "metadata": {
        "id": "70UMf7Fh5l8G"
      }
    },
    {
      "cell_type": "code",
      "source": [
        "import matplotlib.dates as mdates\n",
        "\n",
        "\n",
        "# Histogramme de la vitesse du vent\n",
        "fig, axes = plot.subplots(2, 2, figsize=(18,12))\n",
        "sns.barplot(ax=axes[0, 0], data = df_result, x= 'DATE', y='WINDSPEED_MAX_KMH', hue='YEAR')\n",
        "ax=axes[0, 0].set_title('Windspeed')\n",
        "\n",
        "#Boxplots pour les précipitations\n",
        "sns.boxplot(ax=axes[0, 1], data=df_result, x='YEAR', y= 'PRECIP_TOTAL_DAY_MM', hue ='YEAR')\n",
        "ax=axes[0, 1].set_title('Precipitation')\n",
        "\n",
        "#Scatterplots pour le SUNHOUR et la date\n",
        "sns.scatterplot(ax=axes[1, 0], data=df_result, x='DATE', y= 'SUNHOUR', hue ='YEAR')\n",
        "plot.gca().xaxis.set_major_locator(mdates.MonthLocator(interval=4))\n",
        "plot.ylabel(\"SUNHOUR\")\n",
        "plot.xlabel(\"DATE\")\n",
        "ax=axes[1, 0].set_title(\"SUNHOUR by DATE\")\n",
        "\n",
        "#Violinplots pour la température maximale\n",
        "sns.violinplot(ax=axes[1, 1], data=df_result, x='YEAR', y= 'MAX_TEMPERATURE_C', hue ='YEAR')\n",
        "plot.legend(loc='upper center')\n",
        "plot.title('Max Temperature')\n",
        "\n",
        "plot.show()"
      ],
      "metadata": {
        "colab": {
          "base_uri": "https://localhost:8080/",
          "height": 730
        },
        "id": "TePWTA85iBgW",
        "outputId": "02b71ba5-e05c-4c3b-9efd-1b3afc045afc"
      },
      "execution_count": 116,
      "outputs": [
        {
          "output_type": "display_data",
          "data": {
            "text/plain": [
              "<Figure size 1296x864 with 4 Axes>"
            ],
            "image/png": "[encoded data removed]"
          },
          "metadata": {
            "needs_background": "light"
          }
        }
      ]
    }
  ],
  "metadata": {
    "colab": {
      "collapsed_sections": [],
      "provenance": []
    },
    "kernelspec": {
      "display_name": "Python 3",
      "name": "python3"
    }
  },
  "nbformat": 4,
  "nbformat_minor": 0
}