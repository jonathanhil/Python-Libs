{
  "nbformat": 4,
  "nbformat_minor": 0,
  "metadata": {
    "colab": {
      "provenance": [],
      "authorship_tag": "ABX9TyM0/DIfujMLWL/ItTV9H4kp",
      "include_colab_link": true
    },
    "kernelspec": {
      "name": "python3",
      "display_name": "Python 3"
    },
    "language_info": {
      "name": "python"
    }
  },
  "cells": [
    {
      "cell_type": "markdown",
      "metadata": {
        "id": "view-in-github",
        "colab_type": "text"
      },
      "source": [
        "<a href=\"https://colab.research.google.com/github/yunuserbas/Python_Exercises/blob/main/17_WCS_Tuples_Challenge.ipynb\" target=\"_parent\"><img src=\"https://colab.research.google.com/assets/colab-badge.svg\" alt=\"Open In Colab\"/></a>"
      ]
    },
    {
      "cell_type": "markdown",
      "source": [
        "# Mission 1\n",
        "\n",
        "Create a tuple of your choice containing 10 elements in this order:\n",
        "- 3 integers\n",
        "- 3 strings\n",
        "- 2 lists containing 3 items each\n",
        "- 2 dictionaries containing 3 items (3 key/value pairs) each"
      ],
      "metadata": {
        "id": "4XZRBvFL8_0Z"
      }
    },
    {
      "cell_type": "code",
      "source": [
        "tuple1 = (1, 2, 3, \"France\", \"Germany\", \"UK\", [\"Paris\", \"Lyon\", \"Bordeaux\"], [\"Berlin\", \"Düsseldorf\", \"Cologne\"], {\"France\": \"Paris\"}, {\"Germany\": \"Berlin\"})"
      ],
      "metadata": {
        "id": "__cIhWwb9BzF"
      },
      "execution_count": 1,
      "outputs": []
    },
    {
      "cell_type": "markdown",
      "source": [
        "Now, access the second-to-last item in the second list."
      ],
      "metadata": {
        "id": "XALaucYg9Hmc"
      }
    },
    {
      "cell_type": "code",
      "source": [
        "print((tuple1[7])[1])"
      ],
      "metadata": {
        "colab": {
          "base_uri": "https://localhost:8080/"
        },
        "id": "gNQ244vc9IVi",
        "outputId": "0d6ff724-ff5f-4bbc-e6cb-4767cc7b0db3"
      },
      "execution_count": 2,
      "outputs": [
        {
          "output_type": "stream",
          "name": "stdout",
          "text": [
            "Düsseldorf\n"
          ]
        }
      ]
    },
    {
      "cell_type": "markdown",
      "source": [
        "# Mission 2\n",
        "\n",
        "In the same tuple, access the last 4 elements using slicing."
      ],
      "metadata": {
        "id": "SpGz-K4n9N6g"
      }
    },
    {
      "cell_type": "code",
      "source": [
        "print(tuple1[-5:-1])"
      ],
      "metadata": {
        "colab": {
          "base_uri": "https://localhost:8080/"
        },
        "id": "yk6Th2A_9O9O",
        "outputId": "08a1612d-3785-44c8-8160-8c4d677f0507"
      },
      "execution_count": 3,
      "outputs": [
        {
          "output_type": "stream",
          "name": "stdout",
          "text": [
            "('UK', ['Paris', 'Lyon', 'Bordeaux'], ['Berlin', 'Düsseldorf', 'Cologne'], {'France': 'Paris'})\n"
          ]
        }
      ]
    },
    {
      "cell_type": "markdown",
      "source": [
        "# Mission 3\n",
        "\n",
        "Change the value of the 4th element (the first string) of your tuple (since tuples are immutable, this means recreating a tuple where this element is changed)."
      ],
      "metadata": {
        "id": "H28lTZLX9VCh"
      }
    },
    {
      "cell_type": "code",
      "source": [
        "y = list(tuple1)\n",
        "y[3] = \"Italy\"\n",
        "tuple1 = tuple(y)\n",
        "\n",
        "print(tuple1)"
      ],
      "metadata": {
        "colab": {
          "base_uri": "https://localhost:8080/"
        },
        "id": "MCdvSFFa9WHg",
        "outputId": "2f12b0de-bf84-43d1-d343-3860181a3e03"
      },
      "execution_count": 4,
      "outputs": [
        {
          "output_type": "stream",
          "name": "stdout",
          "text": [
            "(1, 2, 3, 'Italy', 'Germany', 'UK', ['Paris', 'Lyon', 'Bordeaux'], ['Berlin', 'Düsseldorf', 'Cologne'], {'France': 'Paris'}, {'Germany': 'Berlin'})\n"
          ]
        }
      ]
    },
    {
      "cell_type": "markdown",
      "source": [
        "# Mission 4\n",
        "\n",
        "Create 2 tuples of the same length that contain only integers.\n",
        "\n",
        "Then create a script that compares the sum of their elements and displays the tuple that has the highet total."
      ],
      "metadata": {
        "id": "1FtGKLCb9dAP"
      }
    },
    {
      "cell_type": "code",
      "source": [
        "tuple2 = (2, 4, 1, 9, 5, 10, 90, 14, 6, 8)\n",
        "tuple3 = (55, 30, 4, 12, 3, 5, 1, 9, 11, 2)\n",
        "\n",
        "res1 = sum(list(tuple2))\n",
        "res2 = sum(list(tuple3))\n",
        "\n",
        "if res1 > res2:\n",
        "  print(\"The sum of tuple2 is \", res1 ,\"and tuple2 has higher total than tuple3.\")\n",
        "else:\n",
        "  print(\"The sum of tuple2 is \", res2 ,\"and tuple3 has higher total than tuple2.\")"
      ],
      "metadata": {
        "colab": {
          "base_uri": "https://localhost:8080/"
        },
        "id": "vJhq7sX-9d1T",
        "outputId": "d62204eb-2d67-4739-8145-033c303cab3e"
      },
      "execution_count": 5,
      "outputs": [
        {
          "output_type": "stream",
          "name": "stdout",
          "text": [
            "The sum of tuple2 is  149 and tuple2 has higher total than tuple3.\n"
          ]
        }
      ]
    },
    {
      "cell_type": "markdown",
      "source": [
        "# Mission 5\n",
        "\n",
        "Here's a tuple:\n",
        "\n",
        "`my_tuple = (\"data analyst\", \"data scientist\", \"data engineer\", \"data architect\")`\n",
        "\n",
        "Ask the user for a string, then for an integer position. Create an altered copy of `my_tuple` where the element at the given position is now the given string."
      ],
      "metadata": {
        "id": "7UUlcQ319kzG"
      }
    },
    {
      "cell_type": "code",
      "source": [
        "my_tuple = (\"data analyst\", \"data scientist\", \"data engineer\", \"data architect\")\n",
        "\n",
        "string = str(input(\"Enter a string: \"))\n",
        "integer = int(input(\"Enter an integer position: \"))\n",
        "\n",
        "x = list(my_tuple)\n",
        "x.insert(integer, string)\n",
        "\n",
        "my_tuple = tuple(x)\n",
        "print(my_tuple)"
      ],
      "metadata": {
        "colab": {
          "base_uri": "https://localhost:8080/"
        },
        "id": "kKBhtp089mFf",
        "outputId": "57fd6e31-e9f0-42ae-c507-f37112a6c514"
      },
      "execution_count": 6,
      "outputs": [
        {
          "output_type": "stream",
          "name": "stdout",
          "text": [
            "Enter a string: web developper\n",
            "Enter an integer position: 1\n",
            "('data analyst', 'web developper', 'data scientist', 'data engineer', 'data architect')\n"
          ]
        }
      ]
    }
  ]
}