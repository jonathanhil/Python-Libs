{
  "nbformat": 4,
  "nbformat_minor": 0,
  "metadata": {
    "colab": {
      "provenance": []
    },
    "kernelspec": {
      "name": "python3",
      "display_name": "Python 3"
    },
    "language_info": {
      "name": "python"
    }
  },
  "cells": [
    {
      "cell_type": "code",
      "execution_count": null,
      "metadata": {
        "colab": {
          "base_uri": "https://localhost:8080/"
        },
        "id": "gNChBmmN8jUR",
        "outputId": "53c6b0ff-b5bf-45e7-dbd8-2c0d2bbe9c3d"
      },
      "outputs": [
        {
          "output_type": "stream",
          "name": "stdout",
          "text": [
            "100\n",
            "99\n",
            "98\n",
            "97\n",
            "96\n",
            "95\n",
            "94\n",
            "93\n",
            "92\n",
            "91\n",
            "90\n",
            "89\n",
            "88\n",
            "87\n",
            "86\n",
            "85\n",
            "84\n",
            "83\n",
            "82\n",
            "81\n",
            "80\n",
            "79\n",
            "78\n",
            "77\n",
            "76\n",
            "75\n",
            "74\n",
            "73\n",
            "72\n",
            "71\n",
            "70\n",
            "69\n",
            "68\n",
            "67\n",
            "66\n",
            "65\n",
            "64\n",
            "63\n",
            "62\n",
            "61\n",
            "60\n",
            "59\n",
            "58\n",
            "57\n",
            "56\n",
            "55\n",
            "54\n",
            "53\n",
            "52\n",
            "51\n",
            "50\n",
            "49\n",
            "48\n",
            "47\n",
            "46\n",
            "45\n",
            "44\n",
            "43\n",
            "42\n",
            "41\n",
            "40\n",
            "39\n",
            "38\n",
            "37\n",
            "36\n",
            "35\n",
            "34\n",
            "33\n",
            "32\n",
            "31\n",
            "30\n",
            "29\n",
            "28\n",
            "27\n",
            "26\n",
            "25\n",
            "24\n",
            "23\n",
            "22\n",
            "21\n",
            "20\n",
            "19\n",
            "18\n",
            "17\n",
            "16\n",
            "15\n",
            "14\n",
            "13\n",
            "12\n",
            "11\n",
            "10\n",
            "9\n",
            "8\n",
            "7\n",
            "6\n",
            "5\n",
            "4\n",
            "3\n",
            "2\n",
            "1\n",
            "0\n",
            "Décollage !\n"
          ]
        }
      ],
      "source": [
        "number = 101\n",
        "while number < 102:\n",
        "    number-=1\n",
        "    if number == -1:\n",
        "      break\n",
        "    print(number)\n",
        "print(\"Décollage !\")"
      ]
    },
    {
      "cell_type": "code",
      "source": [
        "compte = 100\n",
        "for loop in range(101):\n",
        "   print(compte)\n",
        "   compte = compte - 1\n",
        "print(\"Décollage !\")"
      ],
      "metadata": {
        "colab": {
          "base_uri": "https://localhost:8080/"
        },
        "id": "7sEj6YnO-Dyb",
        "outputId": "66740cdf-6e29-409e-96ee-24078b222778"
      },
      "execution_count": null,
      "outputs": [
        {
          "output_type": "stream",
          "name": "stdout",
          "text": [
            "100\n",
            "99\n",
            "98\n",
            "97\n",
            "96\n",
            "95\n",
            "94\n",
            "93\n",
            "92\n",
            "91\n",
            "90\n",
            "89\n",
            "88\n",
            "87\n",
            "86\n",
            "85\n",
            "84\n",
            "83\n",
            "82\n",
            "81\n",
            "80\n",
            "79\n",
            "78\n",
            "77\n",
            "76\n",
            "75\n",
            "74\n",
            "73\n",
            "72\n",
            "71\n",
            "70\n",
            "69\n",
            "68\n",
            "67\n",
            "66\n",
            "65\n",
            "64\n",
            "63\n",
            "62\n",
            "61\n",
            "60\n",
            "59\n",
            "58\n",
            "57\n",
            "56\n",
            "55\n",
            "54\n",
            "53\n",
            "52\n",
            "51\n",
            "50\n",
            "49\n",
            "48\n",
            "47\n",
            "46\n",
            "45\n",
            "44\n",
            "43\n",
            "42\n",
            "41\n",
            "40\n",
            "39\n",
            "38\n",
            "37\n",
            "36\n",
            "35\n",
            "34\n",
            "33\n",
            "32\n",
            "31\n",
            "30\n",
            "29\n",
            "28\n",
            "27\n",
            "26\n",
            "25\n",
            "24\n",
            "23\n",
            "22\n",
            "21\n",
            "20\n",
            "19\n",
            "18\n",
            "17\n",
            "16\n",
            "15\n",
            "14\n",
            "13\n",
            "12\n",
            "11\n",
            "10\n",
            "9\n",
            "8\n",
            "7\n",
            "6\n",
            "5\n",
            "4\n",
            "3\n",
            "2\n",
            "1\n",
            "0\n",
            "Décollage !\n"
          ]
        }
      ]
    },
    {
      "cell_type": "code",
      "source": [
        "for i in range(1, 13):\n",
        "   i = 2**i\n",
        "   print(i*1337)\n",
        "   "
      ],
      "metadata": {
        "colab": {
          "base_uri": "https://localhost:8080/"
        },
        "id": "1y0EdShr_dlP",
        "outputId": "f14d13d5-be1a-40ce-8dc9-d46df521b6b9"
      },
      "execution_count": 28,
      "outputs": [
        {
          "output_type": "stream",
          "name": "stdout",
          "text": [
            "2674\n",
            "5348\n",
            "10696\n",
            "21392\n",
            "42784\n",
            "85568\n",
            "171136\n",
            "342272\n",
            "684544\n",
            "1369088\n",
            "2738176\n",
            "5476352\n"
          ]
        }
      ]
    },
    {
      "cell_type": "code",
      "source": [
        "nbCrapauds = 1337\n",
        "for loop in range(12):\n",
        "    nbCrapauds = nbCrapauds * 2\n",
        "print(nbCrapauds)"
      ],
      "metadata": {
        "colab": {
          "base_uri": "https://localhost:8080/"
        },
        "id": "2Bd2lfFJCsKd",
        "outputId": "0c01056a-c472-4bb6-b1e7-94ef9e5259f6"
      },
      "execution_count": null,
      "outputs": [
        {
          "output_type": "stream",
          "name": "stdout",
          "text": [
            "5476352\n"
          ]
        }
      ]
    },
    {
      "cell_type": "code",
      "source": [
        "totalBonbons = 0\n",
        "numTir = 1\n",
        "for loop in range(50):\n",
        "   totalBonbons = totalBonbons + numTir\n",
        "   print(totalBonbons)\n",
        "   numTir = numTir + 1"
      ],
      "metadata": {
        "colab": {
          "base_uri": "https://localhost:8080/"
        },
        "id": "fPjTqEXJFCNZ",
        "outputId": "bc98aac7-45fc-4381-93e5-a32169dc1608"
      },
      "execution_count": null,
      "outputs": [
        {
          "output_type": "stream",
          "name": "stdout",
          "text": [
            "1\n",
            "3\n",
            "6\n",
            "10\n",
            "15\n",
            "21\n",
            "28\n",
            "36\n",
            "45\n",
            "55\n",
            "66\n",
            "78\n",
            "91\n",
            "105\n",
            "120\n",
            "136\n",
            "153\n",
            "171\n",
            "190\n",
            "210\n",
            "231\n",
            "253\n",
            "276\n",
            "300\n",
            "325\n",
            "351\n",
            "378\n",
            "406\n",
            "435\n",
            "465\n",
            "496\n",
            "528\n",
            "561\n",
            "595\n",
            "630\n",
            "666\n",
            "703\n",
            "741\n",
            "780\n",
            "820\n",
            "861\n",
            "903\n",
            "946\n",
            "990\n",
            "1035\n",
            "1081\n",
            "1128\n",
            "1176\n",
            "1225\n",
            "1275\n"
          ]
        }
      ]
    },
    {
      "cell_type": "code",
      "source": [
        "prixPommes = 32 * 90\n",
        "prixPêches = 12 * 96\n",
        "prixAubergines = 23 * 120\n",
        "prixCarottes = 17 * 102\n",
        "prixPatates = 22 * 85\n",
        "print(prixPommes + prixPêches + prixAubergines + prixCarottes + prixPatates)\n"
      ],
      "metadata": {
        "colab": {
          "base_uri": "https://localhost:8080/"
        },
        "id": "6sXpnC-gJZbX",
        "outputId": "e8a22118-d635-400d-fd59-3b7da737fad5"
      },
      "execution_count": null,
      "outputs": [
        {
          "output_type": "stream",
          "name": "stdout",
          "text": [
            "10396\n"
          ]
        }
      ]
    },
    {
      "cell_type": "code",
      "source": [
        "totalcubes = 0\n",
        "for i in range(17, 0, -2):\n",
        "   dernierscubes=i*i*i\n",
        "   totalcubes = totalcubes + dernierscubes\n",
        "print(totalcubes)"
      ],
      "metadata": {
        "colab": {
          "base_uri": "https://localhost:8080/"
        },
        "id": "_PW_m-1wFCX8",
        "outputId": "09f1e887-a8e3-4226-cffe-c9c53bce477d"
      },
      "execution_count": null,
      "outputs": [
        {
          "output_type": "stream",
          "name": "stdout",
          "text": [
            "13041\n"
          ]
        }
      ]
    },
    {
      "cell_type": "code",
      "source": [
        "for i in range(1, 21):\n",
        "    for j in range(1, 21):\n",
        "      print(j*i, end=' ')\n",
        "    print(\"\\n\")"
      ],
      "metadata": {
        "colab": {
          "base_uri": "https://localhost:8080/"
        },
        "id": "ECBrPuniT445",
        "outputId": "57b4e203-e8e0-40c0-c30b-dd8d79fce02d"
      },
      "execution_count": null,
      "outputs": [
        {
          "output_type": "stream",
          "name": "stdout",
          "text": [
            "1 2 3 4 5 6 7 8 9 10 11 12 13 14 15 16 17 18 19 20 \n",
            "\n",
            "2 4 6 8 10 12 14 16 18 20 22 24 26 28 30 32 34 36 38 40 \n",
            "\n",
            "3 6 9 12 15 18 21 24 27 30 33 36 39 42 45 48 51 54 57 60 \n",
            "\n",
            "4 8 12 16 20 24 28 32 36 40 44 48 52 56 60 64 68 72 76 80 \n",
            "\n",
            "5 10 15 20 25 30 35 40 45 50 55 60 65 70 75 80 85 90 95 100 \n",
            "\n",
            "6 12 18 24 30 36 42 48 54 60 66 72 78 84 90 96 102 108 114 120 \n",
            "\n",
            "7 14 21 28 35 42 49 56 63 70 77 84 91 98 105 112 119 126 133 140 \n",
            "\n",
            "8 16 24 32 40 48 56 64 72 80 88 96 104 112 120 128 136 144 152 160 \n",
            "\n",
            "9 18 27 36 45 54 63 72 81 90 99 108 117 126 135 144 153 162 171 180 \n",
            "\n",
            "10 20 30 40 50 60 70 80 90 100 110 120 130 140 150 160 170 180 190 200 \n",
            "\n",
            "11 22 33 44 55 66 77 88 99 110 121 132 143 154 165 176 187 198 209 220 \n",
            "\n",
            "12 24 36 48 60 72 84 96 108 120 132 144 156 168 180 192 204 216 228 240 \n",
            "\n",
            "13 26 39 52 65 78 91 104 117 130 143 156 169 182 195 208 221 234 247 260 \n",
            "\n",
            "14 28 42 56 70 84 98 112 126 140 154 168 182 196 210 224 238 252 266 280 \n",
            "\n",
            "15 30 45 60 75 90 105 120 135 150 165 180 195 210 225 240 255 270 285 300 \n",
            "\n",
            "16 32 48 64 80 96 112 128 144 160 176 192 208 224 240 256 272 288 304 320 \n",
            "\n",
            "17 34 51 68 85 102 119 136 153 170 187 204 221 238 255 272 289 306 323 340 \n",
            "\n",
            "18 36 54 72 90 108 126 144 162 180 198 216 234 252 270 288 306 324 342 360 \n",
            "\n",
            "19 38 57 76 95 114 133 152 171 190 209 228 247 266 285 304 323 342 361 380 \n",
            "\n",
            "20 40 60 80 100 120 140 160 180 200 220 240 260 280 300 320 340 360 380 400 \n",
            "\n"
          ]
        }
      ]
    },
    {
      "cell_type": "code",
      "source": [
        "nbPersonnes = 3\n",
        "nbJours = 4\n",
        "prixSéjour = 0\n",
        "prixJournée = 1\n",
        "for loop in range(nbJours):\n",
        "   prixSéjour = prixSéjour + prixJournée\n",
        "   prixJournée = prixJournée + 2\n",
        "prixSéjour = prixSéjour + 14\n",
        "print(\"Prix par personne :\", prixSéjour // nbPersonnes)"
      ],
      "metadata": {
        "colab": {
          "base_uri": "https://localhost:8080/"
        },
        "id": "qTLw9fUhVnWK",
        "outputId": "84f5a3d3-0a83-4ce6-c226-dbd100a3bb0d"
      },
      "execution_count": null,
      "outputs": [
        {
          "output_type": "stream",
          "name": "stdout",
          "text": [
            "Prix par personne : 10\n"
          ]
        }
      ]
    },
    {
      "cell_type": "code",
      "source": [
        "longeur_cote = int(input(\"la longueur du côté d'un champ carré en mètres:\"))\n",
        "longeur_cote = (longeur_cote*longeur_cote)*23\n",
        "print(longeur_cote)"
      ],
      "metadata": {
        "colab": {
          "base_uri": "https://localhost:8080/"
        },
        "id": "qFFxt-x3LuGP",
        "outputId": "9794d5b8-b142-42eb-8f5a-530cd011fb43"
      },
      "execution_count": null,
      "outputs": [
        {
          "output_type": "stream",
          "name": "stdout",
          "text": [
            "la longueur du côté d'un champ carré en mètres:10\n",
            "2300\n"
          ]
        }
      ]
    },
    {
      "cell_type": "code",
      "source": [
        "nombrejour = int(input())\n",
        "nombrejour = nombrejour*16*60*60\n",
        "print(nombrejour)"
      ],
      "metadata": {
        "colab": {
          "base_uri": "https://localhost:8080/"
        },
        "id": "lzPqeifkOSjM",
        "outputId": "ebd36412-9f32-442b-d878-2ea88336f6d7"
      },
      "execution_count": null,
      "outputs": [
        {
          "output_type": "stream",
          "name": "stdout",
          "text": [
            "2\n",
            "115200\n"
          ]
        }
      ]
    },
    {
      "cell_type": "code",
      "source": [
        "âgeCadet = int(input())\n",
        "âgeAîné = int(input())\n",
        "différence = âgeAîné - âgeCadet\n",
        "print(différence)"
      ],
      "metadata": {
        "colab": {
          "base_uri": "https://localhost:8080/"
        },
        "id": "_6sD2T_3O8Lr",
        "outputId": "edf97ee2-9207-406f-edb6-beed8f782d31"
      },
      "execution_count": null,
      "outputs": [
        {
          "output_type": "stream",
          "name": "stdout",
          "text": [
            "10\n",
            "13\n",
            "3\n"
          ]
        }
      ]
    },
    {
      "cell_type": "code",
      "source": [
        "entrée = int(input())\n",
        "for loop in range(entrée):\n",
        "   print(\"Je dois suivre en cours\") "
      ],
      "metadata": {
        "colab": {
          "base_uri": "https://localhost:8080/"
        },
        "id": "CtkfaFO3P7Mk",
        "outputId": "854fecaf-deaa-4481-dbeb-92b54c0cc4f6"
      },
      "execution_count": null,
      "outputs": [
        {
          "output_type": "stream",
          "name": "stdout",
          "text": [
            "5\n",
            "Je dois suivre en cours\n",
            "Je dois suivre en cours\n",
            "Je dois suivre en cours\n",
            "Je dois suivre en cours\n",
            "Je dois suivre en cours\n"
          ]
        }
      ]
    },
    {
      "cell_type": "code",
      "source": [
        "tempsMin = int(input())\n",
        "tempsMax = int(input())\n",
        "\n",
        "for loop in range (tempsMin, tempsMax+1):\n",
        "   print(loop)\n",
        "   "
      ],
      "metadata": {
        "colab": {
          "base_uri": "https://localhost:8080/"
        },
        "id": "jQdXSgmyQzA9",
        "outputId": "e834243c-7b52-4dba-f6de-de1773e1eca6"
      },
      "execution_count": null,
      "outputs": [
        {
          "output_type": "stream",
          "name": "stdout",
          "text": [
            "9\n",
            "14\n",
            "9\n",
            "10\n",
            "11\n",
            "12\n",
            "13\n",
            "14\n"
          ]
        }
      ]
    },
    {
      "cell_type": "code",
      "source": [
        "nbNombres = int(input())\n",
        "factorial = 1\n",
        "for i in range(1, nbNombres+1):\n",
        "   factorial *=i\n",
        "   print(factorial*66)"
      ],
      "metadata": {
        "colab": {
          "base_uri": "https://localhost:8080/"
        },
        "id": "BtC9SB9RTap1",
        "outputId": "6628cb99-fedf-461b-ee74-3eb57a101874"
      },
      "execution_count": null,
      "outputs": [
        {
          "output_type": "stream",
          "name": "stdout",
          "text": [
            "3\n",
            "66\n",
            "132\n",
            "396\n"
          ]
        }
      ]
    },
    {
      "cell_type": "code",
      "source": [
        "positionDepart = int(input())\n",
        "largeurEmplacement = int(input())\n",
        "nbVendeurs = int(input())\n",
        "compte = 0\n",
        "for loop in range(nbVendeurs+1):\n",
        "   résultat = positionDepart + largeurEmplacement*compte\n",
        "   compte +=1\n",
        "   print(résultat)"
      ],
      "metadata": {
        "colab": {
          "base_uri": "https://localhost:8080/"
        },
        "id": "5JvnV7-1C-qz",
        "outputId": "3e6b99d8-d195-47e2-d28d-ec41995c25cd"
      },
      "execution_count": null,
      "outputs": [
        {
          "output_type": "stream",
          "name": "stdout",
          "text": [
            "10\n",
            "5\n",
            "3\n",
            "10\n",
            "15\n",
            "20\n",
            "25\n"
          ]
        }
      ]
    },
    {
      "cell_type": "code",
      "source": [
        "positionDépart = int(input())\n",
        "largeurEmplacement = int(input())\n",
        "nbVendeurs = int(input())\n",
        "position = positionDépart\n",
        "for iVendeur in range(nbVendeurs + 1):\n",
        "   print(position)\n",
        "   position = position + largeurEmplacement"
      ],
      "metadata": {
        "colab": {
          "base_uri": "https://localhost:8080/"
        },
        "id": "rrIjGvnpFASj",
        "outputId": "013fe33a-b49f-46a9-8388-299d13e851ac"
      },
      "execution_count": null,
      "outputs": [
        {
          "output_type": "stream",
          "name": "stdout",
          "text": [
            "10\n",
            "5\n",
            "3\n",
            "10\n",
            "15\n",
            "20\n",
            "25\n"
          ]
        }
      ]
    },
    {
      "cell_type": "code",
      "source": [
        "totalKarvas = 0\n",
        "for loop in range(20):\n",
        "   nbBêtes = int(input())\n",
        "   totalKarvas = totalKarvas + nbBêtes\n",
        "print(totalKarvas)\n"
      ],
      "metadata": {
        "id": "Qofq1KkO82sr",
        "colab": {
          "base_uri": "https://localhost:8080/"
        },
        "outputId": "33c59e8e-5722-41eb-f1ae-cc44ca06b45e"
      },
      "execution_count": 2,
      "outputs": [
        {
          "output_type": "stream",
          "name": "stdout",
          "text": [
            "1\n",
            "1\n",
            "1\n",
            "1\n",
            "1\n",
            "1\n",
            "1\n",
            "1\n",
            "1\n",
            "1\n",
            "1\n",
            "1\n",
            "1\n",
            "1\n",
            "1\n",
            "1\n",
            "1\n",
            "1\n",
            "1\n",
            "1\n",
            "20\n"
          ]
        }
      ]
    },
    {
      "cell_type": "code",
      "source": [
        "longueur = int(input())\n",
        "largeur = int(input())\n",
        "périmètre = (longueur + largeur) * 2\n",
        "aire = longueur * largeur\n",
        "print(périmètre, end = \" \")\n",
        "print(aire)"
      ],
      "metadata": {
        "colab": {
          "base_uri": "https://localhost:8080/"
        },
        "id": "SciYLUNbMJb5",
        "outputId": "69827dfd-aada-4e50-d545-5cd46da69511"
      },
      "execution_count": 33,
      "outputs": [
        {
          "output_type": "stream",
          "name": "stdout",
          "text": [
            "7\n",
            "3\n",
            "20 21\n"
          ]
        }
      ]
    },
    {
      "cell_type": "code",
      "source": [
        "nbKarvas = int(input())\n",
        "if nbKarvas > 1:\n",
        "   for loop in range(nbKarvas):\n",
        "      poid = int(input())\n",
        "      age = int(input())\n",
        "      longeur = int(input())\n",
        "      hauteur = int(input())\n",
        "      print(longeur*hauteur + poid)\n",
        "elif nbKarvas == 1:\n",
        "      poid = int(input())\n",
        "      age = int(input())\n",
        "      longeur = int(input())\n",
        "      hauteur = int(input())\n",
        "      print(longeur*hauteur + poid)\n"
      ],
      "metadata": {
        "colab": {
          "base_uri": "https://localhost:8080/"
        },
        "id": "QgTEiFFTOpbb",
        "outputId": "79bc97ab-a6c6-477f-db76-0a260f4cfdee"
      },
      "execution_count": 52,
      "outputs": [
        {
          "output_type": "stream",
          "name": "stdout",
          "text": [
            "1\n",
            "9\n",
            "4\n",
            "5\n",
            "6\n",
            "39\n"
          ]
        }
      ]
    },
    {
      "cell_type": "code",
      "source": [
        "nbKarvas = int(input())\n",
        "for loop in range(nbKarvas):\n",
        "   poids = int(input())\n",
        "   âge = int(input())\n",
        "   longueurCornes = int(input())\n",
        "   hauteurAuGarrot = int(input())\n",
        "   print(longueurCornes * hauteurAuGarrot + poids)"
      ],
      "metadata": {
        "id": "mWQSTl7NQgXn"
      },
      "execution_count": null,
      "outputs": []
    },
    {
      "cell_type": "code",
      "source": [
        "pEtage = int(input())\n",
        "dEtage = int(input())\n",
        "\n",
        "volumeTotal = 0\n",
        "for i in range(dEtage, pEtage+1, 1):\n",
        "    résultat = i*i \n",
        "    volumeTotal += résultat\n",
        "print(volumeTotal)"
      ],
      "metadata": {
        "colab": {
          "base_uri": "https://localhost:8080/"
        },
        "id": "ONZcIkZ3RaCv",
        "outputId": "73d6c2f4-fb78-4144-9e4f-32f08661895b"
      },
      "execution_count": 58,
      "outputs": [
        {
          "output_type": "stream",
          "name": "stdout",
          "text": [
            "7\n",
            "3\n",
            "135\n"
          ]
        }
      ]
    }
  ]
}