{
  "nbformat": 4,
  "nbformat_minor": 0,
  "metadata": {
    "colab": {
      "provenance": []
    },
    "kernelspec": {
      "name": "python3",
      "display_name": "Python 3"
    }
  },
  "cells": [
    {
      "cell_type": "markdown",
      "metadata": {
        "id": "s6odsFbLpgIh"
      },
      "source": [
        "# NumPy : Introduction\n",
        "\n",
        "**NumPy allows you to manipulate data in the form of an array.**\n",
        "\n",
        "**Complete the missions below using NumPy.**"
      ]
    },
    {
      "cell_type": "code",
      "metadata": {
        "id": "sXzBVR4imVvO"
      },
      "source": [
        "\n",
        "import numpy as np # Here we rename numpy as np, it's shorter, and everybody does that\n",
        "\n",
        "# Mission 1 : Display the version of NumPy you are running\n"
      ],
      "execution_count": 1,
      "outputs": []
    },
    {
      "cell_type": "code",
      "metadata": {
        "id": "vQGzQgU-phGc",
        "colab": {
          "base_uri": "https://localhost:8080/"
        },
        "outputId": "19d5f829-c3e3-4d87-c05d-cfd0a4d4804b"
      },
      "source": [
        "# Mission 2 : Create a NumPy array with a length of 3, that contains this 3 floats: 0.8, 0.6, 0.4\n",
        "# Expected result: array([0.8, 0.6, 0.4])\n",
        "\n",
        "a = np.linspace(0.8, 0.4, 3)\n",
        "a"
      ],
      "execution_count": 2,
      "outputs": [
        {
          "output_type": "execute_result",
          "data": {
            "text/plain": [
              "array([0.8, 0.6, 0.4])"
            ]
          },
          "metadata": {},
          "execution_count": 2
        }
      ]
    },
    {
      "cell_type": "code",
      "metadata": {
        "id": "66-o1bXYqPC_",
        "colab": {
          "base_uri": "https://localhost:8080/"
        },
        "outputId": "7ea2b2ab-211f-4004-b487-7f640ffc45ca"
      },
      "source": [
        "# Mission 3 : Create a function that uses the np.random.random() function to return an array with 10 random elements, \n",
        "# all of which must be greater than 0.25 and less than 1.0\n",
        "\n",
        "# Example of expected result: array([0.3897948 , 0.82850041, 0.5499838 , 0.81940137, 0.92175875, 0.89634373, 0.26821861, 0.72376496, 0.81098623, 0.28192741])\n",
        "\n",
        "def get_random_array():\n",
        "  # Create an empty list\n",
        "  random_list = []\n",
        "  \n",
        "  # Use a while loop to generate random numbers and add them to the list\n",
        "  # until the list has 10 elements\n",
        "  while len(random_list) < 10:\n",
        "    # Generate a random number between 0 and 1\n",
        "    random_num = np.random.random()\n",
        "    \n",
        "    # Check if the number is between 0.25 and 1.0\n",
        "    if 0.25 < random_num < 1.0:\n",
        "      # Add the number to the list if it is within the desired range\n",
        "      random_list.append(random_num)\n",
        "      \n",
        "  # Return the list as a NumPy array\n",
        "  return np.array(random_list)\n",
        "\n",
        "get_random_array()"
      ],
      "execution_count": 10,
      "outputs": [
        {
          "output_type": "execute_result",
          "data": {
            "text/plain": [
              "array([0.42629826, 0.7932716 , 0.73340809, 0.89183799, 0.75112918,\n",
              "       0.88574878, 0.93705478, 0.86276929, 0.71009584, 0.37475011])"
            ]
          },
          "metadata": {},
          "execution_count": 10
        }
      ]
    },
    {
      "cell_type": "code",
      "metadata": {
        "id": "hx8Ck-neqRZe"
      },
      "source": [
        "# Mission 4 : What does the np.empty() method do? Don't just copy the documentation, explain in your own words here\n"
      ],
      "execution_count": null,
      "outputs": []
    },
    {
      "cell_type": "markdown",
      "source": [
        "np.empty() is a NumPy function that creates an empty array. The array is created with a specified shape (i.e., a specified number of rows and columns), but it does not initialize the elements of the array to any particular value. Instead, the values of the elements will be whatever happens to be in the memory at the time the array is created. This can lead to unpredictable results, so it is generally recommended to use np.zeros() or np.ones() to create an array with a known initial value for the elements, rather than np.empty().\n",
        "\n",
        "One reason you might use np.empty() is if you need to create an array with a certain shape, and you will be overwriting the elements of the array with new values shortly afterwards. Using np.empty() can be more efficient in this case because it does not have to initialize the elements of the array to a specific value, which can save time. However, you should be careful when using np.empty() because the elements of the array will have arbitrary initial values, which could lead to unexpected behavior if you are not careful."
      ],
      "metadata": {
        "id": "UY_h20bDFe9l"
      }
    },
    {
      "cell_type": "code",
      "metadata": {
        "id": "q_BJsGjwqTQp",
        "colab": {
          "base_uri": "https://localhost:8080/"
        },
        "outputId": "1cca751b-e537-49fe-a07d-df8833bff4be"
      },
      "source": [
        "# Mission 5 : Create an array filled with only zeros. You can chose the length of this array.\n",
        "\n",
        "\n",
        "c = np.zeros(10)\n",
        "c"
      ],
      "execution_count": 14,
      "outputs": [
        {
          "output_type": "execute_result",
          "data": {
            "text/plain": [
              "array([0., 0., 0., 0., 0., 0., 0., 0., 0., 0.])"
            ]
          },
          "metadata": {},
          "execution_count": 14
        }
      ]
    },
    {
      "cell_type": "code",
      "metadata": {
        "id": "KhQZPyHhqUql",
        "colab": {
          "base_uri": "https://localhost:8080/"
        },
        "outputId": "aea69c1b-fd65-48cd-88e5-f2b1450874ef"
      },
      "source": [
        "# Mission 6 : Create an array filled with 10 random integers.\n",
        "\n",
        "# Create an array of 10 random integers between 0 and 9\n",
        "random_array6 = np.random.randint(0, 10, size=10)\n",
        "\n",
        "print(random_array6)"
      ],
      "execution_count": 39,
      "outputs": [
        {
          "output_type": "stream",
          "name": "stdout",
          "text": [
            "[8 6 5 4 4 5 4 7 5 3]\n"
          ]
        }
      ]
    },
    {
      "cell_type": "code",
      "metadata": {
        "id": "v3vqX26BqWTo",
        "colab": {
          "base_uri": "https://localhost:8080/"
        },
        "outputId": "aaf4d084-51ee-4415-ca50-3dca40fda022"
      },
      "source": [
        "# Mission 7 : Create an array that contains 50 values randomly selected only from these numbers: 0, 1, 2, 3, 4, 5, 6, 7.\n",
        "\n",
        "\n",
        "# Create an array with the choices\n",
        "choices = np.array([0, 1, 2, 3, 4, 5, 6, 7])\n",
        "\n",
        "# Use np.random.choice() to create an array of 50 random values\n",
        "random_array = np.random.choice(choices, size=50)\n",
        "\n",
        "print(random_array)"
      ],
      "execution_count": 20,
      "outputs": [
        {
          "output_type": "stream",
          "name": "stdout",
          "text": [
            "[4 2 3 2 7 6 1 0 1 2 7 1 5 0 5 2 4 0 0 6 7 0 0 1 6 4 3 4 4 3 5 6 0 4 3 4 7\n",
            " 5 5 2 4 3 3 2 5 0 4 0 1 5]\n"
          ]
        }
      ]
    },
    {
      "cell_type": "code",
      "metadata": {
        "id": "Hii5gz9BqZf9",
        "colab": {
          "base_uri": "https://localhost:8080/"
        },
        "outputId": "c387853c-275b-41bf-816e-646958adaef6"
      },
      "source": [
        "# Mission 8 : Use the slicing operator to return the items between position 3 and 6 inclusive, from the array in mission 6\n",
        "\n",
        "\n",
        "# Use slicing to return the elements at positions 3 through 6 inclusive\n",
        "sliced_array = random_array6[3:7]\n",
        "\n",
        "print(sliced_array)"
      ],
      "execution_count": 40,
      "outputs": [
        {
          "output_type": "stream",
          "name": "stdout",
          "text": [
            "[4 4 5 4]\n"
          ]
        }
      ]
    },
    {
      "cell_type": "code",
      "metadata": {
        "id": "lv-cIYMMqc0s",
        "colab": {
          "base_uri": "https://localhost:8080/"
        },
        "outputId": "45832fc3-d611-443e-ed41-369ce27b57a2"
      },
      "source": [
        "# Mission 9 : Use the `argmin()` method to return the index of the smallest element in the array from mission 6\n",
        "\n",
        "min_index = random_array6.argmin()\n",
        "\n",
        "print(min_index)"
      ],
      "execution_count": 41,
      "outputs": [
        {
          "output_type": "stream",
          "name": "stdout",
          "text": [
            "9\n"
          ]
        }
      ]
    },
    {
      "cell_type": "code",
      "metadata": {
        "id": "OnXTuji0t46s",
        "colab": {
          "base_uri": "https://localhost:8080/"
        },
        "outputId": "18f68276-4af8-4bca-eb03-bd108420213d"
      },
      "source": [
        "# Mission 10 : Using the `where()` method, return the indices of all the values in the array from mission 6 that are greater than their median value.\n",
        "\n",
        "# Find the median value of the array\n",
        "median = np.median(random_array6)\n",
        "\n",
        "# Find the indices of all elements that are greater than the median value\n",
        "indices = np.where(random_array6 > median)[0]\n",
        "\n",
        "print(indices)"
      ],
      "execution_count": 43,
      "outputs": [
        {
          "output_type": "stream",
          "name": "stdout",
          "text": [
            "[0 1 7]\n"
          ]
        }
      ]
    },
    {
      "cell_type": "code",
      "metadata": {
        "id": "Ljy8t0yvqha5",
        "colab": {
          "base_uri": "https://localhost:8080/"
        },
        "outputId": "1a3d44ed-ef34-49c1-bf59-f778b5da2fb2"
      },
      "source": [
        "# Mission 11: Create 3 arrays filled with 5 random integers each, and place them in another array.\n",
        "\n",
        "# Create an empty array to store the subarrays\n",
        "array_of_arrays = np.empty(3, dtype=object)\n",
        "\n",
        "# Create the subarrays and store them in the array_of_arrays\n",
        "for i in range(3):\n",
        "  array_of_arrays[i] = np.random.randint(0, 10, size=5)\n",
        "\n",
        "print(array_of_arrays)\n",
        "print()\n",
        "# You have now an array with (3, 5) shape. You can use the `shape` attribute to check it.\n",
        "\n",
        "\n",
        "print(array_of_arrays.shape)\n",
        "print()\n",
        "# Display the elements, with each column appearing on a different line (so there will be 5 lines with 3 values each)\n",
        "\n",
        "for i in range(3):\n",
        "  array_of_arrays[i].shape = (1, 5)\n",
        "  \n",
        "for array in array_of_arrays:\n",
        "  for row in array:\n",
        "    for element in row:\n",
        "      print(element)\n",
        "    print()\n",
        "  print()"
      ],
      "execution_count": 61,
      "outputs": [
        {
          "output_type": "stream",
          "name": "stdout",
          "text": [
            "[array([0, 5, 3, 0, 5]) array([6, 5, 4, 0, 0]) array([0, 8, 0, 8, 7])]\n",
            "\n",
            "(3,)\n",
            "\n",
            "0\n",
            "5\n",
            "3\n",
            "0\n",
            "5\n",
            "\n",
            "\n",
            "6\n",
            "5\n",
            "4\n",
            "0\n",
            "0\n",
            "\n",
            "\n",
            "0\n",
            "8\n",
            "0\n",
            "8\n",
            "7\n",
            "\n",
            "\n"
          ]
        }
      ]
    },
    {
      "cell_type": "code",
      "metadata": {
        "id": "I-Ecqv-Gqigx",
        "colab": {
          "base_uri": "https://localhost:8080/"
        },
        "outputId": "766706cb-91cb-4aa7-965b-3cb9a24dd2cd"
      },
      "source": [
        "# Mission 12: Create an array and fill it with 20 random float values.\n",
        "\n",
        "array = np.random.random(size=20)\n",
        "\n",
        "print(array)\n",
        "print()\n",
        "\n",
        "# Create a function that returns the smallest and largest value it contains, with their indexes!\n",
        "\n",
        "def find_extremes(array):\n",
        "  # Find the index of the minimum value in the array\n",
        "  min_index = np.argmin(array)\n",
        "  # Find the index of the maximum value in the array\n",
        "  max_index = np.argmax(array)\n",
        "  # Get the minimum and maximum values from the array\n",
        "  min_value = array[min_index]\n",
        "  max_value = array[max_index]\n",
        "  \n",
        "  return min_index, min_value, max_index, max_value\n",
        "\n",
        "# Find the minimum and maximum values in the array\n",
        "min_index, min_value, max_index, max_value = find_extremes(array)\n",
        "\n",
        "print(f\"Minimum value: {min_value} (index {min_index})\")\n",
        "print(f\"Maximum value: {max_value} (index {max_index})\")\n",
        "\n",
        "\n",
        "# You are allowed to use `min()` and `max()` methods.\n",
        "# Example with a shorter array: [300, 500, 1000, 700, 100, 600] -> (4, 100), (2, 1000)\n",
        "# Example with a shorter array: [80, 50, 90, -20, 100, 10] -> (3, -20), (4, 100)\n",
        "\n"
      ],
      "execution_count": 65,
      "outputs": [
        {
          "output_type": "stream",
          "name": "stdout",
          "text": [
            "[0.74161182 0.82407795 0.16528584 0.44086541 0.92456097 0.68822082\n",
            " 0.30509646 0.67417575 0.50466354 0.31909734 0.55719512 0.3639041\n",
            " 0.71251685 0.3560387  0.0819281  0.6893996  0.48417345 0.05743295\n",
            " 0.46361378 0.73269682]\n",
            "\n",
            "Minimum value: 0.05743294521997977 (index 17)\n",
            "Maximum value: 0.9245609680747092 (index 4)\n"
          ]
        }
      ]
    },
    {
      "cell_type": "code",
      "metadata": {
        "id": "6Q31D-P0qk14",
        "colab": {
          "base_uri": "https://localhost:8080/"
        },
        "outputId": "58299d0b-8aaf-44e1-a967-f28b932f5acf"
      },
      "source": [
        "# Mission 13: Create 2 arrays, randomly fill them with 20 int values between 0 and 10.\n",
        "\n",
        "# Create an array of 20 random integer values between 0 and 10\n",
        "array1 = np.random.randint(low=0, high=11, size=20)\n",
        "\n",
        "# Create another array of 20 random integer values between 0 and 10\n",
        "array2 = np.random.randint(low=0, high=11, size=20)\n",
        "\n",
        "print(array1)\n",
        "print(array2)\n",
        "print()\n",
        "\n",
        "# Return all indices where the values of the 2 arrays happen to be equal.\n",
        "\n",
        "indices = np.where(array1 == array2)\n",
        "\n",
        "print(indices)\n",
        "\n",
        "# If no values are equal at the same indices across the 2 arrays, it will return an empty structure.\n",
        "# Example with shorter arrays: np.array([1, 3, 5, 7]) & np.array([2, 3, 5, 8]) -> np.array([1, 2])\n",
        "# Example with shorter arrays: np.array([1, 1, 1, 1]) & np.array([1, 2, 3, 4]) -> np.array([0])"
      ],
      "execution_count": 72,
      "outputs": [
        {
          "output_type": "stream",
          "name": "stdout",
          "text": [
            "[ 2  4 10  0  3  9  1  2  6  2  6  8  0  4  0  1  9  6  4  0]\n",
            "[ 8  6  2  0  1  0  4  6 10  0  6  4  6  9  1  2  3  4  4  5]\n",
            "\n",
            "(array([ 3, 10, 18]),)\n"
          ]
        }
      ]
    },
    {
      "cell_type": "code",
      "metadata": {
        "id": "ZXuj-bFN_lcZ",
        "colab": {
          "base_uri": "https://localhost:8080/"
        },
        "outputId": "26a98952-0ad0-4784-823a-190a7e24e773"
      },
      "source": [
        "# Mission 14: now, just compare both arrays of mission 13 with this command (change the name of arrays): array1 == array2\n",
        "\n",
        "result = array1 == array2\n",
        "print(result)"
      ],
      "execution_count": 73,
      "outputs": [
        {
          "output_type": "stream",
          "name": "stdout",
          "text": [
            "[False False False  True False False False False False False  True False\n",
            " False False False False False False  True False]\n"
          ]
        }
      ]
    }
  ]
}