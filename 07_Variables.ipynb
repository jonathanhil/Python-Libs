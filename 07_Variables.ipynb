{
 "cells": [
  {
   "cell_type": "markdown",
   "id": "6c40307e",
   "metadata": {},
   "source": [
    "(4) is an integer value. This corresponds \"int\" type in Python."
   ]
  },
  {
   "cell_type": "markdown",
   "id": "62f673d6",
   "metadata": {},
   "source": [
    "(2.5) is a real number which corresponds to \"float\" type in Python."
   ]
  },
  {
   "cell_type": "markdown",
   "id": "540dbac8",
   "metadata": {},
   "source": [
    "(\"a\") and (\"hello\") contain a character and word. These two values belong to the \"str\" type in Python."
   ]
  },
  {
   "cell_type": "markdown",
   "id": "c4de402f",
   "metadata": {},
   "source": [
    "In Python we can also have booleans (\"bool\" type). Variables of this type can only take True or False as values."
   ]
  },
  {
   "cell_type": "code",
   "execution_count": 5,
   "id": "2b0bcefa",
   "metadata": {},
   "outputs": [
    {
     "name": "stdout",
     "output_type": "stream",
     "text": [
      "3000.0\n",
      "<class 'float'>\n"
     ]
    }
   ],
   "source": [
    "# Calculate the monthly salary from the annual salary \n",
    "\n",
    "annual_salary = 36000    # Creating a variable that contains the annual salary \n",
    "nb_of_months = 12        # Creating a variable that contains the number of months\n",
    "\n",
    "# I then use the two previous variables to calculate the monthly salary\n",
    "monthly_salary = annual_salary / nb_of_months\n",
    "\n",
    "# Alter the variables by changing their values; this will not change the value of monthly_salary unless you reassign it!\n",
    "annual_salary = 40000\n",
    "nb_of_months = 13 \n",
    "\n",
    "print(monthly_salary)\n",
    "print(type(monthly_salary))"
   ]
  },
  {
   "cell_type": "code",
   "execution_count": 4,
   "id": "41d80244",
   "metadata": {},
   "outputs": [
    {
     "name": "stdout",
     "output_type": "stream",
     "text": [
      "<class 'int'>\n",
      "<class 'str'>\n"
     ]
    }
   ],
   "source": [
    "# Creating two variables\n",
    "annual_salary = 40000\n",
    "first_name = 'Lionel'\n",
    "\n",
    "# I can now get the types of these variables using the type() function and display the result using the print() function\n",
    "\n",
    "print(type(annual_salary))\n",
    "print(type(first_name))"
   ]
  }
 ],
 "metadata": {
  "kernelspec": {
   "display_name": "Python 3 (ipykernel)",
   "language": "python",
   "name": "python3"
  },
  "language_info": {
   "codemirror_mode": {
    "name": "ipython",
    "version": 3
   },
   "file_extension": ".py",
   "mimetype": "text/x-python",
   "name": "python",
   "nbconvert_exporter": "python",
   "pygments_lexer": "ipython3",
   "version": "3.9.12"
  }
 },
 "nbformat": 4,
 "nbformat_minor": 5
}
