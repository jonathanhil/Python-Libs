{
  "nbformat": 4,
  "nbformat_minor": 0,
  "metadata": {
    "colab": {
      "provenance": [],
      "collapsed_sections": [],
      "include_colab_link": true
    },
    "kernelspec": {
      "name": "python3",
      "display_name": "Python 3"
    },
    "language_info": {
      "name": "python"
    }
  },
  "cells": [
    {
      "cell_type": "markdown",
      "metadata": {
        "id": "view-in-github",
        "colab_type": "text"
      },
      "source": [
        "<a href=\"https://colab.research.google.com/github/yunuserbas/Python_Exercises/blob/main/13.WSC_dojo.ipynb\" target=\"_parent\"><img src=\"https://colab.research.google.com/assets/colab-badge.svg\" alt=\"Open In Colab\"/></a>"
      ]
    },
    {
      "cell_type": "markdown",
      "source": [
        "Retourne les types des variables suivants: \"15\", 1001, \"salut\".\n",
        "\n",
        "change les types des variables:\"15\" en integer, 1001 en float"
      ],
      "metadata": {
        "id": "ZqvN5uVxHDVi"
      }
    },
    {
      "cell_type": "code",
      "source": [
        "a=\"15\"\n",
        "b=1001\n",
        "c=\"salut\"\n",
        "print(type(\"15\"),type(1001),type(\"salut\"))"
      ],
      "metadata": {
        "id": "HtBWnpwGH7-_",
        "colab": {
          "base_uri": "https://localhost:8080/"
        },
        "outputId": "939752b5-0c18-4e4f-c2a5-b0d32229824d"
      },
      "execution_count": null,
      "outputs": [
        {
          "output_type": "stream",
          "name": "stdout",
          "text": [
            "<class 'str'> <class 'int'> <class 'str'>\n"
          ]
        }
      ]
    },
    {
      "cell_type": "code",
      "source": [
        "a=\"15\"\n",
        "b=float(1001)\n",
        "print(b)"
      ],
      "metadata": {
        "colab": {
          "base_uri": "https://localhost:8080/"
        },
        "id": "Bn56YerAOvwU",
        "outputId": "a71ab744-f490-4b3c-ab02-ca0e7655fe84"
      },
      "execution_count": null,
      "outputs": [
        {
          "output_type": "stream",
          "name": "stdout",
          "text": [
            "1001.0\n"
          ]
        }
      ]
    },
    {
      "cell_type": "markdown",
      "source": [
        "Fait une boucle qui n'affiche que les valeurs entre 100 et 90.\n",
        "L'affichage doit être décroissant.\n"
      ],
      "metadata": {
        "id": "PHUFsJeYmonp"
      }
    },
    {
      "cell_type": "code",
      "execution_count": null,
      "metadata": {
        "id": "OsRSw-z6miUx",
        "colab": {
          "base_uri": "https://localhost:8080/"
        },
        "outputId": "f9c7937b-e372-4c71-b4a7-bfc192e65970"
      },
      "outputs": [
        {
          "output_type": "stream",
          "name": "stdout",
          "text": [
            "100\n",
            "99\n",
            "98\n",
            "97\n",
            "96\n",
            "95\n",
            "94\n",
            "93\n",
            "92\n",
            "91\n",
            "90\n"
          ]
        }
      ],
      "source": [
        "\n",
        "for i in range(100,89,-1):\n",
        "  print(i)"
      ]
    },
    {
      "cell_type": "markdown",
      "source": [
        "Fait une boucle qui affiche un compte à rebours. Lorsque le compte à rebours est terminé, affiche \"Décollage !\".\n",
        "Tu dois initialiser une valeur de départ en dehors de ta boucle. Enregistre cette valeur sous le nom de variable compteur."
      ],
      "metadata": {
        "id": "lP1CCZgnmzWw"
      }
    },
    {
      "cell_type": "code",
      "source": [
        "compteur=int(input(\"entrer une valeur\"))\n",
        "for i in range (compteur,-1,-1):\n",
        "  print(i)\n",
        "print(\"décollage\")\n"
      ],
      "metadata": {
        "id": "2kEuLvr1m4w7",
        "colab": {
          "base_uri": "https://localhost:8080/"
        },
        "outputId": "d80155bd-e72a-41da-da69-37a5bc9909a7"
      },
      "execution_count": null,
      "outputs": [
        {
          "output_type": "stream",
          "name": "stdout",
          "text": [
            "entrer une valeur10\n",
            "10\n",
            "9\n",
            "8\n",
            "7\n",
            "6\n",
            "5\n",
            "4\n",
            "3\n",
            "2\n",
            "1\n",
            "0\n",
            "décollage\n"
          ]
        }
      ]
    },
    {
      "cell_type": "markdown",
      "source": [
        "Ecrire un programme permettant de calculer la factorielle d’un nombre à l’aide d’une boucle for"
      ],
      "metadata": {
        "id": "0OJUeXJEm9sh"
      }
    },
    {
      "cell_type": "markdown",
      "source": [
        "la factorielle de 5=5x4x3x2x1"
      ],
      "metadata": {
        "id": "OLwU6KepRGtv"
      }
    },
    {
      "cell_type": "code",
      "source": [
        "fact=1\n",
        "i=int(input(\"choisis une valeur: \"))\n",
        "for n in range(1,i+1):\n",
        "  fact=fact*n\n",
        "print(fact)\n"
      ],
      "metadata": {
        "id": "m3N6si3SnC3-",
        "colab": {
          "base_uri": "https://localhost:8080/"
        },
        "outputId": "fada0c5a-ff03-4c12-eac4-da097e2cc5d2"
      },
      "execution_count": null,
      "outputs": [
        {
          "output_type": "stream",
          "name": "stdout",
          "text": [
            "choisis une valeur: 5\n",
            "120\n"
          ]
        }
      ]
    },
    {
      "cell_type": "markdown",
      "source": [
        "Écrire un programme qui compte le nombre de voyelles contenues dans une chaîne. Les voyelles valides sont : 'a', 'e', ​​'i', 'o' et 'u'.\n",
        "par exemple combien de voyelles compte le mot: anticonstittutionnellement"
      ],
      "metadata": {
        "id": "lnMYkw-Sppj0"
      }
    },
    {
      "cell_type": "code",
      "source": [
        "s=0\n",
        "voyelles=\"aeiou\"\n",
        "mot=\"anticonstitutionnellement\"\n",
        "for char in mot:\n",
        "  if char in voyelles:\n",
        "    s+=1\n",
        "print(s)\n"
      ],
      "metadata": {
        "id": "dRhsrTdmTB5r",
        "colab": {
          "base_uri": "https://localhost:8080/"
        },
        "outputId": "f3d53116-b8bc-45f6-d808-ea91add4e38e"
      },
      "execution_count": null,
      "outputs": [
        {
          "output_type": "stream",
          "name": "stdout",
          "text": [
            "10\n"
          ]
        }
      ]
    },
    {
      "cell_type": "code",
      "source": [
        "s=0\n",
        "voyelles=\"aeiou\"\n",
        "mot=\"anticonstitutionnellement\"\n",
        "for char in mot:\n",
        "  for voyelle in voyelles:\n",
        "    if voyelle==char:\n",
        "     s+=1\n",
        "print(s)"
      ],
      "metadata": {
        "id": "J-RmE83ZVaIH"
      },
      "execution_count": null,
      "outputs": []
    },
    {
      "cell_type": "code",
      "source": [
        "s=0\n",
        "voyelles=\"aeiou\"\n",
        "mot=\"anticonstitutionnellement\"\n",
        "for voyelle in voyelles:\n",
        "  s+=mot.count(voyelle)\n",
        "print(s)"
      ],
      "metadata": {
        "colab": {
          "base_uri": "https://localhost:8080/"
        },
        "id": "Cm-rPsHAUPKz",
        "outputId": "260c909c-20ec-485b-ddbb-805babb43b0d"
      },
      "execution_count": null,
      "outputs": [
        {
          "output_type": "stream",
          "name": "stdout",
          "text": [
            "10\n"
          ]
        }
      ]
    },
    {
      "cell_type": "markdown",
      "source": [
        "On place un capital de 10 000 euros sur un compte rémunéré à 1,5% d'intérêts par an (à intérêts simple). Affiche le capital disponible au bout de 5 ans en utilisant une boucle, et le capital pour chaque mois.\n",
        "\n"
      ],
      "metadata": {
        "id": "JBG_pyDATCqk"
      }
    },
    {
      "cell_type": "code",
      "source": [
        "#intérêt composé\n",
        "capital=10000\n",
        "interet=1.5/100\n",
        "for annee in range(1,6):\n",
        "  capital=(capital*interet)+capital\n",
        "  print(annee,capital)"
      ],
      "metadata": {
        "colab": {
          "base_uri": "https://localhost:8080/"
        },
        "id": "aB1b9iG9YslP",
        "outputId": "abc0f60a-08d0-4945-fea2-b4cd05aec31b"
      },
      "execution_count": null,
      "outputs": [
        {
          "output_type": "stream",
          "name": "stdout",
          "text": [
            "1 10150.0\n",
            "2 10302.25\n",
            "3 10456.78375\n",
            "4 10613.63550625\n",
            "5 10772.840038843751\n"
          ]
        }
      ]
    },
    {
      "cell_type": "code",
      "source": [
        "#intérêt simple\n",
        "capital=10000\n",
        "interet=1.5/100\n",
        "for annee in range(1,6):\n",
        "  nouveau_cap=(capital*interet)*annee+capital\n",
        "  print(annee,nouveau_cap)\n",
        "  "
      ],
      "metadata": {
        "id": "V6vQAa2FTvNi",
        "colab": {
          "base_uri": "https://localhost:8080/"
        },
        "outputId": "328962e6-f40d-4a52-9d2b-86c67f6c9293"
      },
      "execution_count": null,
      "outputs": [
        {
          "output_type": "stream",
          "name": "stdout",
          "text": [
            "1 10150.0\n",
            "2 10300.0\n",
            "3 10450.0\n",
            "4 10600.0\n",
            "5 10750.0\n"
          ]
        }
      ]
    }
  ]
}