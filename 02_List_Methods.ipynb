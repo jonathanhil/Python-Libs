{
 "cells": [
  {
   "cell_type": "markdown",
   "id": "2044104a",
   "metadata": {},
   "source": [
    "# .append() \n",
    "\n",
    "adds element to the end of your list."
   ]
  },
  {
   "cell_type": "code",
   "execution_count": 1,
   "id": "62b7776d",
   "metadata": {},
   "outputs": [
    {
     "name": "stdout",
     "output_type": "stream",
     "text": [
      "['Dollar', 'Euro', 'Pound', 'Yen']\n"
     ]
    }
   ],
   "source": [
    "currencies = ['Dollar', 'Euro', 'Pound']\n",
    "\n",
    "#append 'Yen' to the list\n",
    "\n",
    "currencies.append('Yen')\n",
    "\n",
    "print(currencies)"
   ]
  },
  {
   "cell_type": "markdown",
   "id": "54548b80",
   "metadata": {},
   "source": [
    "# .insert()\n",
    "\n",
    "adds an element to a specified position in your list."
   ]
  },
  {
   "cell_type": "code",
   "execution_count": 2,
   "id": "c717d279",
   "metadata": {},
   "outputs": [
    {
     "name": "stdout",
     "output_type": "stream",
     "text": [
      "new_vowel: ['a', 'e', 'i', 'o', 'u']\n"
     ]
    }
   ],
   "source": [
    "#create a list of vowels\n",
    "\n",
    "vowel = ['a', 'e', 'i', 'u']\n",
    "\n",
    "#'o' is inserted at index 3 (4th position)\n",
    "\n",
    "vowel.insert(3, 'o')\n",
    "\n",
    "print('new_vowel:', vowel)"
   ]
  },
  {
   "cell_type": "markdown",
   "id": "28d6433e",
   "metadata": {},
   "source": [
    "# .extend()\n",
    "\n",
    "adds all individual elements from another list (or another iterable) to the end of your list."
   ]
  },
  {
   "cell_type": "code",
   "execution_count": 3,
   "id": "f9529b37",
   "metadata": {},
   "outputs": [
    {
     "name": "stdout",
     "output_type": "stream",
     "text": [
      "List after extend(): [1, 4, 2, 3, 5]\n"
     ]
    }
   ],
   "source": [
    "#create a list\n",
    "prime_numbers = [2, 3, 5]\n",
    "\n",
    "#create another list\n",
    "numbers = [1, 4]\n",
    "\n",
    "#add all elements of prime_numbers to numbers\n",
    "numbers.extend(prime_numbers)\n",
    "\n",
    "\n",
    "print('List after extend():', numbers)"
   ]
  },
  {
   "cell_type": "markdown",
   "id": "f009b3b3",
   "metadata": {},
   "source": [
    "# .index()\n",
    "\n",
    "returns the index (position) of the first element in your list with some specified value."
   ]
  },
  {
   "cell_type": "code",
   "execution_count": 4,
   "id": "a8eb84f7",
   "metadata": {},
   "outputs": [
    {
     "name": "stdout",
     "output_type": "stream",
     "text": [
      "1\n"
     ]
    }
   ],
   "source": [
    "animals = ['cat', 'dog', 'rabbit', 'horse']\n",
    "\n",
    "#get the index of 'dog'\n",
    "index = animals.index('dog')\n",
    "\n",
    "\n",
    "print(index)"
   ]
  },
  {
   "cell_type": "code",
   "execution_count": 5,
   "id": "672a9464",
   "metadata": {},
   "outputs": [
    {
     "name": "stdout",
     "output_type": "stream",
     "text": [
      "3\n"
     ]
    }
   ],
   "source": [
    "index = animals.index('horse')\n",
    "print(index)"
   ]
  },
  {
   "cell_type": "markdown",
   "id": "23399c02",
   "metadata": {},
   "source": [
    "# .count()\n",
    "\n",
    "returns the number of elements within your list that are equal to some specified value."
   ]
  },
  {
   "cell_type": "code",
   "execution_count": 6,
   "id": "59074e83",
   "metadata": {},
   "outputs": [
    {
     "name": "stdout",
     "output_type": "stream",
     "text": [
      "Count of 2: 3\n"
     ]
    }
   ],
   "source": [
    "numbers = [2, 3, 5, 2, 11, 2, 7]\n",
    "\n",
    "#check the count of 2\n",
    "count = numbers.count(2)\n",
    "\n",
    "\n",
    "print('Count of 2:', count)"
   ]
  },
  {
   "cell_type": "markdown",
   "id": "0851d973",
   "metadata": {},
   "source": [
    "# .remove()\n",
    "\n",
    "removes the first item in your list that is equal to some specified value."
   ]
  },
  {
   "cell_type": "code",
   "execution_count": 7,
   "id": "b23d1c37",
   "metadata": {},
   "outputs": [
    {
     "name": "stdout",
     "output_type": "stream",
     "text": [
      "Updated List:  [2, 3, 5, 7, 11]\n"
     ]
    }
   ],
   "source": [
    "prime_numbers = [2, 3, 5, 7, 9, 11]\n",
    "\n",
    "#remove 9 from the list\n",
    "prime_numbers.remove(9)\n",
    "\n",
    "\n",
    "#Updated prime_numbers List\n",
    "print('Updated List: ', prime_numbers)"
   ]
  },
  {
   "cell_type": "markdown",
   "id": "c9c97102",
   "metadata": {},
   "source": [
    "# .pop()\n",
    "\n",
    "removes (and returns) the element that exists at a specified index position."
   ]
  },
  {
   "cell_type": "code",
   "execution_count": 8,
   "id": "55317956",
   "metadata": {},
   "outputs": [
    {
     "name": "stdout",
     "output_type": "stream",
     "text": [
      "Removed Element: 5\n",
      "Updated List: [2, 3, 7]\n"
     ]
    }
   ],
   "source": [
    "prime_numbers = [2, 3, 5, 7]\n",
    "\n",
    "#remove the element at index 2\n",
    "removed_element = prime_numbers.pop(2)\n",
    "\n",
    "print('Removed Element:', removed_element)\n",
    "print('Updated List:', prime_numbers)"
   ]
  },
  {
   "cell_type": "markdown",
   "id": "4d0f5664",
   "metadata": {},
   "source": [
    "# .sort()\n",
    "\n",
    "sorts the elements in your list (ascending order by default)."
   ]
  },
  {
   "cell_type": "code",
   "execution_count": 9,
   "id": "d515be29",
   "metadata": {},
   "outputs": [
    {
     "name": "stdout",
     "output_type": "stream",
     "text": [
      "[2, 3, 5, 7, 11]\n"
     ]
    }
   ],
   "source": [
    "prime_numbers = [11, 3, 7, 5, 2]\n",
    "\n",
    "#sorting the list in ascending order\n",
    "prime_numbers.sort()\n",
    "\n",
    "print(prime_numbers)"
   ]
  },
  {
   "cell_type": "markdown",
   "id": "15d7338f",
   "metadata": {},
   "source": [
    "# .reverse()\n",
    "\n",
    "reverses the order of the elements in your list."
   ]
  },
  {
   "cell_type": "code",
   "execution_count": 10,
   "id": "664b9d0f",
   "metadata": {},
   "outputs": [
    {
     "name": "stdout",
     "output_type": "stream",
     "text": [
      "Reversed List: [7, 5, 3, 2]\n"
     ]
    }
   ],
   "source": [
    "prime_numbers = [2, 3, 5, 7]\n",
    "\n",
    "#reverse the order of list elements\n",
    "prime_numbers.reverse()\n",
    "\n",
    "\n",
    "print('Reversed List:', prime_numbers)"
   ]
  },
  {
   "cell_type": "markdown",
   "id": "c5f405aa",
   "metadata": {},
   "source": [
    "# .copy()\n",
    "\n",
    "returns a copy of your list."
   ]
  },
  {
   "cell_type": "code",
   "execution_count": 11,
   "id": "a959ea2c",
   "metadata": {},
   "outputs": [
    {
     "name": "stdout",
     "output_type": "stream",
     "text": [
      "Copied List: [2, 3, 5]\n"
     ]
    }
   ],
   "source": [
    "#mixed list\n",
    "prime_numbers = [2, 3, 5]\n",
    "\n",
    "#copying a list\n",
    "numbers = prime_numbers.copy()\n",
    "\n",
    "\n",
    "print('Copied List:', numbers)"
   ]
  },
  {
   "cell_type": "markdown",
   "id": "7c5a53f7",
   "metadata": {},
   "source": [
    "# .clear()\n",
    "\n",
    "removes all elements of your list."
   ]
  },
  {
   "cell_type": "code",
   "execution_count": 12,
   "id": "32677c59",
   "metadata": {},
   "outputs": [
    {
     "name": "stdout",
     "output_type": "stream",
     "text": [
      "List after clear(): []\n"
     ]
    }
   ],
   "source": [
    "prime_numbers = [2, 3, 5, 7, 9, 11]\n",
    "\n",
    "#remove all elements\n",
    "prime_numbers.clear()\n",
    "\n",
    "#Updated prime_numbers List\n",
    "print('List after clear():', prime_numbers)"
   ]
  }
 ],
 "metadata": {
  "kernelspec": {
   "display_name": "Python 3 (ipykernel)",
   "language": "python",
   "name": "python3"
  },
  "language_info": {
   "codemirror_mode": {
    "name": "ipython",
    "version": 3
   },
   "file_extension": ".py",
   "mimetype": "text/x-python",
   "name": "python",
   "nbconvert_exporter": "python",
   "pygments_lexer": "ipython3",
   "version": "3.9.12"
  }
 },
 "nbformat": 4,
 "nbformat_minor": 5
}
