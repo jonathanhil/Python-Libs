{
 "cells": [
  {
   "cell_type": "code",
   "execution_count": 21,
   "id": "4ca02e7e",
   "metadata": {},
   "outputs": [
    {
     "name": "stdout",
     "output_type": "stream",
     "text": [
      "OXOXOXOXOXOXOXOXOXOXOXOXOXOXOXOXOXOXOXOX\n",
      "XOXOXOXOXOXOXOXOXOXOXOXOXOXOXOXOXOXOXOXO\n",
      "OXOXOXOXOXOXOXOXOXOXOXOXOXOXOXOXOXOXOXOX\n",
      "XOXOXOXOXOXOXOXOXOXOXOXOXOXOXOXOXOXOXOXO\n",
      "OXOXOXOXOXOXOXOXOXOXOXOXOXOXOXOXOXOXOXOX\n",
      "XOXOXOXOXOXOXOXOXOXOXOXOXOXOXOXOXOXOXOXO\n",
      "OXOXOXOXOXOXOXOXOXOXOXOXOXOXOXOXOXOXOXOX\n",
      "XOXOXOXOXOXOXOXOXOXOXOXOXOXOXOXOXOXOXOXO\n",
      "OXOXOXOXOXOXOXOXOXOXOXOXOXOXOXOXOXOXOXOX\n",
      "XOXOXOXOXOXOXOXOXOXOXOXOXOXOXOXOXOXOXOXO\n",
      "OXOXOXOXOXOXOXOXOXOXOXOXOXOXOXOXOXOXOXOX\n",
      "XOXOXOXOXOXOXOXOXOXOXOXOXOXOXOXOXOXOXOXO\n",
      "OXOXOXOXOXOXOXOXOXOXOXOXOXOXOXOXOXOXOXOX\n",
      "XOXOXOXOXOXOXOXOXOXOXOXOXOXOXOXOXOXOXOXO\n",
      "OXOXOXOXOXOXOXOXOXOXOXOXOXOXOXOXOXOXOXOX\n",
      "XOXOXOXOXOXOXOXOXOXOXOXOXOXOXOXOXOXOXOXO\n",
      "OXOXOXOXOXOXOXOXOXOXOXOXOXOXOXOXOXOXOXOX\n",
      "XOXOXOXOXOXOXOXOXOXOXOXOXOXOXOXOXOXOXOXO\n",
      "OXOXOXOXOXOXOXOXOXOXOXOXOXOXOXOXOXOXOXOX\n",
      "XOXOXOXOXOXOXOXOXOXOXOXOXOXOXOXOXOXOXOXO\n"
     ]
    }
   ],
   "source": [
    "for loop in range(10):\n",
    "    for loop in range(20):\n",
    "        print(\"OX\", end=\"\")\n",
    "    print()\n",
    "    for loop in range(20):\n",
    "        print(\"XO\", end=\"\")\n",
    "    print()"
   ]
  },
  {
   "cell_type": "code",
   "execution_count": 24,
   "id": "dc05c113",
   "metadata": {},
   "outputs": [
    {
     "name": "stdout",
     "output_type": "stream",
     "text": [
      "XXXXXXXXXX\n",
      "XXXXXXXXXX\n",
      "XXXXXXXXXX\n",
      "XXXXXXXXXX\n",
      "XXXXXXXXXX\n"
     ]
    }
   ],
   "source": [
    "# Affiche un rectangle rempli de X\n",
    "for loop in range(5):\n",
    "   for loop in range(10):\n",
    "      print(\"X\", end = \"\")  # pas de retour à la ligne ici\n",
    "   print()"
   ]
  },
  {
   "cell_type": "code",
   "execution_count": 2,
   "id": "a63b2559",
   "metadata": {},
   "outputs": [
    {
     "name": "stdout",
     "output_type": "stream",
     "text": [
      "42 84 126\n"
     ]
    }
   ],
   "source": [
    "distJour = 2 + 34 + 6\n",
    "print(distJour, end = \" \")\n",
    "print(distJour * 2, end = \" \")\n",
    "print(distJour * 3)"
   ]
  },
  {
   "cell_type": "code",
   "execution_count": 30,
   "id": "34c0480e",
   "metadata": {},
   "outputs": [
    {
     "name": "stdout",
     "output_type": "stream",
     "text": [
      "11664\n",
      "432\n"
     ]
    }
   ],
   "source": [
    "longeur_cote= 17*5 + 7*2 + 5*1 +2*2\n",
    "metre_carre = longeur_cote**2\n",
    "metre = longeur_cote*4\n",
    "print(metre_carre)\n",
    "print(metre)"
   ]
  },
  {
   "cell_type": "code",
   "execution_count": 35,
   "id": "f1643f16",
   "metadata": {},
   "outputs": [
    {
     "name": "stdout",
     "output_type": "stream",
     "text": [
      "1\n",
      "2\n",
      "3\n",
      "4\n",
      "5\n",
      "6\n",
      "7\n",
      "8\n",
      "9\n",
      "10\n",
      "11\n",
      "12\n",
      "13\n",
      "14\n",
      "15\n",
      "16\n",
      "17\n",
      "18\n",
      "19\n",
      "20\n",
      "J'arrive !\n"
     ]
    }
   ],
   "source": [
    "n=0\n",
    "while n<20:\n",
    "   n+=1\n",
    "   print(n)\n",
    "print(\"J'arrive !\")"
   ]
  },
  {
   "cell_type": "markdown",
   "id": "bdd30137",
   "metadata": {},
   "source": [
    "\\begin{align}\n",
    "        x = \\frac{-b  \\pm \\sqrt{b^2-4ac}} {2a}\n",
    "\\end{align}"
   ]
  },
  {
   "cell_type": "code",
   "execution_count": 38,
   "id": "d8af5353",
   "metadata": {},
   "outputs": [
    {
     "name": "stdout",
     "output_type": "stream",
     "text": [
      "Python version\n",
      "3.9.12 (main, Apr  4 2022, 05:22:27) [MSC v.1916 64 bit (AMD64)]\n",
      "Version info.\n",
      "sys.version_info(major=3, minor=9, micro=12, releaselevel='final', serial=0)\n"
     ]
    }
   ],
   "source": [
    "import sys\n",
    "print(\"Python version\")\n",
    "print (sys.version)\n",
    "print(\"Version info.\")\n",
    "print (sys.version_info)"
   ]
  }
 ],
 "metadata": {
  "kernelspec": {
   "display_name": "Python 3 (ipykernel)",
   "language": "python",
   "name": "python3"
  },
  "language_info": {
   "codemirror_mode": {
    "name": "ipython",
    "version": 3
   },
   "file_extension": ".py",
   "mimetype": "text/x-python",
   "name": "python",
   "nbconvert_exporter": "python",
   "pygments_lexer": "ipython3",
   "version": "3.9.12"
  }
 },
 "nbformat": 4,
 "nbformat_minor": 5
}
