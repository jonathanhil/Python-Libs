{
  "nbformat": 4,
  "nbformat_minor": 0,
  "metadata": {
    "colab": {
      "provenance": [],
      "authorship_tag": "ABX9TyOl34Mc7MkxCfFxYMHtyJKj",
      "include_colab_link": true
    },
    "kernelspec": {
      "name": "python3",
      "display_name": "Python 3"
    },
    "language_info": {
      "name": "python"
    }
  },
  "cells": [
    {
      "cell_type": "markdown",
      "metadata": {
        "id": "view-in-github",
        "colab_type": "text"
      },
      "source": [
        "<a href=\"https://colab.research.google.com/github/yunuserbas/Python_Exercises/blob/main/15_WCS_Lists_Challenge.ipynb\" target=\"_parent\"><img src=\"https://colab.research.google.com/assets/colab-badge.svg\" alt=\"Open In Colab\"/></a>"
      ]
    },
    {
      "cell_type": "markdown",
      "source": [
        "**Preliminary note:** sometimes, the challenge tells you to do something that is incompatible with some input (for instance, you ask for a position but the user enters some text, or an invalid number).\n",
        "\n",
        "Here you can assume that all user input goes according to plan (the \"happy path\"). If you want an extra **optional** challenge, feel free to manage possible error cases!"
      ],
      "metadata": {
        "id": "YvhmV71CIAPE"
      }
    },
    {
      "cell_type": "markdown",
      "source": [
        "# Mission 1\n",
        "\n",
        "Define a list, then display only the elements (and their position) that have even positions (0, 2, 4, 6...).\n",
        "\n",
        "With `test_list = [\"a\", \"b\", \"c\", \"d\", \"e\"]`, the script should display: \n",
        "```\n",
        "a at position 0\n",
        "c at position 2\n",
        "e at position 4\n",
        "```"
      ],
      "metadata": {
        "id": "LAS1U0NbILw4"
      }
    },
    {
      "cell_type": "code",
      "source": [
        "test_list = [\"a\", \"b\", \"c\", \"d\", \"e\"]\n",
        "\n",
        "# Your code here\n",
        "\n",
        "for i in range (0, len(test_list), 2):\n",
        "  result = test_list[i]\n",
        "  print(test_list[i], \" at position\", i)"
      ],
      "metadata": {
        "colab": {
          "base_uri": "https://localhost:8080/"
        },
        "id": "5kouxtkDIPs9",
        "outputId": "51d2b456-0598-4c3d-fc58-403445618e3e"
      },
      "execution_count": 1,
      "outputs": [
        {
          "output_type": "stream",
          "name": "stdout",
          "text": [
            "a  at position 0\n",
            "c  at position 2\n",
            "e  at position 4\n"
          ]
        }
      ]
    },
    {
      "cell_type": "markdown",
      "source": [
        "# Mission 2\n",
        "\n",
        "Define a list, then **ask** for a position, then for a string. Then replace the list element at that position by the given string, and display the resulting list.\n",
        "\n",
        "For example, with the list `test_list2 = ['hello', 'good morning', 'bye bye', 'have a good day']`, the position `2` and the string `yeah`, you should display:\n",
        "```\n",
        "['hello', 'good morning', 'yeah', 'have a good day']\n",
        "```"
      ],
      "metadata": {
        "id": "x20kSo1pIVAk"
      }
    },
    {
      "cell_type": "code",
      "source": [
        "test_list2 = ['hello', 'good morning', 'bye bye', 'have a good day']\n",
        "position = int(input())\n",
        "string = str(input())\n",
        "\n",
        "test_list2[position] = string\n",
        "print(test_list2)"
      ],
      "metadata": {
        "colab": {
          "base_uri": "https://localhost:8080/"
        },
        "id": "ZLcCffvrIaVH",
        "outputId": "0567e901-ee26-43d6-ce4a-429127f2cc91"
      },
      "execution_count": 2,
      "outputs": [
        {
          "output_type": "stream",
          "name": "stdout",
          "text": [
            "2\n",
            "YEAH\n",
            "['hello', 'good morning', 'YEAH', 'have a good day']\n"
          ]
        }
      ]
    },
    {
      "cell_type": "markdown",
      "source": [
        "# Mission 3\n",
        "\n",
        "Define a list with five numbers, then ask the user for a number. Put the number at the end of the list, remove the first element from the list, and finally display the list.\n",
        "\n",
        "For example, with the list `test_list3 = [1, 9, 6, 15, 4]` and the input `7`, you should display:\n",
        "```\n",
        "[9, 6, 15, 4, 7]\n",
        "```"
      ],
      "metadata": {
        "id": "E5FDz_CcIj6u"
      }
    },
    {
      "cell_type": "code",
      "source": [
        "test_list3 = [1, 9, 6, 15, 4]\n",
        "\n",
        "number = str(input())\n",
        "\n",
        "test_list3.append(number)\n",
        "test_list3.pop(0)\n",
        "\n",
        "print(test_list3)"
      ],
      "metadata": {
        "colab": {
          "base_uri": "https://localhost:8080/"
        },
        "id": "fz2U6sufIlHy",
        "outputId": "5e4496a1-2d7e-4a70-ba68-e877d4b755b4"
      },
      "execution_count": 3,
      "outputs": [
        {
          "output_type": "stream",
          "name": "stdout",
          "text": [
            "7\n",
            "[9, 6, 15, 4, '7']\n"
          ]
        }
      ]
    },
    {
      "cell_type": "markdown",
      "source": [
        "# Mission 4\n",
        "\n",
        "Define a list, then ask the user for a string. Then, insert the string in the list at a random position, and display the resulting list.\n",
        "\n",
        "For example, with the list `test_list4 = [\"p\", \"y\", \"t\", \"h\", \"o\"]` and the input `n`, you *might* get:\n",
        "```\n",
        "[\"p\", \"n\", \"y\", \"t\", \"h\", \"o\"]\n",
        "```\n",
        "... but you might also get:\n",
        "```\n",
        "[\"p\", \"y\", \"t\", \"n\", \"h\", \"o\"]\n",
        "```\n"
      ],
      "metadata": {
        "id": "0NHKv8sGIqws"
      }
    },
    {
      "cell_type": "code",
      "source": [
        "import random\n",
        "\n",
        "test_list4 = [\"p\", \"y\", \"t\", \"h\", \"o\"]\n",
        "\n",
        "string = str(input())\n",
        "\n",
        "test_list4.insert(random. randrange(len(test_list4)), string)\n",
        "print(test_list4)"
      ],
      "metadata": {
        "colab": {
          "base_uri": "https://localhost:8080/"
        },
        "id": "WKf4MTR_Itfk",
        "outputId": "404b5535-820f-418e-a971-c8597ba841ea"
      },
      "execution_count": 5,
      "outputs": [
        {
          "output_type": "stream",
          "name": "stdout",
          "text": [
            "n\n",
            "['p', 'y', 't', 'n', 'h', 'o']\n"
          ]
        }
      ]
    },
    {
      "cell_type": "markdown",
      "source": [
        "# Mission 5\n",
        "\n",
        "Create a list of integers. Then, display a list with the elements ordered from smallest to largest, using the right built-in function.\n",
        "\n",
        "With the list `test_list5 = [3, 4, 0, -1, 35, 7]`, this will display:\n",
        "```\n",
        "[-1, 0, 3, 4, 7, 35]\n",
        "```"
      ],
      "metadata": {
        "id": "0sl_cyfTI1oT"
      }
    },
    {
      "cell_type": "code",
      "source": [
        "test_list5 = [3, 4, 0, -1, 35, 7]\n",
        "\n",
        "test_list5.sort()\n",
        "print(test_list5)"
      ],
      "metadata": {
        "colab": {
          "base_uri": "https://localhost:8080/"
        },
        "id": "pNkmCnsWI2im",
        "outputId": "13b9a280-b759-46fd-d783-f037f3e5dfb2"
      },
      "execution_count": 6,
      "outputs": [
        {
          "output_type": "stream",
          "name": "stdout",
          "text": [
            "[-1, 0, 3, 4, 7, 35]\n"
          ]
        }
      ]
    },
    {
      "cell_type": "markdown",
      "source": [
        "# Mission 6\n",
        "\n",
        "Ask the user for a string, convert it to a list of characters with the `list` function, then ask for a single character.\n",
        "\n",
        "Remove the first occurrence of the character from the list, then display how many occurrences of the character remain in the list.\n",
        "\n",
        "For instance if you enter `\"Excellent work\"` then the letter `\"e\"`, it will display:\n",
        "```\n",
        "There are still 2 copies of e in the list\n",
        "```"
      ],
      "metadata": {
        "id": "7sSYYktXI_EP"
      }
    },
    {
      "cell_type": "code",
      "source": [
        "string = str(input())\n",
        "\n",
        "List_of_Characters = list(string.strip())\n",
        "List_of_Characters1 = [n.lower() for n in List_of_Characters]\n",
        "\n",
        "\n",
        "print(List_of_Characters1)\n",
        "\n",
        "character = str(input())\n",
        "\n",
        "List_of_Characters1.remove(character)\n",
        "\n",
        "if character in List_of_Characters1:\n",
        "  char = 0\n",
        "  for i in List_of_Characters1:\n",
        "    if i == character:\n",
        "      char +=1\n",
        "  print(\"There are still \", char, \" copies of \", character, \" in the list\")\n",
        "else:\n",
        "  print(\"There is no \", character, \" in the list\")"
      ],
      "metadata": {
        "colab": {
          "base_uri": "https://localhost:8080/"
        },
        "id": "95EAQb_4JACg",
        "outputId": "25d601e0-3295-4cc4-f1c2-444ec7799eb7"
      },
      "execution_count": 7,
      "outputs": [
        {
          "output_type": "stream",
          "name": "stdout",
          "text": [
            "Excellent Work\n",
            "['e', 'x', 'c', 'e', 'l', 'l', 'e', 'n', 't', ' ', 'w', 'o', 'r', 'k']\n",
            "e\n",
            "There are still  2  copies of  e  in the list\n"
          ]
        }
      ]
    },
    {
      "cell_type": "markdown",
      "source": [
        "# Mission 7\n",
        "\n",
        "Define three lists containing no duplicates. Then, indicate (however you like) the two that have the most elements in common (or all three if there's a tie).\n",
        "\n",
        "For instance, with:\n",
        "```\n",
        "list_a = [1, 2, 4, 8, 16, 32]\n",
        "list_b = [1, 2, 3, 5, 8, 13]\n",
        "list_c = [2, 3, 5, 7, 11, 13]\n",
        "```\n",
        "It may display:\n",
        "```\n",
        "Lists B and C have the most common elements!\n",
        "```"
      ],
      "metadata": {
        "id": "fQZyp1PMJJKM"
      }
    },
    {
      "cell_type": "code",
      "source": [
        "list_a = [1, 2, 4, 8, 16, 32]\n",
        "list_b = [1, 2, 3, 5, 8, 13]\n",
        "list_c = [2, 3, 5, 7, 11, 13]\n",
        "\n",
        "compte = 0\n",
        "compte1 = 0\n",
        "compte2 = 0\n",
        "for i in range(0, 6):\n",
        "  if list_a[i] in list_b:\n",
        "    compte +=1 \n",
        "  if list_a[i] in list_c:\n",
        "    compte1 +=1\n",
        "  if list_b[i] in list_c:\n",
        "    compte2 +=1\n",
        "\n",
        "if compte > (compte1 and compte2):\n",
        "  print(\"Lists A and B have the most common elements!\")\n",
        "if compte1 > (compte and compte2):\n",
        "  print(\"Lists A and C have the most common elements!\")\n",
        "if compte2 > (compte1 and compte):\n",
        "  print(\"Lists B and C have the most common elements!\")"
      ],
      "metadata": {
        "colab": {
          "base_uri": "https://localhost:8080/"
        },
        "id": "g4N4vX8_JKUl",
        "outputId": "70d41f63-223b-4893-ac43-ab0b5ac8355b"
      },
      "execution_count": 8,
      "outputs": [
        {
          "output_type": "stream",
          "name": "stdout",
          "text": [
            "Lists B and C have the most common elements!\n"
          ]
        }
      ]
    }
  ]
}