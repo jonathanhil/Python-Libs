{
  "nbformat": 4,
  "nbformat_minor": 0,
  "metadata": {
    "colab": {
      "provenance": []
    },
    "kernelspec": {
      "name": "python3",
      "display_name": "Python 3"
    },
    "language_info": {
      "name": "python"
    }
  },
  "cells": [
    {
      "cell_type": "code",
      "execution_count": null,
      "metadata": {
        "colab": {
          "base_uri": "https://localhost:8080/"
        },
        "id": "CV3Wf8NxLSbh",
        "outputId": "d990876f-e3d1-42e9-db08-0aa149fe967a"
      },
      "outputs": [
        {
          "output_type": "stream",
          "name": "stdout",
          "text": [
            "1 2 3 4 "
          ]
        }
      ],
      "source": [
        "counter = 0\n",
        "while True:\n",
        "  counter += 1\n",
        "  if counter == 5:\n",
        "    break\n",
        "  else:\n",
        "     print(counter, end=\" \")"
      ]
    },
    {
      "cell_type": "code",
      "source": [
        "counter = 0\n",
        "i = 1\n",
        "while i < 21:\n",
        "  counter += 1\n",
        "  i += 1\n",
        "  if counter == 5 and counter == 10:\n",
        "    continue\n",
        "  print(counter, end=\" \")"
      ],
      "metadata": {
        "colab": {
          "base_uri": "https://localhost:8080/"
        },
        "id": "qvzd4rIDMpUL",
        "outputId": "8a8b77b1-fc5f-4f75-d383-cae589650a43"
      },
      "execution_count": null,
      "outputs": [
        {
          "output_type": "stream",
          "name": "stdout",
          "text": [
            "1 2 3 4 5 6 7 8 9 10 11 12 13 14 15 16 17 18 19 20 "
          ]
        }
      ]
    },
    {
      "cell_type": "code",
      "source": [
        "i = 0\n",
        "sum = 0\n",
        "while i < 1001:\n",
        "  if (i % 2 == 0 or i % 5 == 0) and i % 10 != 0 :\n",
        "    sum += i\n",
        "  i += 1\n",
        "print(sum)"
      ],
      "metadata": {
        "colab": {
          "base_uri": "https://localhost:8080/"
        },
        "id": "2YRrcSTnNOWX",
        "outputId": "e31857bb-04bf-47b3-b674-44fd1827cb2d"
      },
      "execution_count": null,
      "outputs": [
        {
          "output_type": "stream",
          "name": "stdout",
          "text": [
            "250000\n"
          ]
        }
      ]
    },
    {
      "cell_type": "code",
      "source": [
        "i = 0\n",
        "sum = 0\n",
        "while True:\n",
        "  if (i % 2 == 0 or i % 5 == 0) and i % 10 != 0 :\n",
        "    sum += i\n",
        "  i += 1\n",
        "  if i == 1001:\n",
        "    break\n",
        "print(sum)"
      ],
      "metadata": {
        "colab": {
          "base_uri": "https://localhost:8080/"
        },
        "id": "PeAh5vVEOaho",
        "outputId": "ccadf7bf-b0cb-49c5-ee66-fad365ff24a3"
      },
      "execution_count": null,
      "outputs": [
        {
          "output_type": "stream",
          "name": "stdout",
          "text": [
            "250000\n"
          ]
        }
      ]
    },
    {
      "cell_type": "code",
      "source": [
        "string = \"abcde\"\n",
        "counter = 0\n",
        "for char in string:\n",
        "  counter = counter + 1\n",
        "  print(char, end=\" \")\n",
        "print(counter)"
      ],
      "metadata": {
        "colab": {
          "base_uri": "https://localhost:8080/"
        },
        "id": "_lVNzELUbEtx",
        "outputId": "180cc8c8-c62f-4481-fb7d-0d9afe59c94e"
      },
      "execution_count": 32,
      "outputs": [
        {
          "output_type": "stream",
          "name": "stdout",
          "text": [
            "a b c d e 5\n"
          ]
        }
      ]
    },
    {
      "cell_type": "code",
      "source": [
        "l2 = [1, 2, 4, 5]\n",
        "\n",
        "for num in l2:\n",
        "  if num == 4:\n",
        "    print(\"le chiffre  3 n'est pas présent dans la liste\")\n",
        "  print(\"le chiffre \", num, \"est présent dans la liste\")"
      ],
      "metadata": {
        "colab": {
          "base_uri": "https://localhost:8080/"
        },
        "id": "FBzhuW3uca4k",
        "outputId": "3d7a26cd-5c21-4437-8619-d8be1bcec329"
      },
      "execution_count": 38,
      "outputs": [
        {
          "output_type": "stream",
          "name": "stdout",
          "text": [
            "le chiffre  1 est présent dans la liste\n",
            "le chiffre  2 est présent dans la liste\n",
            "le chiffre  3 n'est pas présent dans la liste\n",
            "le chiffre  4 est présent dans la liste\n",
            "le chiffre  5 est présent dans la liste\n"
          ]
        }
      ]
    },
    {
      "cell_type": "code",
      "source": [
        "for n in range(1, 11):\n",
        "  print(\"The multiplication table of\", n, \"\\n\")\n",
        "  if n<= 5:\n",
        "    for m in range(1, 11):\n",
        "      print(m*n, end=\" \")\n",
        "    print(\"\\n\")\n",
        "  else:\n",
        "    for m in range(1, 6):\n",
        "      print(m*n, end=\" \")\n",
        "  print(\"\\n\")"
      ],
      "metadata": {
        "colab": {
          "base_uri": "https://localhost:8080/"
        },
        "id": "As5oDrwPqfdf",
        "outputId": "13f44412-304f-403a-d8d4-1340218c5e73"
      },
      "execution_count": 91,
      "outputs": [
        {
          "output_type": "stream",
          "name": "stdout",
          "text": [
            "The multiplication table of 1 \n",
            "\n",
            "1 2 3 4 5 6 7 8 9 10 \n",
            "\n",
            "\n",
            "\n",
            "The multiplication table of 2 \n",
            "\n",
            "2 4 6 8 10 12 14 16 18 20 \n",
            "\n",
            "\n",
            "\n",
            "The multiplication table of 3 \n",
            "\n",
            "3 6 9 12 15 18 21 24 27 30 \n",
            "\n",
            "\n",
            "\n",
            "The multiplication table of 4 \n",
            "\n",
            "4 8 12 16 20 24 28 32 36 40 \n",
            "\n",
            "\n",
            "\n",
            "The multiplication table of 5 \n",
            "\n",
            "5 10 15 20 25 30 35 40 45 50 \n",
            "\n",
            "\n",
            "\n",
            "The multiplication table of 6 \n",
            "\n",
            "6 12 18 24 30 \n",
            "\n",
            "The multiplication table of 7 \n",
            "\n",
            "7 14 21 28 35 \n",
            "\n",
            "The multiplication table of 8 \n",
            "\n",
            "8 16 24 32 40 \n",
            "\n",
            "The multiplication table of 9 \n",
            "\n",
            "9 18 27 36 45 \n",
            "\n",
            "The multiplication table of 10 \n",
            "\n",
            "10 20 30 40 50 \n",
            "\n"
          ]
        }
      ]
    }
  ]
}