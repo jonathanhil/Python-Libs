{
 "cells": [
  {
   "cell_type": "markdown",
   "id": "0f135fb8",
   "metadata": {},
   "source": [
    "# Python Program to Find the Largest Among Three Numbers"
   ]
  },
  {
   "cell_type": "markdown",
   "id": "11d71000",
   "metadata": {},
   "source": [
    "In the program below, the three are stored in num1, num2 and num3 respectively. We've used the if-elif-else ladder to fing the largest among the three and display it. "
   ]
  },
  {
   "cell_type": "code",
   "execution_count": 1,
   "id": "c2808e0c",
   "metadata": {},
   "outputs": [
    {
     "name": "stdout",
     "output_type": "stream",
     "text": [
      "The largest number is: 19\n"
     ]
    }
   ],
   "source": [
    "# Example 1: find the largest number among the three input numbers\n",
    "\n",
    "# change the values of num1, num2 and num3\n",
    "# for a different result\n",
    "num1 = 12\n",
    "num2 = 19\n",
    "num3 = 16\n",
    "\n",
    "# uncomment following lines to take three numbers from user\n",
    "#num1 = float(input(\"Enter first number: \"))\n",
    "#num2 = float(input(\"Enter second number: \"))\n",
    "#num3 = float(input(\"Enter third number: \"))\n",
    "\n",
    "if (num1 >= num2) and (num1 >= num3):\n",
    "    largest = num1\n",
    "elif (num2 >= num1) and (num2 >= num3):\n",
    "    largest = num2\n",
    "else:\n",
    "    largest = num3\n",
    "\n",
    "print(\"The largest number is:\", largest)"
   ]
  }
 ],
 "metadata": {
  "kernelspec": {
   "display_name": "Python 3 (ipykernel)",
   "language": "python",
   "name": "python3"
  },
  "language_info": {
   "codemirror_mode": {
    "name": "ipython",
    "version": 3
   },
   "file_extension": ".py",
   "mimetype": "text/x-python",
   "name": "python",
   "nbconvert_exporter": "python",
   "pygments_lexer": "ipython3",
   "version": "3.9.12"
  }
 },
 "nbformat": 4,
 "nbformat_minor": 5
}
