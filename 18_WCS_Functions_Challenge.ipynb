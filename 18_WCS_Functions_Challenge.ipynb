{
  "nbformat": 4,
  "nbformat_minor": 0,
  "metadata": {
    "colab": {
      "provenance": [],
      "authorship_tag": "ABX9TyMVaH3uekXagqyQ42qRfsz7",
      "include_colab_link": true
    },
    "kernelspec": {
      "name": "python3",
      "display_name": "Python 3"
    },
    "language_info": {
      "name": "python"
    }
  },
  "cells": [
    {
      "cell_type": "markdown",
      "metadata": {
        "id": "view-in-github",
        "colab_type": "text"
      },
      "source": [
        "<a href=\"https://colab.research.google.com/github/yunuserbas/Python_Exercises/blob/main/18_WCS_Functions_Challenge.ipynb\" target=\"_parent\"><img src=\"https://colab.research.google.com/assets/colab-badge.svg\" alt=\"Open In Colab\"/></a>"
      ]
    },
    {
      "cell_type": "markdown",
      "source": [
        "# Help for statisticians!\n",
        "\n",
        "Your fellow statisticians need you. They want to learn how to program in Python and have tons of calculations to do.\n",
        "\n",
        "Very kindly, you agree to help them. Complete the missions below."
      ],
      "metadata": {
        "id": "k3A1wATa0N4j"
      }
    },
    {
      "cell_type": "markdown",
      "source": [
        "![Einstien le génie](https://wallup.net/wp-content/uploads/2018/09/30/201016-funny-albert-einstein-748x468.jpg)"
      ],
      "metadata": {
        "id": "mE1sQqL60P4Z"
      }
    },
    {
      "cell_type": "code",
      "source": [
        "# Mission 1: Create a function, that simply returns the string \"Hello Python\"\n",
        "\n",
        "def myFunction():\n",
        "  x = \"Hello Python\"\n",
        "  return print(x)\n",
        "\n",
        "myFunction()"
      ],
      "metadata": {
        "colab": {
          "base_uri": "https://localhost:8080/"
        },
        "id": "kAeGNEBl0WAM",
        "outputId": "54f72ce9-7c3f-45f5-8f15-51b6ea99f5a9"
      },
      "execution_count": 1,
      "outputs": [
        {
          "output_type": "stream",
          "name": "stdout",
          "text": [
            "Hello Python\n"
          ]
        }
      ]
    },
    {
      "cell_type": "code",
      "source": [
        "# Mission 2: Create a function that takes in 2 numbers as parameters, and returns a boolean indicating whether or not they are equal\n",
        "\n",
        "def equal(n1, n2):\n",
        "  check = n1 == n2\n",
        "  return check\n",
        "\n",
        "n1 = 7\n",
        "n2 = 5\n",
        "\n",
        "equal(n1, n2)\n"
      ],
      "metadata": {
        "colab": {
          "base_uri": "https://localhost:8080/"
        },
        "id": "qq-Djl3N0cJO",
        "outputId": "95ba95ff-72ed-40f6-83f8-d6e8d65d5089"
      },
      "execution_count": 2,
      "outputs": [
        {
          "output_type": "execute_result",
          "data": {
            "text/plain": [
              "False"
            ]
          },
          "metadata": {},
          "execution_count": 2
        }
      ]
    },
    {
      "cell_type": "code",
      "source": [
        "# Mission 3: Create a function that takes a number as parameter, and returns the first 10 multiples of the number as a list\n",
        "# Example: 2 -> [2, 4, 6, 8, 10, 12, 14, 16, 18, 20]\n",
        "\n",
        "list = []\n",
        "def multip(n):\n",
        "\n",
        "  for i in range(1, 11):\n",
        "    list.append(i*n) \n",
        "  return list\n",
        "\n",
        "\n",
        "multip(int(input(\"Enter a number\")))"
      ],
      "metadata": {
        "colab": {
          "base_uri": "https://localhost:8080/"
        },
        "id": "tg2TxrVA0fzk",
        "outputId": "7b78c661-e05b-4dff-dc30-f8afc3c29a61"
      },
      "execution_count": 3,
      "outputs": [
        {
          "name": "stdout",
          "output_type": "stream",
          "text": [
            "Enter a number3\n"
          ]
        },
        {
          "output_type": "execute_result",
          "data": {
            "text/plain": [
              "[3, 6, 9, 12, 15, 18, 21, 24, 27, 30]"
            ]
          },
          "metadata": {},
          "execution_count": 3
        }
      ]
    },
    {
      "cell_type": "code",
      "source": [
        "# Mission 4: Create a function that takes a string as input, and return its vowels only, preserving case.\n",
        "# Example: \"Antidisestablishmentarianism\" -> \"Aiieaieaiai\"\n",
        "# Example: \"TO BE OR NOT TO BE\" -> \"OEOOOE\"\n",
        "\n",
        "def vowels(phrase):\n",
        "\n",
        "  result = \"\"\n",
        "  for vowel in phrase:\n",
        "    if vowel in \"aeiouAEIOU\":\n",
        "      result = result + vowel\n",
        "      \n",
        "    else:\n",
        "      result\n",
        "  return result\n",
        "\n",
        "print(vowels(input(\"Enter a phrase: \")))"
      ],
      "metadata": {
        "colab": {
          "base_uri": "https://localhost:8080/"
        },
        "id": "szEx-zku0lkr",
        "outputId": "01570394-f94b-459d-e035-c398eec1abee"
      },
      "execution_count": 4,
      "outputs": [
        {
          "output_type": "stream",
          "name": "stdout",
          "text": [
            "Enter a phrase: Les Etats Unis\n",
            "eEaUi\n"
          ]
        }
      ]
    },
    {
      "cell_type": "code",
      "source": [
        "# Mission 5: Create a function that takes 2 numbers as parameters, and returns the result of a division operation. \n",
        "# Test if the denominator is equal to 0 and if so, display a message that says: \"You can't divide by zero\".\n",
        "\n",
        "\n",
        "def divisionFun(n1, n2):\n",
        "\n",
        "  if n2 != 0:\n",
        "    result = n1 / n2\n",
        "  else: \n",
        "    result = \"You can't divide by zero\"\n",
        "  return result\n",
        "\n",
        "number1 = 7\n",
        "number2 = 0\n",
        "\n",
        "divisionFun(number1, number2)\n",
        "  "
      ],
      "metadata": {
        "colab": {
          "base_uri": "https://localhost:8080/",
          "height": 35
        },
        "id": "IEUVkKgc0v3d",
        "outputId": "3b2deccd-93dd-4853-9520-661fe4bf4de4"
      },
      "execution_count": 5,
      "outputs": [
        {
          "output_type": "execute_result",
          "data": {
            "text/plain": [
              "\"You can't divide by zero\""
            ],
            "application/vnd.google.colaboratory.intrinsic+json": {
              "type": "string"
            }
          },
          "metadata": {},
          "execution_count": 5
        }
      ]
    },
    {
      "cell_type": "code",
      "source": [
        "# Mission 6: First, choose two arithmetical operations (such as +, -, *, or /)\n",
        "# Then, create a function that takes in 3 numbers as parameters and carries out those operations, displays a message indicating if the result is positive, negative or zero, and finally returns the result.\n",
        "# If a division by zero is attempted, display an error message.\n",
        "\n",
        "# Example with multiplication and addition: \n",
        "# Calling with 0, 32, 2 will compute (0*32)+2, will display \"Positive result\", and return 2\n",
        "\n",
        "# Example with division and addition:    \n",
        "# Calling with 21, 0, 3 will try to compute (21/0)+2, will display \"Divide-by-zero error\"\n",
        "\n",
        "def arithmet(n1, n2, n3):\n",
        "  if n3 != 0:\n",
        "    result1 = (n1*n2)/n3\n",
        "    if result1 > 0:\n",
        "      result = \"Positive result\"\n",
        "    elif result1 < 0:\n",
        "      result = \"Negative result\" \n",
        "    else:\n",
        "      result = \"Result is zero\"\n",
        "    return result, result1\n",
        "  else:\n",
        "    result = \"Divide-by-zero error\"\n",
        "    return result\n",
        "  \n",
        "\n",
        "number1 = 5\n",
        "number2 = 6\n",
        "number3 = 4\n",
        "\n",
        "arithmet(number1, number2, number3)"
      ],
      "metadata": {
        "colab": {
          "base_uri": "https://localhost:8080/"
        },
        "id": "hQxOiFaw00Zf",
        "outputId": "b3f196de-7a5e-4a5f-cdd2-f5fb46969c18"
      },
      "execution_count": 7,
      "outputs": [
        {
          "output_type": "execute_result",
          "data": {
            "text/plain": [
              "('Positive result', 7.5)"
            ]
          },
          "metadata": {},
          "execution_count": 7
        }
      ]
    },
    {
      "cell_type": "code",
      "source": [
        "# Mission 7: Create a function that takes a number as a parameter that corresponds to gross salary and returns the net salary for executives.\n",
        "# You can specify any amount of deductions, or base them on your country's example\n",
        "\n",
        "def netSalary(gross_salary):\n",
        "\n",
        "  result = gross_salary - (gross_salary*20)/100\n",
        "  return result\n",
        "\n",
        "print(netSalary(int(input(\"Enter a gross salary: \"))))"
      ],
      "metadata": {
        "colab": {
          "base_uri": "https://localhost:8080/"
        },
        "id": "5a8U7Pot05-K",
        "outputId": "2217b58a-34f5-4577-d66c-cc07ae68f2f7"
      },
      "execution_count": 8,
      "outputs": [
        {
          "output_type": "stream",
          "name": "stdout",
          "text": [
            "Enter a gross salary: 4000\n",
            "3200.0\n"
          ]
        }
      ]
    },
    {
      "cell_type": "code",
      "source": [
        "# Mission 8: Create a function that can swap the values of any two variables, such as if variable A = 1 and variable B = 2, after applying the function, variable A = 2 and B = 1\n",
        "\n",
        "def swap(n1, n2):\n",
        "\n",
        "  n1 = int(input(\"Variable A: \"))\n",
        "  n2 = int(input(\"Variable B: \"))\n",
        "  return (f\"Variable A = {n2} and Variable B = {n1}\")\n",
        "\n",
        "swap(n1, n2)\n"
      ],
      "metadata": {
        "colab": {
          "base_uri": "https://localhost:8080/",
          "height": 70
        },
        "id": "JXRDU1Zk0-fo",
        "outputId": "12235421-6692-4e57-a06c-7bd98b145d4a"
      },
      "execution_count": 9,
      "outputs": [
        {
          "name": "stdout",
          "output_type": "stream",
          "text": [
            "Variable A: 10\n",
            "Variable B: 5\n"
          ]
        },
        {
          "output_type": "execute_result",
          "data": {
            "text/plain": [
              "'Variable A = 5 and Variable B = 10'"
            ],
            "application/vnd.google.colaboratory.intrinsic+json": {
              "type": "string"
            }
          },
          "metadata": {},
          "execution_count": 9
        }
      ]
    }
  ]
}