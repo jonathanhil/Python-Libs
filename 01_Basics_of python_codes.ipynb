{
 "cells": [
  {
   "cell_type": "markdown",
   "metadata": {},
   "source": [
    "Introduction"
   ]
  },
  {
   "cell_type": "code",
   "execution_count": 13,
   "metadata": {},
   "outputs": [
    {
     "name": "stdout",
     "output_type": "stream",
     "text": [
      "Welcome to Oeson! 100 1.23 89\n"
     ]
    }
   ],
   "source": [
    "a = 'Welcome to Oeson!'\n",
    "b = 100\n",
    "c = 1.23\n",
    "d = 89\n",
    "print(a, b, c, d)\n"
   ]
  },
  {
   "cell_type": "code",
   "execution_count": 24,
   "metadata": {},
   "outputs": [
    {
     "name": "stdout",
     "output_type": "stream",
     "text": [
      "{'Name': ['Adam', 'Eve', 'Kevin'], 'E-Mail': ['Adam@gmail.com', 'Eve@gmail.com', 'Kevin@gmail.com']}\n"
     ]
    }
   ],
   "source": [
    "MyContacts= { 'Name' : [ 'Adam', 'Eve', 'Kevin' ] ,\n",
    "'E-Mail' : [ 'Adam@gmail.com', 'Eve@gmail.com' , 'Kevin@gmail.com'] }\n",
    "print (MyContacts)\n"
   ]
  },
  {
   "cell_type": "code",
   "execution_count": 15,
   "metadata": {},
   "outputs": [
    {
     "name": "stdout",
     "output_type": "stream",
     "text": [
      "('A', 'Doll', 'C', 'CAR', 'F')\n"
     ]
    }
   ],
   "source": [
    "a = ('A', 'Doll', 'C', 'CAR', \"F\")\n",
    "print(a)\n"
   ]
  },
  {
   "cell_type": "code",
   "execution_count": 16,
   "metadata": {},
   "outputs": [
    {
     "name": "stdout",
     "output_type": "stream",
     "text": [
      "26\n"
     ]
    }
   ],
   "source": [
    "a = 21\n",
    "b = 10\n",
    "c=5\n",
    "\n",
    "\n",
    "c+=a\n",
    "#c=c+a\n",
    "print (c)"
   ]
  },
  {
   "cell_type": "code",
   "execution_count": 17,
   "metadata": {},
   "outputs": [
    {
     "name": "stdout",
     "output_type": "stream",
     "text": [
      "c is greater\n"
     ]
    }
   ],
   "source": [
    "#NESTED IF\n",
    "a=10\n",
    "b=17 \n",
    "c=21\n",
    "if (a>b):\n",
    "    print(\"a is greater\")\n",
    "elif(b>c):\n",
    "    print(\" b is greater\")\n",
    "else:\n",
    "    print(\"c is greater\")\n",
    "    "
   ]
  },
  {
   "cell_type": "code",
   "execution_count": 18,
   "metadata": {},
   "outputs": [
    {
     "name": "stdout",
     "output_type": "stream",
     "text": [
      "{1, 2, 4, 5} {1, 5, 6, 7}\n"
     ]
    }
   ],
   "source": [
    "a={1,2,4,5}\n",
    "b={1,5,6,7}\n",
    "print(a,b)"
   ]
  },
  {
   "cell_type": "code",
   "execution_count": 19,
   "metadata": {},
   "outputs": [
    {
     "name": "stdout",
     "output_type": "stream",
     "text": [
      "similar\n"
     ]
    }
   ],
   "source": [
    "a=5\n",
    "b=5\n",
    "if a is b:\n",
    "    print('similar')\n",
    "if a is not b:\n",
    "    print('Not similar')\n",
    "    "
   ]
  },
  {
   "cell_type": "code",
   "execution_count": 20,
   "metadata": {},
   "outputs": [
    {
     "name": "stdout",
     "output_type": "stream",
     "text": [
      "1.4142135623730951\n"
     ]
    }
   ],
   "source": [
    "import math\n",
    "square_rt =math.sqrt\n",
    "print(square_rt(2))"
   ]
  },
  {
   "cell_type": "code",
   "execution_count": 21,
   "metadata": {},
   "outputs": [
    {
     "name": "stdout",
     "output_type": "stream",
     "text": [
      "0\n",
      "1\n",
      "4\n",
      "9\n",
      "16\n"
     ]
    }
   ],
   "source": [
    "count =1\n",
    "\n",
    "for i in range(5):\n",
    "    print(i*i)\n",
    "for j in range(0,i):\n",
    "    count=count+1"
   ]
  },
  {
   "cell_type": "code",
   "execution_count": 22,
   "metadata": {},
   "outputs": [
    {
     "name": "stdout",
     "output_type": "stream",
     "text": [
      "apple:banana:orange:strawberry:"
     ]
    }
   ],
   "source": [
    "a = ['apple','banana','orange', 'strawberry']\n",
    "for fruit in a:\n",
    "    print(fruit, end=':')"
   ]
  },
  {
   "cell_type": "code",
   "execution_count": 23,
   "metadata": {},
   "outputs": [
    {
     "name": "stdout",
     "output_type": "stream",
     "text": [
      "2\n",
      "5\n",
      "8\n",
      "11\n",
      "14\n"
     ]
    }
   ],
   "source": [
    "for x in range(2, 15,3):\n",
    "    print(x)"
   ]
  },
  {
   "cell_type": "code",
   "execution_count": null,
   "metadata": {},
   "outputs": [],
   "source": []
  }
 ],
 "metadata": {
  "kernelspec": {
   "display_name": "Python 3.9.12 ('base')",
   "language": "python",
   "name": "python3"
  },
  "language_info": {
   "codemirror_mode": {
    "name": "ipython",
    "version": 3
   },
   "file_extension": ".py",
   "mimetype": "text/x-python",
   "name": "python",
   "nbconvert_exporter": "python",
   "pygments_lexer": "ipython3",
   "version": "3.9.12"
  },
  "vscode": {
   "interpreter": {
    "hash": "58d65f9cbeb4ba92a0082d3d281553d9f6aeaba2d373f243b6482a64bfadfeed"
   }
  }
 },
 "nbformat": 4,
 "nbformat_minor": 4
}
