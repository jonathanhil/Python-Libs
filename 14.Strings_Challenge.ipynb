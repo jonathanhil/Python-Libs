{
  "nbformat": 4,
  "nbformat_minor": 0,
  "metadata": {
    "colab": {
      "provenance": [],
      "authorship_tag": "ABX9TyNzWBenZn+phOrru7d2Kj1I"
    },
    "kernelspec": {
      "name": "python3",
      "display_name": "Python 3"
    },
    "language_info": {
      "name": "python"
    }
  },
  "cells": [
    {
      "cell_type": "markdown",
      "source": [
        "# Mission 1\n",
        "\n",
        "Use the `len` method to display the length of the string named `s` below."
      ],
      "metadata": {
        "id": "oyW_EY8TPTyi"
      }
    },
    {
      "cell_type": "code",
      "source": [
        "s = \"Taumata whakatangihanga koauau o tamatea turi pukaka piki maungah oronuku pokai whenuaki tanatahu \"\n",
        "\n",
        "print(len(s))"
      ],
      "metadata": {
        "colab": {
          "base_uri": "https://localhost:8080/"
        },
        "id": "PB-Ul2urPape",
        "outputId": "1475607c-01c0-4c06-8d0a-55b1eb868437"
      },
      "execution_count": 1,
      "outputs": [
        {
          "output_type": "stream",
          "name": "stdout",
          "text": [
            "98\n"
          ]
        }
      ]
    },
    {
      "cell_type": "markdown",
      "source": [
        "Now, iterate on this string to count only non-space characters.\n",
        "\n",
        "Remember, using a `for` loop on a string will browse all the individual characters of it!"
      ],
      "metadata": {
        "id": "UeFcmX8UPiBO"
      }
    },
    {
      "cell_type": "code",
      "source": [
        "non_space_char = len(s) - s.count(\" \")\n",
        "print(non_space_char)"
      ],
      "metadata": {
        "colab": {
          "base_uri": "https://localhost:8080/"
        },
        "id": "hh7SlvIePkzG",
        "outputId": "55029988-f569-4588-9af9-e05c098ac655"
      },
      "execution_count": 2,
      "outputs": [
        {
          "output_type": "stream",
          "name": "stdout",
          "text": [
            "85\n"
          ]
        }
      ]
    },
    {
      "cell_type": "markdown",
      "source": [
        "# Mission 2\n",
        "\n",
        "Ask the user for a string, then for a character (we assume user input follows the rules). Then, display the positions, **starting with 1**, of all occurrences of the character within the string.\n",
        "\n",
        "For example, for the word \"welcome\" and for the character \"e\", the script will display:\n",
        "```\n",
        "position: 2\n",
        "position: 7\n",
        "```"
      ],
      "metadata": {
        "id": "K7vQ0fI-PpLm"
      }
    },
    {
      "cell_type": "code",
      "source": [
        "word = str(input(\"string : \"))\n",
        "char = str(input(\"character :\"))\n",
        "\n",
        "if char in (word):\n",
        "  res=0\n",
        "  for n in range (0, len(word)):\n",
        "    if word[n] == char:\n",
        "        res = n + 1\n",
        "        print(\"position:\", res)\n",
        "else:\n",
        "  print(\"No such character available in string\")"
      ],
      "metadata": {
        "colab": {
          "base_uri": "https://localhost:8080/"
        },
        "id": "zgBVSqQvPrvQ",
        "outputId": "aba1e635-880b-47e2-872c-9f517302b07f"
      },
      "execution_count": 3,
      "outputs": [
        {
          "output_type": "stream",
          "name": "stdout",
          "text": [
            "string : welcome\n",
            "character :e\n",
            "position: 2\n",
            "position: 7\n"
          ]
        }
      ]
    },
    {
      "cell_type": "markdown",
      "source": [
        "# Mission 3\n",
        "\n",
        "Ask the user for a string, then for an integer. Then, display the string repeated as many times as the given integer.\n",
        "\n",
        "For example, `badger` and `4` will display `badgerbadgerbadgerbadger`"
      ],
      "metadata": {
        "id": "X0Os7nprPzuk"
      }
    },
    {
      "cell_type": "code",
      "source": [
        "string = str(input(\"String:\"))\n",
        "integer = int(input(\"Integer:\"))\n",
        "\n",
        "result = \"\"\n",
        "for i in range (integer):\n",
        "  result += string\n",
        "print(result, end=\"\")"
      ],
      "metadata": {
        "colab": {
          "base_uri": "https://localhost:8080/"
        },
        "id": "2kpllioMP2g0",
        "outputId": "e77139ba-48bb-4624-944c-dc2d9a737059"
      },
      "execution_count": 5,
      "outputs": [
        {
          "output_type": "stream",
          "name": "stdout",
          "text": [
            "String:welcome\n",
            "Integer:4\n",
            "welcomewelcomewelcomewelcome"
          ]
        }
      ]
    },
    {
      "cell_type": "markdown",
      "source": [
        "# Mission 4\n",
        "\n",
        "Diplay the following string without including the spaces at the beginning and end. There's a `string` method that does exactly that, look at the documentation!"
      ],
      "metadata": {
        "id": "zQ2_DVRaQBY_"
      }
    },
    {
      "cell_type": "code",
      "source": [
        "s = \"   Data Analyst  \"\n",
        "\n",
        "# The function strip will remove whitespace from the beginning and end of a string.\n",
        "\n",
        "s.strip()"
      ],
      "metadata": {
        "colab": {
          "base_uri": "https://localhost:8080/",
          "height": 35
        },
        "id": "mShJ94PnQEjZ",
        "outputId": "da619ffa-a3f2-4268-9bb5-0c9324658b6d"
      },
      "execution_count": 6,
      "outputs": [
        {
          "output_type": "execute_result",
          "data": {
            "text/plain": [
              "'Data Analyst'"
            ],
            "application/vnd.google.colaboratory.intrinsic+json": {
              "type": "string"
            }
          },
          "metadata": {},
          "execution_count": 6
        }
      ]
    },
    {
      "cell_type": "markdown",
      "source": [
        "# Mission 5\n",
        "\n",
        "Ask the user for a string, then for a character, then for another character.\n",
        "\n",
        "Then, display the first string where the occurences of the first character are replaced by the second one."
      ],
      "metadata": {
        "id": "CjVNwHXqQJsD"
      }
    },
    {
      "cell_type": "code",
      "source": [
        "string = str(input(\"string : \"))\n",
        "char1 = str(input(\"character 1 :\"))\n",
        "char2 = str(input(\"character 2 :\"))\n",
        "\n",
        "print(string.replace(char1, char2))"
      ],
      "metadata": {
        "colab": {
          "base_uri": "https://localhost:8080/"
        },
        "id": "EACFJJO6QKln",
        "outputId": "977d4103-cc0a-4c8e-e822-468e7e272eaa"
      },
      "execution_count": 8,
      "outputs": [
        {
          "output_type": "stream",
          "name": "stdout",
          "text": [
            "string : hello\n",
            "character 1 :e\n",
            "character 2 :a\n",
            "hallo\n"
          ]
        }
      ]
    },
    {
      "cell_type": "markdown",
      "source": [
        "# Mission 6\n",
        "\n",
        "Ask the user for a string. Then, display the same string with all vowels converted to uppercase, and all consonants converted to lowercase."
      ],
      "metadata": {
        "id": "_yWkfXeeQc2D"
      }
    },
    {
      "cell_type": "code",
      "source": [
        "def toggle(phrase):   \n",
        "    answer = \"\"\n",
        "    for letter in phrase:\n",
        "        if letter not in \"aeiouAEIOU\":\n",
        "            answer = answer + letter.lower()\n",
        "        else:\n",
        "            answer = answer + letter.upper()\n",
        "    return answer\n",
        "\n",
        "print(toggle(input(\"Enter a phrase: \")))"
      ],
      "metadata": {
        "colab": {
          "base_uri": "https://localhost:8080/"
        },
        "id": "TDC0_LgJQdyK",
        "outputId": "f3c9fbff-2d07-4fd4-9c05-dbad25ef0303"
      },
      "execution_count": 9,
      "outputs": [
        {
          "output_type": "stream",
          "name": "stdout",
          "text": [
            "Enter a phrase: welcome\n",
            "wElcOmE\n"
          ]
        }
      ]
    }
  ]
}