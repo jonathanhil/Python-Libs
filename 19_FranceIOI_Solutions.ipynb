{
  "nbformat": 4,
  "nbformat_minor": 0,
  "metadata": {
    "colab": {
      "provenance": [],
      "authorship_tag": "ABX9TyM3dewh9xu8TKA6RdV2c5Ey",
      "include_colab_link": true
    },
    "kernelspec": {
      "name": "python3",
      "display_name": "Python 3"
    },
    "language_info": {
      "name": "python"
    }
  },
  "cells": [
    {
      "cell_type": "markdown",
      "metadata": {
        "id": "view-in-github",
        "colab_type": "text"
      },
      "source": [
        "<a href=\"https://colab.research.google.com/github/yunuserbas/Python_All/blob/main/19_FranceIOI_Solutions.ipynb\" target=\"_parent\"><img src=\"https://colab.research.google.com/assets/colab-badge.svg\" alt=\"Open In Colab\"/></a>"
      ]
    },
    {
      "cell_type": "code",
      "execution_count": null,
      "metadata": {
        "colab": {
          "base_uri": "https://localhost:8080/"
        },
        "id": "6EBuCd3keiRh",
        "outputId": "e35d2cdf-4df1-48d5-b773-8903d98c98e4"
      },
      "outputs": [
        {
          "output_type": "stream",
          "name": "stdout",
          "text": [
            "10\n",
            "20\n",
            "Surcharge !\n"
          ]
        }
      ],
      "source": [
        "nb_paquet = int(input())\n",
        "poid_paquet = int(input())\n",
        "\n",
        "poid_total = nb_paquet * poid_paquet\n",
        "\n",
        "if poid_total > 105:\n",
        "   print('Surcharge !')\n",
        "\n",
        "else :\n",
        "   print()"
      ]
    },
    {
      "cell_type": "code",
      "source": [
        "borne1 = int(input())\n",
        "borne2 = int(input())\n",
        "\n",
        "distance = borne1 - borne2\n",
        "if distance < 0:\n",
        "   résultat = borne2 - borne1\n",
        "   print(résultat)\n",
        "else: \n",
        "   print(distance)\n"
      ],
      "metadata": {
        "colab": {
          "base_uri": "https://localhost:8080/"
        },
        "id": "FaOuNTSIotjO",
        "outputId": "1e004b2e-6f44-446f-f288-8d5ba9adf21c"
      },
      "execution_count": null,
      "outputs": [
        {
          "output_type": "stream",
          "name": "stdout",
          "text": [
            "200\n",
            "199\n",
            "1\n"
          ]
        }
      ]
    },
    {
      "cell_type": "code",
      "source": [
        "heure_arrivee = int(input())\n",
        "\n",
        "prix = 10\n",
        "if heure_arrivee <= 12:\n",
        "    résultat = 5*heure_arrivee+prix\n",
        "    if résultat >= 53:\n",
        "        print(53)\n",
        "    else:\n",
        "        print(résultat)\n",
        "else:\n",
        "   print()\n",
        "          "
      ],
      "metadata": {
        "id": "Qe3IDrkqpYGV",
        "colab": {
          "base_uri": "https://localhost:8080/"
        },
        "outputId": "47d4a877-117d-436b-f4de-077115c11634"
      },
      "execution_count": null,
      "outputs": [
        {
          "output_type": "stream",
          "name": "stdout",
          "text": [
            "15\n",
            "\n"
          ]
        }
      ]
    },
    {
      "cell_type": "code",
      "source": [
        "superficieA=int(input())\n",
        "superficieE=int(input())\n",
        "\n",
        "if superficieA >= superficieE + 10:\n",
        "  print(\"La famille Arignon a un champ trop grand\")\n",
        "elif superficieE >= superficieA + 10:\n",
        "  print(\"La famille Evaran a un champ trop grand\")\n",
        "else:\n",
        "  print()\n"
      ],
      "metadata": {
        "colab": {
          "base_uri": "https://localhost:8080/"
        },
        "id": "mfUgh_JgZSio",
        "outputId": "242c6370-4c7b-43c9-8546-db57448b895f"
      },
      "execution_count": null,
      "outputs": [
        {
          "output_type": "stream",
          "name": "stdout",
          "text": [
            "30\n",
            "55\n",
            "La famille Evaran a un champ trop grand\n"
          ]
        }
      ]
    },
    {
      "cell_type": "code",
      "source": [
        "age = int(input())\n",
        "\n",
        "if age >= 21:\n",
        "  print('Tarif plein')\n",
        "else:\n",
        "  print('Tarif réduit')"
      ],
      "metadata": {
        "colab": {
          "base_uri": "https://localhost:8080/"
        },
        "id": "nHHXi8_Nbp-a",
        "outputId": "e3051623-afdd-40a3-f55c-e121c0e176de"
      },
      "execution_count": null,
      "outputs": [
        {
          "output_type": "stream",
          "name": "stdout",
          "text": [
            "20\n",
            "Tarif réduit\n"
          ]
        }
      ]
    },
    {
      "cell_type": "code",
      "source": [
        "dé1= int(input())\n",
        "dé2= int(input())\n",
        "\n",
        "somme = dé1 + dé2\n",
        "\n",
        "if somme >= 10:\n",
        "  print(\"Taxe spéciale !\")\n",
        "  print(36)\n",
        "else :\n",
        "  print(\"Taxe régulière\")\n",
        "  print(2*(dé1+dé2))"
      ],
      "metadata": {
        "colab": {
          "base_uri": "https://localhost:8080/"
        },
        "id": "whBmHwZieTkL",
        "outputId": "9ef9e8f9-2a9d-4dd9-e151-11a20e77ef63"
      },
      "execution_count": null,
      "outputs": [
        {
          "output_type": "stream",
          "name": "stdout",
          "text": [
            "6\n",
            "6\n",
            "Taxe spéciale !\n",
            "36\n"
          ]
        }
      ]
    },
    {
      "cell_type": "code",
      "source": [
        "nbMembres = int(input())\n",
        "totalMembre = nbMembres*2\n",
        "poidsÉquipe1 = 0\n",
        "poidsÉquipe2 = 0\n",
        "for loop in range (1, totalMembre+1):\n",
        "  jouer = int(input())\n",
        "  if loop % 2 != 0:\n",
        "    poidsÉquipe1 = poidsÉquipe1 + jouer\n",
        "  elif loop % 2 == 0:\n",
        "    poidsÉquipe2 = poidsÉquipe2 + jouer\n",
        "\n",
        "x = poidsÉquipe1\n",
        "y = poidsÉquipe2\n",
        "\n",
        "if x > y:\n",
        "  print(\"L'équipe 1 a un avantage\")\n",
        "  print(f\"Poids total pour l'équipe 1 : {x}\")\n",
        "  print(f\"Poids total pour l'équipe 2 : {y}\")\n",
        "elif y > x:\n",
        "  print(\"L'équipe 2 a un avantage\")\n",
        "  print(f\"Poids total pour l'équipe 1 : {x}\")\n",
        "  print(f\"Poids total pour l'équipe 2 : {y}\")\n",
        "\n",
        "\n"
      ],
      "metadata": {
        "colab": {
          "base_uri": "https://localhost:8080/"
        },
        "id": "aZmvhlSagtMI",
        "outputId": "949a4b77-ae30-4d3b-f065-4a0def655ebb"
      },
      "execution_count": null,
      "outputs": [
        {
          "output_type": "stream",
          "name": "stdout",
          "text": [
            "3\n",
            "10\n",
            "10\n",
            "5\n",
            "3\n",
            "10\n",
            "20\n",
            "L'équipe 2 a un avantage\n",
            "Poids total pour l'équipe 1 : 25\n",
            "Poids total pour l'équipe 2 : 33\n"
          ]
        }
      ]
    },
    {
      "cell_type": "code",
      "source": [
        "code_secret = int(input())\n",
        "\n",
        "if code_secret == 64741:\n",
        "  print(\"Bon festin!\")\n",
        "else:\n",
        "  print(\"Allez-vous en!\")"
      ],
      "metadata": {
        "colab": {
          "base_uri": "https://localhost:8080/"
        },
        "id": "gS851nijgvzi",
        "outputId": "fe152f2f-e2bc-48d3-cbff-186251a70dc3"
      },
      "execution_count": null,
      "outputs": [
        {
          "output_type": "stream",
          "name": "stdout",
          "text": [
            "64741\n",
            "Bon festin!\n"
          ]
        }
      ]
    },
    {
      "cell_type": "code",
      "source": [
        "nbVille = int(input())\n",
        "totalVille = 0\n",
        "for loop in range (nbVille):\n",
        "  habitant = int(input())\n",
        "  if habitant > 10000:\n",
        "    totalVille = totalVille + 1\n",
        "print(totalVille)\n",
        "\n"
      ],
      "metadata": {
        "colab": {
          "base_uri": "https://localhost:8080/"
        },
        "id": "Kork2Alsicbd",
        "outputId": "1c6f6c7d-7d64-481d-bcd5-181774442732"
      },
      "execution_count": null,
      "outputs": [
        {
          "output_type": "stream",
          "name": "stdout",
          "text": [
            "3\n",
            "2000000\n",
            "10\n",
            "20000000\n",
            "2\n"
          ]
        }
      ]
    },
    {
      "cell_type": "code",
      "source": [
        "positionActuelle = int(input())\n",
        "nbVillages = int(input())\n",
        "\n",
        "compte = 0\n",
        "for loop in range(nbVillages):\n",
        "  positionVillage = int(input())\n",
        "  if   positionActuelle - 50 <= positionVillage <= positionActuelle + 50:\n",
        "    compte +=1\n",
        "print(compte)\n"
      ],
      "metadata": {
        "colab": {
          "base_uri": "https://localhost:8080/"
        },
        "id": "g7dTbjdxOcGy",
        "outputId": "00c9075c-8c4f-4323-8ec5-d4f1cf5f01d7"
      },
      "execution_count": null,
      "outputs": [
        {
          "output_type": "stream",
          "name": "stdout",
          "text": [
            "120\n",
            "5\n",
            "30\n",
            "113\n",
            "115\n",
            "190\n",
            "200\n",
            "2\n"
          ]
        }
      ]
    },
    {
      "cell_type": "code",
      "source": [
        "nbJours = int(input())\n",
        "\n",
        "liste = []\n",
        "for loop in range(nbJours):\n",
        "  distance = int(input())\n",
        "  liste.append(distance)\n",
        "\n",
        "print(max(liste))\n",
        "\n",
        "\n"
      ],
      "metadata": {
        "colab": {
          "base_uri": "https://localhost:8080/"
        },
        "id": "agMBnQA8P_Kc",
        "outputId": "1c356e8d-8457-4724-de5c-9331c8ae8ef2"
      },
      "execution_count": null,
      "outputs": [
        {
          "output_type": "stream",
          "name": "stdout",
          "text": [
            "5\n",
            "20\n",
            "19\n",
            "23\n",
            "50\n",
            "31\n",
            "50\n"
          ]
        }
      ]
    },
    {
      "cell_type": "code",
      "source": [
        "totalNombre = int(input())\n",
        "\n",
        "montée = 0\n",
        "descendue = 0\n",
        "for loop in range(totalNombre):\n",
        "    altitude = int(input())\n",
        "    if altitude > 0:\n",
        "      montée = montée + altitude\n",
        "    elif altitude <= 0:\n",
        "      descendue = descendue + altitude\n",
        "      descendue1 = descendue*(-1)\n",
        "print(montée)\n",
        "print(descendue1)"
      ],
      "metadata": {
        "colab": {
          "base_uri": "https://localhost:8080/"
        },
        "id": "TUMfq-KzSmtG",
        "outputId": "59059c68-f2b5-4b88-e331-a4b74d6177dd"
      },
      "execution_count": null,
      "outputs": [
        {
          "output_type": "stream",
          "name": "stdout",
          "text": [
            "3\n",
            "-10\n",
            "10\n",
            "9\n",
            "19\n",
            "10\n"
          ]
        }
      ]
    },
    {
      "cell_type": "code",
      "source": [
        "hauteur = int(input())\n",
        "folioles = int(input())\n",
        "\n",
        "if hauteur <= 5 and folioles >= 8:\n",
        "  print(\"Tinuviel\" )\n",
        "elif hauteur >= 10 and folioles >= 10:\n",
        "  print(\"Calaelen\")\n",
        "elif hauteur <= 8 and folioles <= 5:\n",
        "  print(\"Falarion\") \n",
        "elif hauteur >= 12 and folioles <= 7:\n",
        "  print(\"Dorthonion\") "
      ],
      "metadata": {
        "colab": {
          "base_uri": "https://localhost:8080/"
        },
        "id": "RNta2yAuWS5Y",
        "outputId": "40d0fcae-f947-4649-a635-c8350eb0135a"
      },
      "execution_count": null,
      "outputs": [
        {
          "output_type": "stream",
          "name": "stdout",
          "text": [
            "4\n",
            "9\n",
            "Tinuviel\n"
          ]
        }
      ]
    },
    {
      "cell_type": "code",
      "source": [
        "age = int(input())\n",
        "poids = int(input())\n",
        "\n",
        "if age == 60:\n",
        "  print(0)\n",
        "elif age < 10:\n",
        "  print(5)\n",
        "elif 10 <= age and age != 60 and poids <= 20:\n",
        "  print(30)\n",
        "elif 10 <= age and age != 60 and poids > 20:\n",
        "  print(40)"
      ],
      "metadata": {
        "colab": {
          "base_uri": "https://localhost:8080/"
        },
        "id": "sz5Dh0R_YxAt",
        "outputId": "bf969e33-bcf6-4e77-94a7-493a8dd41607"
      },
      "execution_count": null,
      "outputs": [
        {
          "output_type": "stream",
          "name": "stdout",
          "text": [
            "6\n",
            "100\n",
            "5\n"
          ]
        }
      ]
    },
    {
      "cell_type": "code",
      "source": [
        "nbMaison = int(input())\n",
        "\n",
        "listeHorizontel = []\n",
        "listeVertical = []\n",
        "for loop in range (nbMaison):\n",
        "  horizontel = int(input())\n",
        "  vertical = int(input())\n",
        "  listeHorizontel.append(horizontel)\n",
        "  listeVertical.append(vertical)\n",
        "\n",
        "print(2*(max(listeHorizontel) - min(listeHorizontel)) + 2*(max(listeVertical) - min(listeVertical)))"
      ],
      "metadata": {
        "colab": {
          "base_uri": "https://localhost:8080/"
        },
        "id": "pYH3aSGimJqQ",
        "outputId": "7cd8c2a0-3cf7-4c06-cd77-a85fc5441aa1"
      },
      "execution_count": null,
      "outputs": [
        {
          "output_type": "stream",
          "name": "stdout",
          "text": [
            "5\n",
            "3\n",
            "9\n",
            "2\n",
            "18\n",
            "4\n",
            "5\n",
            "6\n",
            "10\n",
            "3\n",
            "7\n",
            "34\n"
          ]
        }
      ]
    },
    {
      "cell_type": "code",
      "source": [
        "nbMarchands = int(input())\n",
        "\n",
        "prixMin = int(input())\n",
        "pos = 1\n",
        "\n",
        "for posMarxhand in range (2, nbMarchands +1):\n",
        "  prix = int(input())\n",
        "  if prix <= prixMin:\n",
        "    prixMin = prix\n",
        "    pos = posMarxhand\n",
        "\n",
        "print(pos)\n",
        "  \n",
        "    "
      ],
      "metadata": {
        "id": "yFTqFwuyr_HB",
        "colab": {
          "base_uri": "https://localhost:8080/"
        },
        "outputId": "27844c5d-90f4-445a-cf41-62bec79510e6"
      },
      "execution_count": 49,
      "outputs": [
        {
          "output_type": "stream",
          "name": "stdout",
          "text": [
            "5\n",
            "4\n",
            "3\n",
            "3\n",
            "3\n",
            "4\n",
            "4\n"
          ]
        }
      ]
    }
  ]
}