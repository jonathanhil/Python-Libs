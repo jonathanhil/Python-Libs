{
 "cells": [
  {
   "cell_type": "markdown",
   "id": "c5404d49",
   "metadata": {},
   "source": [
    "## Arithmetic Operators"
   ]
  },
  {
   "cell_type": "markdown",
   "id": "82d54eee",
   "metadata": {},
   "source": [
    "They are used to perform numerical operations (addition, subtraction etc.). Below is the list of arithmetic operators that you will often use."
   ]
  },
  {
   "cell_type": "code",
   "execution_count": 3,
   "id": "7919f2f6",
   "metadata": {},
   "outputs": [
    {
     "data": {
      "text/plain": [
       "'maman'"
      ]
     },
     "execution_count": 3,
     "metadata": {},
     "output_type": "execute_result"
    }
   ],
   "source": [
    "# Concatenating two strings\n",
    "'mam' + 'an'"
   ]
  },
  {
   "cell_type": "code",
   "execution_count": 4,
   "id": "8808cecf",
   "metadata": {},
   "outputs": [
    {
     "data": {
      "text/plain": [
       "'papa'"
      ]
     },
     "execution_count": 4,
     "metadata": {},
     "output_type": "execute_result"
    }
   ],
   "source": [
    "# String repetition (with an integer only)\n",
    "'pa' * 2"
   ]
  },
  {
   "cell_type": "code",
   "execution_count": 16,
   "id": "07d7cc47",
   "metadata": {},
   "outputs": [
    {
     "data": {
      "text/plain": [
       "7"
      ]
     },
     "execution_count": 16,
     "metadata": {},
     "output_type": "execute_result"
    }
   ],
   "source": [
    "5 + 2"
   ]
  },
  {
   "cell_type": "code",
   "execution_count": 17,
   "id": "df12d0c8",
   "metadata": {},
   "outputs": [
    {
     "data": {
      "text/plain": [
       "3"
      ]
     },
     "execution_count": 17,
     "metadata": {},
     "output_type": "execute_result"
    }
   ],
   "source": [
    "5 - 2"
   ]
  },
  {
   "cell_type": "code",
   "execution_count": 18,
   "id": "bb6e8698",
   "metadata": {},
   "outputs": [
    {
     "data": {
      "text/plain": [
       "10"
      ]
     },
     "execution_count": 18,
     "metadata": {},
     "output_type": "execute_result"
    }
   ],
   "source": [
    "5 * 2"
   ]
  },
  {
   "cell_type": "code",
   "execution_count": 27,
   "id": "0d3e6e2e",
   "metadata": {},
   "outputs": [
    {
     "data": {
      "text/plain": [
       "2.5"
      ]
     },
     "execution_count": 27,
     "metadata": {},
     "output_type": "execute_result"
    }
   ],
   "source": [
    "#True Division\n",
    "\n",
    "5 / 2"
   ]
  },
  {
   "cell_type": "code",
   "execution_count": 28,
   "id": "2375ba6a",
   "metadata": {},
   "outputs": [
    {
     "data": {
      "text/plain": [
       "2"
      ]
     },
     "execution_count": 28,
     "metadata": {},
     "output_type": "execute_result"
    }
   ],
   "source": [
    "#Floor Division\n",
    "\n",
    "5 // 2"
   ]
  },
  {
   "cell_type": "code",
   "execution_count": 29,
   "id": "be0a806a",
   "metadata": {},
   "outputs": [
    {
     "data": {
      "text/plain": [
       "1"
      ]
     },
     "execution_count": 29,
     "metadata": {},
     "output_type": "execute_result"
    }
   ],
   "source": [
    "#Modulo (remainder)\n",
    "\n",
    "5 % 2"
   ]
  },
  {
   "cell_type": "code",
   "execution_count": 30,
   "id": "11c9361a",
   "metadata": {},
   "outputs": [
    {
     "data": {
      "text/plain": [
       "25"
      ]
     },
     "execution_count": 30,
     "metadata": {},
     "output_type": "execute_result"
    }
   ],
   "source": [
    "#Exponentiation\n",
    "\n",
    "5 ** 2"
   ]
  },
  {
   "cell_type": "code",
   "execution_count": 26,
   "id": "895b1eff",
   "metadata": {},
   "outputs": [
    {
     "data": {
      "text/plain": [
       "-7"
      ]
     },
     "execution_count": 26,
     "metadata": {},
     "output_type": "execute_result"
    }
   ],
   "source": [
    "-13 // 2"
   ]
  },
  {
   "cell_type": "markdown",
   "id": "dadeb358",
   "metadata": {},
   "source": [
    "## Comparison Operators"
   ]
  },
  {
   "cell_type": "markdown",
   "id": "9d23a350",
   "metadata": {},
   "source": [
    "They are used to compare values/variables, and the result is a boolean (True or False). Below is the list of comparison operators with examples in each case."
   ]
  },
  {
   "cell_type": "code",
   "execution_count": 5,
   "id": "6ccf56e1",
   "metadata": {},
   "outputs": [
    {
     "data": {
      "text/plain": [
       "False"
      ]
     },
     "execution_count": 5,
     "metadata": {},
     "output_type": "execute_result"
    }
   ],
   "source": [
    "9 < 4.5"
   ]
  },
  {
   "cell_type": "code",
   "execution_count": 6,
   "id": "49321e33",
   "metadata": {},
   "outputs": [
    {
     "data": {
      "text/plain": [
       "False"
      ]
     },
     "execution_count": 6,
     "metadata": {},
     "output_type": "execute_result"
    }
   ],
   "source": [
    "9 <= 4.5"
   ]
  },
  {
   "cell_type": "code",
   "execution_count": 7,
   "id": "993a9a00",
   "metadata": {},
   "outputs": [
    {
     "data": {
      "text/plain": [
       "True"
      ]
     },
     "execution_count": 7,
     "metadata": {},
     "output_type": "execute_result"
    }
   ],
   "source": [
    "9 > 4.5"
   ]
  },
  {
   "cell_type": "code",
   "execution_count": 8,
   "id": "80f86c07",
   "metadata": {},
   "outputs": [
    {
     "data": {
      "text/plain": [
       "True"
      ]
     },
     "execution_count": 8,
     "metadata": {},
     "output_type": "execute_result"
    }
   ],
   "source": [
    "9 >= 4.5"
   ]
  },
  {
   "cell_type": "code",
   "execution_count": 12,
   "id": "af2f7ccc",
   "metadata": {},
   "outputs": [
    {
     "data": {
      "text/plain": [
       "False"
      ]
     },
     "execution_count": 12,
     "metadata": {},
     "output_type": "execute_result"
    }
   ],
   "source": [
    "#Equal\n",
    "\n",
    "9 == 4.5"
   ]
  },
  {
   "cell_type": "code",
   "execution_count": 13,
   "id": "42cc36ff",
   "metadata": {},
   "outputs": [
    {
     "data": {
      "text/plain": [
       "True"
      ]
     },
     "execution_count": 13,
     "metadata": {},
     "output_type": "execute_result"
    }
   ],
   "source": [
    "#Different\n",
    "\n",
    "9 != 4.5"
   ]
  },
  {
   "cell_type": "code",
   "execution_count": 14,
   "id": "23656501",
   "metadata": {},
   "outputs": [
    {
     "name": "stderr",
     "output_type": "stream",
     "text": [
      "<>:1: SyntaxWarning: \"is\" with a literal. Did you mean \"==\"?\n",
      "<>:1: SyntaxWarning: \"is\" with a literal. Did you mean \"==\"?\n",
      "C:\\Users\\yunus\\AppData\\Local\\Temp\\ipykernel_12024\\1057093534.py:1: SyntaxWarning: \"is\" with a literal. Did you mean \"==\"?\n",
      "  9 is 4.5\n"
     ]
    },
    {
     "data": {
      "text/plain": [
       "False"
      ]
     },
     "execution_count": 14,
     "metadata": {},
     "output_type": "execute_result"
    }
   ],
   "source": [
    "9 is 4.5"
   ]
  },
  {
   "cell_type": "code",
   "execution_count": 15,
   "id": "4906ec24",
   "metadata": {},
   "outputs": [
    {
     "name": "stderr",
     "output_type": "stream",
     "text": [
      "<>:1: SyntaxWarning: \"is not\" with a literal. Did you mean \"!=\"?\n",
      "<>:1: SyntaxWarning: \"is not\" with a literal. Did you mean \"!=\"?\n",
      "C:\\Users\\yunus\\AppData\\Local\\Temp\\ipykernel_12024\\1882078175.py:1: SyntaxWarning: \"is not\" with a literal. Did you mean \"!=\"?\n",
      "  9 is not 4.5\n"
     ]
    },
    {
     "data": {
      "text/plain": [
       "True"
      ]
     },
     "execution_count": 15,
     "metadata": {},
     "output_type": "execute_result"
    }
   ],
   "source": [
    "9 is not 4.5"
   ]
  },
  {
   "cell_type": "markdown",
   "id": "5bb3e384",
   "metadata": {},
   "source": [
    "## Logical Operators"
   ]
  },
  {
   "cell_type": "markdown",
   "id": "f8026a71",
   "metadata": {},
   "source": [
    "As with comparison operators, when using a logical operator the result is a boolean. The three logical operators are: and, or, and not. The table below shows you some examples in each case."
   ]
  },
  {
   "cell_type": "code",
   "execution_count": 31,
   "id": "759e49e1",
   "metadata": {},
   "outputs": [
    {
     "data": {
      "text/plain": [
       "False"
      ]
     },
     "execution_count": 31,
     "metadata": {},
     "output_type": "execute_result"
    }
   ],
   "source": [
    "x = 12\n",
    "y = -32\n",
    "\n",
    "(x>0) and (y>0)"
   ]
  },
  {
   "cell_type": "code",
   "execution_count": 32,
   "id": "574041cf",
   "metadata": {},
   "outputs": [
    {
     "data": {
      "text/plain": [
       "True"
      ]
     },
     "execution_count": 32,
     "metadata": {},
     "output_type": "execute_result"
    }
   ],
   "source": [
    "x = 12\n",
    "y = -32\n",
    "\n",
    "(x>0) or (y>0)"
   ]
  },
  {
   "cell_type": "code",
   "execution_count": 33,
   "id": "657595b1",
   "metadata": {},
   "outputs": [
    {
     "data": {
      "text/plain": [
       "True"
      ]
     },
     "execution_count": 33,
     "metadata": {},
     "output_type": "execute_result"
    }
   ],
   "source": [
    "not (9<=4.5)"
   ]
  },
  {
   "cell_type": "markdown",
   "id": "c7fe094a",
   "metadata": {},
   "source": [
    "## Booleans"
   ]
  },
  {
   "cell_type": "markdown",
   "id": "5cca5618",
   "metadata": {},
   "source": [
    "Booleans have their own specific type in Python. Boolean variables can only take two values: True or False. While the world of logic is fascinating, you won't need much theory to use booleans in conditions."
   ]
  },
  {
   "cell_type": "code",
   "execution_count": 34,
   "id": "93d3ecbe",
   "metadata": {},
   "outputs": [
    {
     "name": "stdout",
     "output_type": "stream",
     "text": [
      "True\n"
     ]
    }
   ],
   "source": [
    "# Two variables are created\n",
    "\n",
    "a = 10\n",
    "b = 9\n",
    "\n",
    "# I can use an operator like '>' to see check whether a is higher than b. \n",
    "# The result of that comparison can be displayed using the print() function\n",
    "\n",
    "print(a > b)"
   ]
  },
  {
   "cell_type": "code",
   "execution_count": 36,
   "id": "d6033e78",
   "metadata": {},
   "outputs": [
    {
     "name": "stdout",
     "output_type": "stream",
     "text": [
      "True\n"
     ]
    }
   ],
   "source": [
    "result = (a > b)\n",
    "print(result)"
   ]
  },
  {
   "cell_type": "code",
   "execution_count": 37,
   "id": "799d4b17",
   "metadata": {},
   "outputs": [
    {
     "name": "stdout",
     "output_type": "stream",
     "text": [
      "<class 'bool'>\n"
     ]
    }
   ],
   "source": [
    "# I can also check and see that the variable *result* is a ... boolean of course!\n",
    "\n",
    "print(type(result))"
   ]
  },
  {
   "cell_type": "code",
   "execution_count": 38,
   "id": "bfffd68c",
   "metadata": {},
   "outputs": [
    {
     "name": "stdout",
     "output_type": "stream",
     "text": [
      "False\n"
     ]
    }
   ],
   "source": [
    "a = 8\n",
    "b = \"book\"\n",
    "\n",
    "print(a==b)"
   ]
  },
  {
   "cell_type": "markdown",
   "id": "c565fb6f",
   "metadata": {},
   "source": [
    "## Conditional Structure"
   ]
  },
  {
   "cell_type": "markdown",
   "id": "229d7696",
   "metadata": {},
   "source": [
    "There are three types of conditional structures that you will often use/see:"
   ]
  },
  {
   "cell_type": "markdown",
   "id": "a646d27e",
   "metadata": {},
   "source": [
    "- if"
   ]
  },
  {
   "cell_type": "markdown",
   "id": "fcb45c6a",
   "metadata": {},
   "source": [
    "- if...else"
   ]
  },
  {
   "cell_type": "markdown",
   "id": "e018cec3",
   "metadata": {},
   "source": [
    "- if...elif...else"
   ]
  },
  {
   "cell_type": "code",
   "execution_count": 40,
   "id": "fd5c4f99",
   "metadata": {},
   "outputs": [
    {
     "name": "stdout",
     "output_type": "stream",
     "text": [
      "The condition is not fulfilled\n"
     ]
    }
   ],
   "source": [
    "x = 10\n",
    "\n",
    "if x > 12:                                # condition (returns a boolean, True or False)\n",
    "  print(\"The condition is fulfilled\")\n",
    "else:                                     # here I tell what should be done if the condition is not fulfilled\n",
    "  print(\"The condition is not fulfilled\")"
   ]
  },
  {
   "cell_type": "code",
   "execution_count": 41,
   "id": "23a8b4de",
   "metadata": {},
   "outputs": [
    {
     "name": "stdout",
     "output_type": "stream",
     "text": [
      "2nd condition is fulfilled\n"
     ]
    }
   ],
   "source": [
    "x = 12\n",
    "\n",
    "if x > 12:                                # 1st condition\n",
    "  print(\"1st condition is fulfilled\")\n",
    "elif x == 12:\n",
    "  print(\"2nd condition is fulfilled\")     # 2nd condition\n",
    "else:                                     # If none of the two conditions are fulfilled then do what follows\n",
    "  print(\"None of the 2 conditions are fulfilled\")\n"
   ]
  },
  {
   "cell_type": "code",
   "execution_count": 42,
   "id": "b062fa72",
   "metadata": {},
   "outputs": [
    {
     "name": "stdout",
     "output_type": "stream",
     "text": [
      "Banana\n"
     ]
    }
   ],
   "source": [
    "if (5>10):\n",
    "    print(\"Tomato\")\n",
    "elif (8 != 9):\n",
    "    print(\"Banana\")\n",
    "else :\n",
    "    print(\"Apple\")"
   ]
  },
  {
   "cell_type": "code",
   "execution_count": 43,
   "id": "9eaf0acc",
   "metadata": {},
   "outputs": [
    {
     "name": "stdout",
     "output_type": "stream",
     "text": [
      "Adult\n"
     ]
    }
   ],
   "source": [
    "Age = 21\n",
    "\n",
    "if (Age < 12):\n",
    "  print(\"Kid\")\n",
    "elif(Age >= 12) and (Age < 21):\n",
    "  print(\"Teenager\")\n",
    "else:\n",
    "  print(\"Adult\")"
   ]
  },
  {
   "cell_type": "code",
   "execution_count": 44,
   "id": "6ab4a58f",
   "metadata": {},
   "outputs": [
    {
     "name": "stdout",
     "output_type": "stream",
     "text": [
      "Kid\n"
     ]
    }
   ],
   "source": [
    "Age = 12\n",
    "\n",
    "if not (Age != 12):\n",
    "    print(\"Kid\")\n",
    "else:\n",
    "    print(\"Other\")"
   ]
  },
  {
   "cell_type": "code",
   "execution_count": null,
   "id": "c85be85e",
   "metadata": {},
   "outputs": [],
   "source": [
    "lower_bound = int(input(\"enter the first value : \"))\n",
    "upper_bound = int(input(\"enter the second value : \"))\n",
    "x= int(input(\"your value: \"))\n",
    "\n",
    "lower = min(lower_bound, upper_bound)\n",
    "upper = max(lower_bound, upper_bound)\n",
    "\n",
    "if x > lower and x < upper:\n",
    "  print(x)\n",
    "elif x >= upper:\n",
    "  print(upper)\n",
    "else:\n",
    "  print(lower)"
   ]
  }
 ],
 "metadata": {
  "kernelspec": {
   "display_name": "Python 3 (ipykernel)",
   "language": "python",
   "name": "python3"
  },
  "language_info": {
   "codemirror_mode": {
    "name": "ipython",
    "version": 3
   },
   "file_extension": ".py",
   "mimetype": "text/x-python",
   "name": "python",
   "nbconvert_exporter": "python",
   "pygments_lexer": "ipython3",
   "version": "3.9.12"
  }
 },
 "nbformat": 4,
 "nbformat_minor": 5
}
