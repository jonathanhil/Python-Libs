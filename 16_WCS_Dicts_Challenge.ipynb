{
  "nbformat": 4,
  "nbformat_minor": 0,
  "metadata": {
    "colab": {
      "provenance": [],
      "authorship_tag": "ABX9TyOe+kK8S2Fru//aC0HOw/5E"
    },
    "kernelspec": {
      "name": "python3",
      "display_name": "Python 3"
    },
    "language_info": {
      "name": "python"
    }
  },
  "cells": [
    {
      "cell_type": "markdown",
      "source": [
        "# Mission 1\n",
        "\n",
        "Below is a dictionary containing the number of French campuses that offer each kind of Wild Code School course.\n",
        "\n",
        "wildcodeschool = {\n",
        "   \"data_analyst\": 4,\n",
        "   \"data_scientist\": 2,\n",
        "   \"dev_web\": \"13\" \n",
        "}\n",
        "\n",
        "Find a way to only display the keys that have int values."
      ],
      "metadata": {
        "id": "IbvOloKcSAep"
      }
    },
    {
      "cell_type": "code",
      "source": [
        "wildcodeschool =\t{\n",
        "  \"data_analyst\": 4,\n",
        "  \"data_scientist\": 2,\n",
        "  \"dev_web\": \"13\"\n",
        "}"
      ],
      "metadata": {
        "id": "ptu68Cc_SFlf"
      },
      "execution_count": null,
      "outputs": []
    },
    {
      "cell_type": "code",
      "source": [
        "for key, value in wildcodeschool.items():\n",
        "  if isinstance (value, int):\n",
        "     print(key)"
      ],
      "metadata": {
        "colab": {
          "base_uri": "https://localhost:8080/"
        },
        "id": "HB9wOaGuSMB6",
        "outputId": "b3a12078-acf1-49ae-f639-75906296b4b3"
      },
      "execution_count": null,
      "outputs": [
        {
          "output_type": "stream",
          "name": "stdout",
          "text": [
            "data_analyst\n",
            "data_scientist\n"
          ]
        }
      ]
    },
    {
      "cell_type": "markdown",
      "source": [
        "# Mission 2\n",
        "\n",
        "For the same dictionary, find a way to display all the values that have a key that contains the letter \"e\"."
      ],
      "metadata": {
        "id": "1_hbjZF6SPKx"
      }
    },
    {
      "cell_type": "code",
      "source": [
        "letter = 'e'\n",
        "for key, value in wildcodeschool.items():\n",
        "  if letter in key:\n",
        "    print(value)"
      ],
      "metadata": {
        "colab": {
          "base_uri": "https://localhost:8080/"
        },
        "id": "SHiCLUR5STqR",
        "outputId": "3d4dbe45-bf8e-4c45-fcb6-319970fe8b44"
      },
      "execution_count": null,
      "outputs": [
        {
          "output_type": "stream",
          "name": "stdout",
          "text": [
            "2\n",
            "13\n"
          ]
        }
      ]
    },
    {
      "cell_type": "markdown",
      "source": [
        "# Mission 3\n",
        "\n",
        "Within the same dictionary, change the type of the value of the \"dev_web\" key to be an int. Then add a new key-value pair which will be \"total_campus\" : 19, using a **dictionary method**."
      ],
      "metadata": {
        "id": "pmXuOaT-Sbdb"
      }
    },
    {
      "cell_type": "code",
      "source": [
        "wildcodeschool.update({\"dev_web\": 13})\n",
        "\n",
        "wildcodeschool[\"total_campus\"] = 19\n",
        "\n",
        "wildcodeschool.items()"
      ],
      "metadata": {
        "colab": {
          "base_uri": "https://localhost:8080/"
        },
        "id": "4ijoJUqxSmSf",
        "outputId": "338b4846-2af3-451a-d949-e99a5769cb9e"
      },
      "execution_count": null,
      "outputs": [
        {
          "output_type": "execute_result",
          "data": {
            "text/plain": [
              "dict_items([('data_analyst', 4), ('data_scientist', 2), ('dev_web', 13), ('total_campus', 19)])"
            ]
          },
          "metadata": {},
          "execution_count": 6
        }
      ]
    },
    {
      "cell_type": "markdown",
      "source": [
        "# Mission 4\n",
        "\n",
        "Take the dictionary generated from mission 3. Delete the key value pair :\n",
        "- 'dev_web': 13 using a method\n",
        "- 'total_campus': 19 using another method"
      ],
      "metadata": {
        "id": "NGXx8anIStKW"
      }
    },
    {
      "cell_type": "code",
      "source": [
        "del wildcodeschool[\"dev_web\"]"
      ],
      "metadata": {
        "id": "jHd5MMaeSvH6"
      },
      "execution_count": null,
      "outputs": []
    },
    {
      "cell_type": "code",
      "source": [
        "wildcodeschool.pop('total_campus')\n",
        "print(wildcodeschool)"
      ],
      "metadata": {
        "colab": {
          "base_uri": "https://localhost:8080/",
          "height": 184
        },
        "id": "o-D6U1S6S3hl",
        "outputId": "f7d56964-e825-40f7-8243-21a04a87e575"
      },
      "execution_count": null,
      "outputs": [
        {
          "output_type": "error",
          "ename": "KeyError",
          "evalue": "ignored",
          "traceback": [
            "\u001b[0;31m---------------------------------------------------------------------------\u001b[0m",
            "\u001b[0;31mKeyError\u001b[0m                                  Traceback (most recent call last)",
            "\u001b[0;32m<ipython-input-11-21f0a08bd0d8>\u001b[0m in \u001b[0;36m<module>\u001b[0;34m\u001b[0m\n\u001b[0;32m----> 1\u001b[0;31m \u001b[0mwildcodeschool\u001b[0m\u001b[0;34m.\u001b[0m\u001b[0mpop\u001b[0m\u001b[0;34m(\u001b[0m\u001b[0;34m'total_campus'\u001b[0m\u001b[0;34m)\u001b[0m\u001b[0;34m\u001b[0m\u001b[0;34m\u001b[0m\u001b[0m\n\u001b[0m\u001b[1;32m      2\u001b[0m \u001b[0mprint\u001b[0m\u001b[0;34m(\u001b[0m\u001b[0mwildcodeschool\u001b[0m\u001b[0;34m)\u001b[0m\u001b[0;34m\u001b[0m\u001b[0;34m\u001b[0m\u001b[0m\n",
            "\u001b[0;31mKeyError\u001b[0m: 'total_campus'"
          ]
        }
      ]
    },
    {
      "cell_type": "code",
      "source": [
        "wildcodeschool.items()"
      ],
      "metadata": {
        "colab": {
          "base_uri": "https://localhost:8080/"
        },
        "id": "rM4wFjSgTICd",
        "outputId": "15c7cd06-5c97-455a-feac-3d920486fbce"
      },
      "execution_count": null,
      "outputs": [
        {
          "output_type": "execute_result",
          "data": {
            "text/plain": [
              "dict_items([('data_analyst', 4), ('data_scientist', 2)])"
            ]
          },
          "metadata": {},
          "execution_count": 18
        }
      ]
    },
    {
      "cell_type": "markdown",
      "source": [
        "# Mission 5\n",
        "\n",
        "Still within the dictionary generated from Mission 3, find a way to display the dictionary keys in alphabetical order."
      ],
      "metadata": {
        "id": "AdgPKHlETm2d"
      }
    },
    {
      "cell_type": "code",
      "source": [
        "wildcodeschool.update({'web_dev': 13, 'total_campus': 19})\n",
        "\n",
        "# Creates a sorted dictionary (sorted by key)\n",
        "\n",
        "from collections import OrderedDict\n",
        "dict1 = OrderedDict(sorted(wildcodeschool.items()))\n",
        "print(dict1)"
      ],
      "metadata": {
        "colab": {
          "base_uri": "https://localhost:8080/"
        },
        "id": "5mvQKseoToUI",
        "outputId": "da942c0a-eae6-47aa-85d4-24e6b5268131"
      },
      "execution_count": null,
      "outputs": [
        {
          "output_type": "stream",
          "name": "stdout",
          "text": [
            "OrderedDict([('data_analyst', 4), ('data_scientist', 2), ('total_campus', 19), ('web_dev', 13)])\n"
          ]
        }
      ]
    },
    {
      "cell_type": "markdown",
      "source": [
        "# Mission 6\n",
        "\n",
        "Create a script that returns the same elements as the **values()** method, as a list.\n",
        "\n",
        "Example: for `{'a': 1, 'b': 2, 'c': 3}` it will create `[1, 2, 3]`"
      ],
      "metadata": {
        "id": "CoUu0nBbTz1B"
      }
    },
    {
      "cell_type": "code",
      "source": [
        "dict2 = {'a': 1, 'b': 2, 'c': 3}\n",
        "\n",
        "list = []\n",
        "for value in dict2.values():\n",
        "   list.append(value)\n",
        "print(list)"
      ],
      "metadata": {
        "colab": {
          "base_uri": "https://localhost:8080/"
        },
        "id": "V3S-ZXmaT2l_",
        "outputId": "9cba7ab5-f139-4673-e085-ae394033cc58"
      },
      "execution_count": null,
      "outputs": [
        {
          "output_type": "stream",
          "name": "stdout",
          "text": [
            "[1, 2, 3]\n"
          ]
        }
      ]
    }
  ]
}