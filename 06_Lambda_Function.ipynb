{
 "cells": [
  {
   "cell_type": "markdown",
   "id": "83884268",
   "metadata": {},
   "source": [
    "# Python Anonymous/Lambda Function"
   ]
  },
  {
   "cell_type": "code",
   "execution_count": 8,
   "id": "a186e54e",
   "metadata": {},
   "outputs": [
    {
     "name": "stdout",
     "output_type": "stream",
     "text": [
      "20\n"
     ]
    }
   ],
   "source": [
    "# lambda arguments : expression\n",
    "\n",
    "# add 15 to argument a, and return the result\n",
    "\n",
    "x = lambda a : a + 15\n",
    "print(x(5))"
   ]
  },
  {
   "cell_type": "code",
   "execution_count": 2,
   "id": "7d45a1e3",
   "metadata": {},
   "outputs": [
    {
     "name": "stdout",
     "output_type": "stream",
     "text": [
      "20\n"
     ]
    }
   ],
   "source": [
    "# multiply argument a with argument b and return the result\n",
    "\n",
    "x = lambda a, b : a*b\n",
    "print(x(4, 5))"
   ]
  },
  {
   "cell_type": "code",
   "execution_count": 3,
   "id": "005208e6",
   "metadata": {},
   "outputs": [
    {
     "name": "stdout",
     "output_type": "stream",
     "text": [
      "24\n"
     ]
    }
   ],
   "source": [
    "# summarize argument a, b and c and return the result\n",
    "\n",
    "x = lambda a, b, c : a+b+c\n",
    "print(x(7, 8, 9))"
   ]
  },
  {
   "cell_type": "code",
   "execution_count": 5,
   "id": "87f255ad",
   "metadata": {},
   "outputs": [
    {
     "name": "stdout",
     "output_type": "stream",
     "text": [
      "40\n"
     ]
    }
   ],
   "source": [
    "def myfunc(n):\n",
    "  return lambda a : a * n\n",
    "\n",
    "mydoubler = myfunc(2)\n",
    "\n",
    "print(mydoubler(20))"
   ]
  },
  {
   "cell_type": "code",
   "execution_count": 6,
   "id": "487bafe9",
   "metadata": {},
   "outputs": [
    {
     "name": "stdout",
     "output_type": "stream",
     "text": [
      "60\n"
     ]
    }
   ],
   "source": [
    "def myfunc(n):\n",
    "  return lambda a : a * n\n",
    "\n",
    "mytripler = myfunc(3)\n",
    "\n",
    "print(mytripler(20))"
   ]
  },
  {
   "cell_type": "code",
   "execution_count": 7,
   "id": "b2e5035f",
   "metadata": {},
   "outputs": [
    {
     "name": "stdout",
     "output_type": "stream",
     "text": [
      "40\n",
      "60\n"
     ]
    }
   ],
   "source": [
    "# using same function definition to make both functions in the same program\n",
    "\n",
    "def myfunc(n):\n",
    "  return lambda a : a * n\n",
    "\n",
    "mydoubler = myfunc(2)\n",
    "mytripler = myfunc(3)\n",
    "\n",
    "print(mydoubler(20))\n",
    "print(mytripler(20))"
   ]
  },
  {
   "cell_type": "markdown",
   "id": "9dd36006",
   "metadata": {},
   "source": [
    "### Example use with filter()"
   ]
  },
  {
   "cell_type": "code",
   "execution_count": 11,
   "id": "6beaea7a",
   "metadata": {},
   "outputs": [
    {
     "name": "stdout",
     "output_type": "stream",
     "text": [
      "[4, 6, 8, 12]\n"
     ]
    }
   ],
   "source": [
    "# Program to filter out only the even items from a list\n",
    "my_list = [1, 5, 4, 6, 8, 11, 3, 12]\n",
    "\n",
    "new_list = list(filter(lambda x: (x%2 == 0) , my_list))\n",
    "\n",
    "print(new_list)"
   ]
  },
  {
   "cell_type": "markdown",
   "id": "2edae7c0",
   "metadata": {},
   "source": [
    "### Example use with map()"
   ]
  },
  {
   "cell_type": "code",
   "execution_count": 12,
   "id": "2604f498",
   "metadata": {},
   "outputs": [
    {
     "name": "stdout",
     "output_type": "stream",
     "text": [
      "[2, 10, 8, 12, 16, 22, 6, 24]\n"
     ]
    }
   ],
   "source": [
    "# Program to double each item in a list using map()\n",
    "\n",
    "my_list = [1, 5, 4, 6, 8, 11, 3, 12]\n",
    "\n",
    "new_list = list(map(lambda x: x * 2 , my_list))\n",
    "\n",
    "print(new_list)"
   ]
  }
 ],
 "metadata": {
  "kernelspec": {
   "display_name": "Python 3 (ipykernel)",
   "language": "python",
   "name": "python3"
  },
  "language_info": {
   "codemirror_mode": {
    "name": "ipython",
    "version": 3
   },
   "file_extension": ".py",
   "mimetype": "text/x-python",
   "name": "python",
   "nbconvert_exporter": "python",
   "pygments_lexer": "ipython3",
   "version": "3.9.12"
  }
 },
 "nbformat": 4,
 "nbformat_minor": 5
}
